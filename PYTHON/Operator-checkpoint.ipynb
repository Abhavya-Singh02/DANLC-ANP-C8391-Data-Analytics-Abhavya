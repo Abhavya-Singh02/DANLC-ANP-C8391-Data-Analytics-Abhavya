{
 "cells": [
  {
   "cell_type": "markdown",
   "id": "8f90fe83-508d-4f98-ac2a-6ee5ab015bd6",
   "metadata": {},
   "source": [
    "### 1. Wap to check whether a number is negative or positive."
   ]
  },
  {
   "cell_type": "code",
   "execution_count": 3,
   "id": "c4c315a2-a94b-467c-8574-9c37b1a81dd7",
   "metadata": {},
   "outputs": [
    {
     "name": "stdin",
     "output_type": "stream",
     "text": [
      "Enter num: 4\n"
     ]
    },
    {
     "name": "stdout",
     "output_type": "stream",
     "text": [
      "Positive\n"
     ]
    }
   ],
   "source": [
    "num = int(input(\"Enter num:\"))\n",
    "result = \"Positive\" if num>0 else \"Negative\"\n",
    "print(result)"
   ]
  },
  {
   "cell_type": "markdown",
   "id": "5b6b6937-c36c-4b5f-9032-9bdb857b828d",
   "metadata": {},
   "source": [
    "### 2. Wap to check whether a character is  in lower case or upper case."
   ]
  },
  {
   "cell_type": "code",
   "execution_count": 33,
   "id": "7d3aa0f4-9247-49dc-9a3b-c987bc1b0f31",
   "metadata": {},
   "outputs": [
    {
     "name": "stdin",
     "output_type": "stream",
     "text": [
      "Enter a\n"
     ]
    },
    {
     "name": "stdout",
     "output_type": "stream",
     "text": [
      "Lower Case\n"
     ]
    }
   ],
   "source": [
    "char = input(\"Enter\")\n",
    "result = \"Upper Case\" if 65<=ord(char)<=90 else \"Lower Case\"\n",
    "print(result)"
   ]
  },
  {
   "cell_type": "markdown",
   "id": "bce83c64-02c9-4c82-8df7-4a05ca4e3063",
   "metadata": {},
   "source": [
    "### 3. Wap to check whether an year is leap or not."
   ]
  },
  {
   "cell_type": "code",
   "execution_count": 25,
   "id": "c17d3a07-e055-46d7-8c90-08764028464c",
   "metadata": {},
   "outputs": [
    {
     "name": "stdout",
     "output_type": "stream",
     "text": [
      "True\n"
     ]
    }
   ],
   "source": [
    "year = 2024\n",
    "result =True if (year%4==0) and (year%100!=0 or year%400==0) else False\n",
    "print(result)"
   ]
  },
  {
   "cell_type": "markdown",
   "id": "61c7c746-eff1-41c4-ac8f-9f3a1204455b",
   "metadata": {},
   "source": [
    "### 4. Wap to check whether a character is alphabet or not."
   ]
  },
  {
   "cell_type": "code",
   "execution_count": 35,
   "id": "ec23663c-fb40-4eed-8f4a-8b410916ac1c",
   "metadata": {},
   "outputs": [
    {
     "name": "stdin",
     "output_type": "stream",
     "text": [
      "Enter a\n"
     ]
    },
    {
     "name": "stdout",
     "output_type": "stream",
     "text": [
      "Alphabet\n"
     ]
    }
   ],
   "source": [
    "character = input(\"Enter\")\n",
    "result = \"Alphabet\" if (65<=ord(character)<=90) or (97<=ord(character)<=122) else \"Not Alphabet\"\n",
    "print(result)"
   ]
  },
  {
   "cell_type": "markdown",
   "id": "917cdac6-96ff-4ffd-a12d-8010bbc4d047",
   "metadata": {},
   "source": [
    "### 5. Wap to check a character and print whether it is an alphabet, number or Special character."
   ]
  },
  {
   "cell_type": "code",
   "execution_count": 42,
   "id": "0070a178-8e02-41ca-bca6-28036e1e1047",
   "metadata": {},
   "outputs": [
    {
     "name": "stdin",
     "output_type": "stream",
     "text": [
      "Enter 2\n"
     ]
    },
    {
     "name": "stdout",
     "output_type": "stream",
     "text": [
      "Number\n"
     ]
    }
   ],
   "source": [
    "chars = input(\"Enter\")\n",
    "result = \"Alphabet\" if (65<=ord(chars)<=90) or (97<=ord(chars)<=122) else \"Number\" if (48<=ord(chars)<=57) else \"Special Character\"\n",
    "print(result)"
   ]
  },
  {
   "cell_type": "code",
   "execution_count": 4,
   "id": "17db28bb-83b1-47db-b4a0-708511d6e9aa",
   "metadata": {},
   "outputs": [
    {
     "name": "stdin",
     "output_type": "stream",
     "text": [
      "Enter Basic Salary: 60000\n"
     ]
    },
    {
     "name": "stdout",
     "output_type": "stream",
     "text": [
      "Net Salary 69000.0\n",
      "Bonus:  17250.0\n"
     ]
    }
   ],
   "source": [
    "basicSalary = float(input(\"Enter Basic Salary:\"))\n",
    "da = 0.02*basicSalary\n",
    "ta = 0.03*basicSalary\n",
    "hra = 0.10*basicSalary\n",
    "pf = 0.15*basicSalary\n",
    "totalSalary = basicSalary + da + ta + hra + pf\n",
    "netSalary = totalSalary - pf\n",
    "print(\"Net Salary\",netSalary)\n",
    "bonus = 0.25*netSalary\n",
    "print(\"Bonus: \", bonus)"
   ]
  },
  {
   "cell_type": "code",
   "execution_count": null,
   "id": "94922b57-1d7b-4e77-bc59-e8706b956823",
   "metadata": {},
   "outputs": [],
   "source": []
  }
 ],
 "metadata": {
  "kernelspec": {
   "display_name": "Python 3 (ipykernel)",
   "language": "python",
   "name": "python3"
  },
  "language_info": {
   "codemirror_mode": {
    "name": "ipython",
    "version": 3
   },
   "file_extension": ".py",
   "mimetype": "text/x-python",
   "name": "python",
   "nbconvert_exporter": "python",
   "pygments_lexer": "ipython3",
   "version": "3.11.5"
  }
 },
 "nbformat": 4,
 "nbformat_minor": 5
}
