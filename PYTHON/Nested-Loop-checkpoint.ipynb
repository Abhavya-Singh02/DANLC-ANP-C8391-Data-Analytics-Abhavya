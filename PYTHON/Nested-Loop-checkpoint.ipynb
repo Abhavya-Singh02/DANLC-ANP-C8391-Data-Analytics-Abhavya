{
 "cells": [
  {
   "cell_type": "markdown",
   "id": "4e3e6b10-e1f1-4ba9-b946-af31aaf34e6b",
   "metadata": {},
   "source": [
    "### Wap to print first 10 prime numbers"
   ]
  },
  {
   "cell_type": "code",
   "execution_count": 55,
   "id": "6ea551f5-b734-4c72-8095-d005fb951b72",
   "metadata": {},
   "outputs": [
    {
     "name": "stdout",
     "output_type": "stream",
     "text": [
      "The first 10 prime numbers are:\n",
      "[2, 3, 5, 7, 11, 13, 17, 19, 23, 29]\n"
     ]
    }
   ],
   "source": [
    "import math\n",
    "def is_prime(number):\n",
    "    if number <= 1:\n",
    "        return False\n",
    "    for i in range(2, int(math.sqrt(number)) + 1):\n",
    "        if number % i == 0:\n",
    "            return False\n",
    "    return True\n",
    "\n",
    "primeNumbers = []\n",
    "number = 2 \n",
    "    \n",
    "while len(primeNumbers) < 10:\n",
    "    if is_prime(number):\n",
    "        primeNumbers.append(number)\n",
    "    number += 1\n",
    "    \n",
    "print(\"The first 10 prime numbers are:\")\n",
    "print(primeNumbers)"
   ]
  },
  {
   "cell_type": "markdown",
   "id": "662594bc-8bd9-4268-87f5-d24337bb00bf",
   "metadata": {},
   "source": [
    "### Wap to print all the Armstrong numbers between a given range."
   ]
  },
  {
   "cell_type": "code",
   "execution_count": 3,
   "id": "e8a6c32e-29c3-45cd-85e1-919d8b6cf3f5",
   "metadata": {},
   "outputs": [
    {
     "name": "stdin",
     "output_type": "stream",
     "text": [
      "Enter the start of the range:  1\n",
      "Enter the end of the range:  500\n"
     ]
    },
    {
     "name": "stdout",
     "output_type": "stream",
     "text": [
      "Armstrong numbers between 1 and 500:\n",
      "1 2 3 4 5 6 7 8 9 153 370 371 407 "
     ]
    }
   ],
   "source": [
    "start = int(input(\"Enter the start of the range: \"))\n",
    "end = int(input(\"Enter the end of the range: \"))\n",
    "\n",
    "\n",
    "\n",
    "print(f\"Armstrong numbers between {start} and {end}:\")\n",
    "\n",
    "for number in range(start, end + 1):\n",
    "    num_str = str(number)\n",
    "    num_digits = len(num_str)\n",
    "    sum_of_powers = 0\n",
    "\n",
    "    for digit in num_str:\n",
    "        sum_of_powers += int(digit) ** num_digits\n",
    "\n",
    "    if sum_of_powers == number:\n",
    "            print(number,end=\" \")\n"
   ]
  },
  {
   "cell_type": "markdown",
   "id": "30544b0f-261d-4b88-b8ad-4761b8185061",
   "metadata": {},
   "source": [
    "### Wap to print multiplication tables from a given range."
   ]
  },
  {
   "cell_type": "code",
   "execution_count": 57,
   "id": "ca8a2046-4091-483c-b5e6-5821196908bb",
   "metadata": {},
   "outputs": [
    {
     "name": "stdin",
     "output_type": "stream",
     "text": [
      "Enter start number:  2\n",
      "Enter end number:  5\n"
     ]
    },
    {
     "name": "stdout",
     "output_type": "stream",
     "text": [
      "2 \t  3 \t  4 \t  5 \t  \n",
      "4 \t  6 \t  8 \t  10 \t  \n",
      "6 \t  9 \t  12 \t  15 \t  \n",
      "8 \t  12 \t  16 \t  20 \t  \n",
      "10 \t  15 \t  20 \t  25 \t  \n",
      "12 \t  18 \t  24 \t  30 \t  \n",
      "14 \t  21 \t  28 \t  35 \t  \n",
      "16 \t  24 \t  32 \t  40 \t  \n",
      "18 \t  27 \t  36 \t  45 \t  \n",
      "20 \t  30 \t  40 \t  50 \t  \n"
     ]
    }
   ],
   "source": [
    "start = int(input(\"Enter start number: \"))\n",
    "end = int(input(\"Enter end number: \"))\n",
    "for j in range(1, 10+1):\n",
    "    for i in range(start, end+1):\n",
    "        print(i*j,\"\\t\", end=\"  \")\n",
    "    print()"
   ]
  },
  {
   "cell_type": "markdown",
   "id": "56aaa057-3f64-49c2-9483-b3b794d64fdd",
   "metadata": {},
   "source": [
    "### Create Following Patterns using functions in a single program\n",
    "#### 1\n",
    "#### 22\n",
    "#### 333\n",
    "#### 4444\n",
    "#### 55555"
   ]
  },
  {
   "cell_type": "code",
   "execution_count": 58,
   "id": "db2ab2e9-8b44-4056-b382-665c63f65cc4",
   "metadata": {},
   "outputs": [
    {
     "name": "stdin",
     "output_type": "stream",
     "text": [
      "Enter the value of n:  5\n"
     ]
    },
    {
     "name": "stdout",
     "output_type": "stream",
     "text": [
      " \n",
      "1  \n",
      "2 2  \n",
      "3 3 3  \n",
      "4 4 4 4  \n",
      "5 5 5 5 5  \n"
     ]
    }
   ],
   "source": [
    "def pattern1(n):\n",
    "    for i in range(n+1):\n",
    "        for j in range(i):\n",
    "            print(i, end=\" \")\n",
    "        print(\" \")\n",
    "\n",
    "\n",
    "n = int(input(\"Enter the value of n: \")) \n",
    "pattern1(n)    "
   ]
  },
  {
   "cell_type": "markdown",
   "id": "0fb56a86-fd42-4838-b228-7e1c83e03b6c",
   "metadata": {},
   "source": [
    "### 2nd Pattern - Half Pyramid\n"
   ]
  },
  {
   "cell_type": "code",
   "execution_count": 3,
   "id": "80f9ef2a-3365-4927-ba18-4c191eca5cb8",
   "metadata": {},
   "outputs": [
    {
     "name": "stdin",
     "output_type": "stream",
     "text": [
      "Enter the value of n:  5\n"
     ]
    },
    {
     "name": "stdout",
     "output_type": "stream",
     "text": [
      "1  \n",
      "1 2  \n",
      "1 2 3  \n",
      "1 2 3 4  \n",
      "1 2 3 4 5  \n"
     ]
    }
   ],
   "source": [
    "def pattern2(n):\n",
    "    for i in range(1,n+1):\n",
    "        for j in range(1,i+1):\n",
    "            print(j, end = \" \")\n",
    "        print(\" \")\n",
    "\n",
    "n = int(input(\"Enter the value of n: \")) \n",
    "pattern2(n)"
   ]
  },
  {
   "cell_type": "markdown",
   "id": "778f4ced-b957-4318-ae1e-79726dfe7cc5",
   "metadata": {},
   "source": [
    "### 3rd Pattern"
   ]
  },
  {
   "cell_type": "code",
   "execution_count": 4,
   "id": "bf175a1e-041e-411a-ba98-13a261280a04",
   "metadata": {},
   "outputs": [
    {
     "name": "stdin",
     "output_type": "stream",
     "text": [
      "Enter the value of n:  5\n"
     ]
    },
    {
     "name": "stdout",
     "output_type": "stream",
     "text": [
      "1   \n",
      "2  3   \n",
      "4  5  6   \n",
      "7  8  9  10   \n",
      "11  12  13  14  15   \n"
     ]
    }
   ],
   "source": [
    "def pattern3(n):\n",
    "    number = 1\n",
    "    for i in range(1, n+1):\n",
    "        for j in range(i):\n",
    "            print(number,\" \", end=\"\")\n",
    "            number +=1\n",
    "        print(\" \")\n",
    "\n",
    "n = int(input(\"Enter the value of n: \")) \n",
    "pattern3(n)"
   ]
  },
  {
   "cell_type": "markdown",
   "id": "5ee42461-e034-42ef-9ffe-f3410da4ad12",
   "metadata": {},
   "source": [
    "### 4th Pattern"
   ]
  },
  {
   "cell_type": "code",
   "execution_count": 5,
   "id": "b60d7d46-4ba5-433a-8eba-5eedf8e522ac",
   "metadata": {},
   "outputs": [
    {
     "name": "stdin",
     "output_type": "stream",
     "text": [
      "Enter the value of n:  5\n"
     ]
    },
    {
     "name": "stdout",
     "output_type": "stream",
     "text": [
      "1                    1  \n",
      "2 1                1 2  \n",
      "3 2 1            1 2 3  \n",
      "4 3 2 1        1 2 3 4  \n",
      "5 4 3 2 1    1 2 3 4 5  \n"
     ]
    }
   ],
   "source": [
    "def pattern4(n):\n",
    "    for i in range(1, n+1):\n",
    "        number = i\n",
    "        for j  in range(i):\n",
    "            print(number, end=\" \")\n",
    "            number -= 1\n",
    "\n",
    "        for j in range(1, 4*(n-i+1)):\n",
    "            print(\" \", end=\"\")\n",
    "\n",
    "        for j in range(1, i+1):\n",
    "            print(j, end=\" \")\n",
    "        print(\" \")\n",
    "\n",
    "n = int(input(\"Enter the value of n: \")) \n",
    "pattern4(n)"
   ]
  },
  {
   "cell_type": "markdown",
   "id": "6f5fb52f-bda6-4eba-ad53-5664c06075d3",
   "metadata": {},
   "source": [
    "### 5th "
   ]
  },
  {
   "cell_type": "code",
   "execution_count": 92,
   "id": "8bf55421-6e8b-4950-9531-7951d6151d8b",
   "metadata": {},
   "outputs": [
    {
     "name": "stdin",
     "output_type": "stream",
     "text": [
      "Enter the value of n:  5\n"
     ]
    },
    {
     "name": "stdout",
     "output_type": "stream",
     "text": [
      "5 4 3 2 1   1 2 3 4 5 \n",
      "4 3 2 1       1 2 3 4 \n",
      "3 2 1           1 2 3 \n",
      "2 1               1 2 \n",
      "1                   1 \n"
     ]
    }
   ],
   "source": [
    "def pattern5(n):\n",
    "    space = 1\n",
    "\n",
    "    for i in range(1, n + 1):\n",
    "        for j in range(n-i+1, 0, -1):\n",
    "            print(j, end=\" \")\n",
    "    \n",
    "        for j in range(space):\n",
    "            print(\" \", end=\" \")\n",
    "    \n",
    "        space += 2\n",
    "    \n",
    "        for j in range(1, n + 2 - i):\n",
    "            print(j, end=\" \")\n",
    "    \n",
    "        print()\n",
    "n = int(input(\"Enter the value of n: \")) \n",
    "pattern5(n)"
   ]
  },
  {
   "cell_type": "markdown",
   "id": "d6c588b0-c55d-4fa9-886c-d00cb47d104c",
   "metadata": {},
   "source": [
    "### 6th pattern"
   ]
  },
  {
   "cell_type": "code",
   "execution_count": 7,
   "id": "a2dfbe89-8938-4f60-b89f-c8bc2855d99a",
   "metadata": {},
   "outputs": [
    {
     "name": "stdin",
     "output_type": "stream",
     "text": [
      "Enter the value of n:  5\n"
     ]
    },
    {
     "name": "stdout",
     "output_type": "stream",
     "text": [
      "          1  \n",
      "        1 2 1  \n",
      "      1 2 3 2 1  \n",
      "    1 2 3 4 3 2 1  \n",
      "  1 2 3 4 5 4 3 2 1  \n",
      "    1 2 3 4 3 2 1  \n",
      "      1 2 3 2 1  \n",
      "        1 2 1  \n",
      "          1  \n"
     ]
    }
   ],
   "source": [
    "def pattern6(n):\n",
    "    for i in range(1, n+1):\n",
    "        for j in range((n-i)+1):\n",
    "            print(\" \", end=\" \")\n",
    "\n",
    "        for j in range(1,i+1):\n",
    "            print(j, end=\" \")\n",
    "\n",
    "        for j in range(i-1,0,-1):\n",
    "            print(j,end=\" \")\n",
    "        \n",
    "        print(\" \")\n",
    "\n",
    "\n",
    "    for i in range(2, n+1):\n",
    "        for j in range(i):\n",
    "            print(\" \", end=\" \")\n",
    "\n",
    "        for j in range(1, (n-i)+2):\n",
    "             print(j, end=\" \")\n",
    "\n",
    "        for j in range(n-i, 0, -1):\n",
    "            print(j,end=\" \")\n",
    "        print(\" \")\n",
    "\n",
    "n = int(input(\"Enter the value of n: \"))\n",
    "pattern6(n)"
   ]
  },
  {
   "cell_type": "markdown",
   "id": "ccb42d04-7c1a-4a54-9256-7fb2f41d1626",
   "metadata": {},
   "source": [
    "### 7th pattern"
   ]
  },
  {
   "cell_type": "code",
   "execution_count": 86,
   "id": "8a074316-cfdb-466e-be0f-00698f3355c9",
   "metadata": {},
   "outputs": [
    {
     "name": "stdin",
     "output_type": "stream",
     "text": [
      "Enter the value of n:  5\n"
     ]
    },
    {
     "name": "stdout",
     "output_type": "stream",
     "text": [
      "          5 \n",
      "        5 4 5 \n",
      "      5 4 3 4 5 \n",
      "    5 4 3 2 3 4 5 \n",
      "  5 4 3 2 1 2 3 4 5 \n",
      "    5 4 3 2 3 4 5  \n",
      "      5 4 3 4 5  \n",
      "        5 4 5  \n",
      "          5  \n",
      "             \n"
     ]
    }
   ],
   "source": [
    "def pattern7(n):\n",
    "    for i in range(1, n+1):\n",
    "        for j in range((n-i)+1):\n",
    "            print(\" \", end=\" \")\n",
    "\n",
    "        for j in range(n, n-i, -1):\n",
    "            print(j, end=\" \")\n",
    "\n",
    "    \n",
    "        for j in range(n-i+2,n+1):\n",
    "            print(j,end=\" \")\n",
    "        print()\n",
    "\n",
    "\n",
    "    for i in range(1, n+1):\n",
    "        for j in range(i+1):\n",
    "            print(\" \", end=\" \")\n",
    "\n",
    "        for j in range(n, i, -1):\n",
    "            print(j,end=\" \")\n",
    "\n",
    "        for j in range(i+2, n+1):\n",
    "            print(j,end=\" \")\n",
    "        print(\" \")\n",
    "\n",
    "n = int(input(\"Enter the value of n: \"))\n",
    "pattern7(n)"
   ]
  },
  {
   "cell_type": "markdown",
   "id": "8ca4975f-222d-4414-8f6e-385da864f95e",
   "metadata": {},
   "source": [
    "### 8th pattern"
   ]
  },
  {
   "cell_type": "code",
   "execution_count": null,
   "id": "815bb66b-77ff-4a6b-9f73-1f548b087372",
   "metadata": {},
   "outputs": [],
   "source": []
  },
  {
   "cell_type": "markdown",
   "id": "e330179c-a712-44c0-bf0b-0542231fae91",
   "metadata": {},
   "source": [
    "### 9th pattern"
   ]
  },
  {
   "cell_type": "code",
   "execution_count": 109,
   "id": "04158aa3-b60d-46e1-9b6b-ca0480c78f38",
   "metadata": {},
   "outputs": [
    {
     "name": "stdin",
     "output_type": "stream",
     "text": [
      "Enter the value of n:  5\n"
     ]
    },
    {
     "name": "stdout",
     "output_type": "stream",
     "text": [
      "1 2 3 4 5   5 4 3 2 1 \n",
      "2 3 4 5       5 4 3 2 \n",
      "3 4 5           5 4 3 \n",
      "4 5               5 4 \n",
      "5                   5 \n"
     ]
    }
   ],
   "source": [
    "def pattern9(n):\n",
    "    space = 1\n",
    "    for i in range(1, n+1):\n",
    "        for j in range(i, n+1):\n",
    "            print(j,end=\" \")\n",
    "\n",
    "        for j in range(space):\n",
    "            print(\" \",end=\" \")\n",
    "        space+=2\n",
    "\n",
    "        for j in range(n, i-1, -1):\n",
    "            print(j,end=\" \")\n",
    "        print()\n",
    "\n",
    "n = int(input(\"Enter the value of n: \"))\n",
    "pattern9(n)    "
   ]
  },
  {
   "cell_type": "markdown",
   "id": "c15c08e8-4098-4b65-afcd-039f478a9de2",
   "metadata": {},
   "source": [
    "# 11. Inverted Half Pyramid"
   ]
  },
  {
   "cell_type": "code",
   "execution_count": 111,
   "id": "a96b496e-a7fc-403f-ae37-810557de3e22",
   "metadata": {},
   "outputs": [
    {
     "name": "stdin",
     "output_type": "stream",
     "text": [
      "Enter the value of n:  5\n"
     ]
    },
    {
     "name": "stdout",
     "output_type": "stream",
     "text": [
      "1 2 3 4 5  \n",
      "1 2 3 4  \n",
      "1 2 3  \n",
      "1 2  \n",
      "1  \n"
     ]
    }
   ],
   "source": [
    "def invertedHalfPyramid(n):\n",
    "    for i in range(1,n+1):\n",
    "        for j in range(1, n-i+2):\n",
    "            print(j,end=\" \")\n",
    "        print(\" \")\n",
    "\n",
    "n = int(input(\"Enter the value of n: \"))\n",
    "invertedHalfPyramid(n)"
   ]
  },
  {
   "cell_type": "markdown",
   "id": "e76b4d99-f24d-4758-b704-5ff1dfb34ce7",
   "metadata": {},
   "source": [
    "### 12 Hollow Half Pyramid"
   ]
  },
  {
   "cell_type": "code",
   "execution_count": 108,
   "id": "b049038d-0c9d-41ad-bd72-54c99d7b6479",
   "metadata": {},
   "outputs": [
    {
     "name": "stdin",
     "output_type": "stream",
     "text": [
      "Enter the value of n:  5\n"
     ]
    },
    {
     "name": "stdout",
     "output_type": "stream",
     "text": [
      "1  \n",
      "1 2  \n",
      "1   3  \n",
      "1     4  \n",
      "1 2 3 4 5  \n"
     ]
    }
   ],
   "source": [
    "def pattern2(n):\n",
    "    for i in range(1,n+1):\n",
    "        for j in range(1,i+1):\n",
    "            if(i==j or i==5 or j==1):\n",
    "                print(j, end = \" \")\n",
    "            else:\n",
    "                print(\" \",end=\" \")\n",
    "        print(\" \")\n",
    "\n",
    "n = int(input(\"Enter the value of n: \")) \n",
    "pattern2(n)"
   ]
  },
  {
   "cell_type": "markdown",
   "id": "b658aeac-2311-4617-849b-bcb4e3abab41",
   "metadata": {},
   "source": [
    "### 15. Full Pyrmid"
   ]
  },
  {
   "cell_type": "code",
   "execution_count": 133,
   "id": "c21355e7-fbff-4668-8156-2670376ad549",
   "metadata": {},
   "outputs": [
    {
     "name": "stdout",
     "output_type": "stream",
     "text": [
      "        1 \n",
      "      2 3 2 \n",
      "    3 4 5 4 3 \n",
      "  4 5 6 7 6 5 4 \n",
      "5 6 7 8 9 8 7 6 5 \n"
     ]
    }
   ],
   "source": [
    "n=5\n",
    "for i in range(1, n+1):\n",
    "    for j in range(n-1,i-1,-1):\n",
    "        print(\" \",end=\" \")\n",
    "\n",
    "    for j in range(i, 2*i):\n",
    "        print(j,end=\" \")\n",
    "\n",
    "    for j in range(2*i-2,i-1,-1):\n",
    "        print(j,end=\" \")\n",
    "    print()"
   ]
  },
  {
   "cell_type": "markdown",
   "id": "5583f63f-be96-46cd-9ed1-135a52ee4da1",
   "metadata": {},
   "source": [
    "### 16. Hollow full pyramid"
   ]
  },
  {
   "cell_type": "code",
   "execution_count": 144,
   "id": "0c953463-e09a-480a-8550-151c4227cda9",
   "metadata": {},
   "outputs": [
    {
     "name": "stdout",
     "output_type": "stream",
     "text": [
      "        1 \n",
      "      1   3 \n",
      "    1       5 \n",
      "  1           7 \n",
      "1 2 3 4 5 6 7 8 9 \n"
     ]
    }
   ],
   "source": [
    "n=5\n",
    "for i in range(1, n+1):\n",
    "    for j in range(n-i):\n",
    "        print(\" \",end=\" \")\n",
    "\n",
    "    for j in range(1, 2*i):\n",
    "        if i==n or j==1 or j==2*i-1:\n",
    "            print(j,end=\" \")\n",
    "        else:\n",
    "            print(\" \",end=\" \")\n",
    "    print()"
   ]
  },
  {
   "cell_type": "markdown",
   "id": "c12e9570-9d2d-482e-a3ca-3b2dd6e0f617",
   "metadata": {},
   "source": [
    "### 17. Hollow invert half pyramid"
   ]
  },
  {
   "cell_type": "code",
   "execution_count": 146,
   "id": "e9621983-535e-4de0-be6e-2ad0072cc5d7",
   "metadata": {},
   "outputs": [
    {
     "name": "stdin",
     "output_type": "stream",
     "text": [
      "Enter the value of n:  5\n"
     ]
    },
    {
     "name": "stdout",
     "output_type": "stream",
     "text": [
      "1 2 3 4 5  \n",
      "1     4  \n",
      "1   3  \n",
      "1 2  \n",
      "1  \n"
     ]
    }
   ],
   "source": [
    "def invertedHalfPyramid(n):\n",
    "    for i in range(1,n+1):\n",
    "        for j in range(1, n-i+2):\n",
    "            if j==1 or i ==1 or i+j==6:\n",
    "                print(j,end=\" \")\n",
    "            else:\n",
    "                print(\" \",end=\" \")\n",
    "        print(\" \")\n",
    "\n",
    "n = int(input(\"Enter the value of n: \"))\n",
    "invertedHalfPyramid(n)"
   ]
  },
  {
   "cell_type": "code",
   "execution_count": 2,
   "id": "86d6ca92-a4ce-4062-a55d-7798954f264e",
   "metadata": {},
   "outputs": [
    {
     "name": "stdin",
     "output_type": "stream",
     "text": [
      "Enter the value of n:  26\n"
     ]
    },
    {
     "name": "stdout",
     "output_type": "stream",
     "text": [
      "                                                  A \n",
      "                                                A B A \n",
      "                                              A B C B A \n",
      "                                            A B C D C B A \n",
      "                                          A B C D E D C B A \n",
      "                                        A B C D E F E D C B A \n",
      "                                      A B C D E F G F E D C B A \n",
      "                                    A B C D E F G H G F E D C B A \n",
      "                                  A B C D E F G H I H G F E D C B A \n",
      "                                A B C D E F G H I J I H G F E D C B A \n",
      "                              A B C D E F G H I J K J I H G F E D C B A \n",
      "                            A B C D E F G H I J K L K J I H G F E D C B A \n",
      "                          A B C D E F G H I J K L M L K J I H G F E D C B A \n",
      "                        A B C D E F G H I J K L M N M L K J I H G F E D C B A \n",
      "                      A B C D E F G H I J K L M N O N M L K J I H G F E D C B A \n",
      "                    A B C D E F G H I J K L M N O P O N M L K J I H G F E D C B A \n",
      "                  A B C D E F G H I J K L M N O P Q P O N M L K J I H G F E D C B A \n",
      "                A B C D E F G H I J K L M N O P Q R Q P O N M L K J I H G F E D C B A \n",
      "              A B C D E F G H I J K L M N O P Q R S R Q P O N M L K J I H G F E D C B A \n",
      "            A B C D E F G H I J K L M N O P Q R S T S R Q P O N M L K J I H G F E D C B A \n",
      "          A B C D E F G H I J K L M N O P Q R S T U T S R Q P O N M L K J I H G F E D C B A \n",
      "        A B C D E F G H I J K L M N O P Q R S T U V U T S R Q P O N M L K J I H G F E D C B A \n",
      "      A B C D E F G H I J K L M N O P Q R S T U V W V U T S R Q P O N M L K J I H G F E D C B A \n",
      "    A B C D E F G H I J K L M N O P Q R S T U V W X W V U T S R Q P O N M L K J I H G F E D C B A \n",
      "  A B C D E F G H I J K L M N O P Q R S T U V W X Y X W V U T S R Q P O N M L K J I H G F E D C B A \n",
      "A B C D E F G H I J K L M N O P Q R S T U V W X Y Z Y X W V U T S R Q P O N M L K J I H G F E D C B A \n"
     ]
    }
   ],
   "source": [
    "def characterPyramid(n):\n",
    "    for i in range(0, n):\n",
    "        for j in range(0, n-i-1):\n",
    "            print(\" \", end=\" \")\n",
    "        char = 'A'\n",
    "        breakpoint = (2*i)/2\n",
    "        for j in range(0, 2*i+1):\n",
    "            print(char, end=\" \")\n",
    "            if j < breakpoint:\n",
    "                char = chr(ord(char) + 1)\n",
    "            else:\n",
    "                char = chr(ord(char) - 1)\n",
    "        print()\n",
    "        \n",
    "n = int(input(\"Enter the value of n: \"))\n",
    "characterPyramid(n)"
   ]
  },
  {
   "cell_type": "code",
   "execution_count": 26,
   "id": "0034d918-0598-4071-8adb-bc4aad64b47a",
   "metadata": {},
   "outputs": [
    {
     "name": "stdout",
     "output_type": "stream",
     "text": [
      "                                                  A \n",
      "                                                A B \n",
      "                                              A B C \n",
      "                                            A B C D \n",
      "                                          A B C D E \n",
      "                                        A B C D E F \n",
      "                                      A B C D E F G \n",
      "                                    A B C D E F G H \n",
      "                                  A B C D E F G H I \n",
      "                                A B C D E F G H I J \n",
      "                              A B C D E F G H I J K \n",
      "                            A B C D E F G H I J K L \n",
      "                          A B C D E F G H I J K L M \n",
      "                        A B C D E F G H I J K L M N \n",
      "                      A B C D E F G H I J K L M N O \n",
      "                    A B C D E F G H I J K L M N O P \n",
      "                  A B C D E F G H I J K L M N O P Q \n",
      "                A B C D E F G H I J K L M N O P Q R \n",
      "              A B C D E F G H I J K L M N O P Q R S \n",
      "            A B C D E F G H I J K L M N O P Q R S T \n",
      "          A B C D E F G H I J K L M N O P Q R S T U \n",
      "        A B C D E F G H I J K L M N O P Q R S T U V \n",
      "      A B C D E F G H I J K L M N O P Q R S T U V W \n",
      "    A B C D E F G H I J K L M N O P Q R S T U V W X \n",
      "  A B C D E F G H I J K L M N O P Q R S T U V W X Y \n",
      "A B C D E F G H I J K L M N O P Q R S T U V W X Y Z \n"
     ]
    }
   ],
   "source": [
    "n = 26\n",
    "for i in range(0, n):\n",
    "    for j in range(0,n-i-1):\n",
    "        print(\" \",end=\" \")\n",
    "\n",
    "    char = \"A\"\n",
    "    for j in range(0, i+1):\n",
    "        print(char,end=\" \")\n",
    "        char = chr(ord(char)+1)\n",
    "    print()"
   ]
  },
  {
   "cell_type": "code",
   "execution_count": 14,
   "id": "2ddc9872-8ae6-44cc-900a-bd61f4e36193",
   "metadata": {},
   "outputs": [
    {
     "data": {
      "text/plain": [
       "65"
      ]
     },
     "execution_count": 14,
     "metadata": {},
     "output_type": "execute_result"
    }
   ],
   "source": [
    "ord(\"A\")"
   ]
  },
  {
   "cell_type": "code",
   "execution_count": null,
   "id": "430d5dea-1b68-497b-ae1e-440ef97caa12",
   "metadata": {},
   "outputs": [],
   "source": []
  }
 ],
 "metadata": {
  "kernelspec": {
   "display_name": "Python 3 (ipykernel)",
   "language": "python",
   "name": "python3"
  },
  "language_info": {
   "codemirror_mode": {
    "name": "ipython",
    "version": 3
   },
   "file_extension": ".py",
   "mimetype": "text/x-python",
   "name": "python",
   "nbconvert_exporter": "python",
   "pygments_lexer": "ipython3",
   "version": "3.11.5"
  }
 },
 "nbformat": 4,
 "nbformat_minor": 5
}
