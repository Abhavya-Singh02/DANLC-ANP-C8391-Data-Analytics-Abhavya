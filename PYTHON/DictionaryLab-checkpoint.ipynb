{
 "cells": [
  {
   "cell_type": "code",
   "execution_count": 5,
   "id": "87532968-8582-499c-bf9b-a9abc41bc852",
   "metadata": {},
   "outputs": [
    {
     "name": "stdout",
     "output_type": "stream",
     "text": [
      "------------------------------------------------------------------------------------------------------------------------------------\n",
      "1. Add New Employee\n",
      "2. Update an Employee\n",
      "3. Delete an Employee\n",
      "4. Search an Employee Record\n",
      "5. Sort records according to Name\n",
      "6. Exit\n",
      "Enter your choice:\n"
     ]
    },
    {
     "name": "stdin",
     "output_type": "stream",
     "text": [
      " 6\n"
     ]
    },
    {
     "name": "stdout",
     "output_type": "stream",
     "text": [
      "Good Bye!!\n"
     ]
    }
   ],
   "source": [
    "class DictionaryDemo:\n",
    "    # single dictionary\n",
    "    emp_list = {\"id\": 101, \"Name\": \"Kiran Singh\", \"Age\": 25}\n",
    "\n",
    "    # set of dictionaries in a list\n",
    "    emp_listx = [\n",
    "        {\"id\": 101, \"Name\": \"Kiran Singh\", \"Age\": 25},\n",
    "        {\"id\": 102, \"Name\": \"K Singh\", \"Age\": 23}\n",
    "    ]\n",
    "\n",
    "    # nested dictionary\n",
    "    emp_list1 = {\n",
    "        \"1\": {\"id\": 101, \"Name\": \"Kiran Singh\", \"Age\": 25},\n",
    "        \"2\": {\"id\": 102, \"Name\": \"K Singh\", \"Age\": 23}\n",
    "    }\n",
    "\n",
    "    def printdictionary(self):\n",
    "        print(self.emp_list)\n",
    "\n",
    "    def addelements(self):\n",
    "        key1 = input(\"Enter key value: \")\n",
    "        value1 = input(\"Enter value: \")\n",
    "\n",
    "        self.emp_list[key1] = value1\n",
    "        self.printdictionary()\n",
    "\n",
    "\n",
    "class Customer:\n",
    "    dd = DictionaryDemo()\n",
    "\n",
    "    def addnewemployee(self):\n",
    "        emp = {}\n",
    "        id = int(input(\"Enter id: \"))\n",
    "        name = input(\"Enter name: \")\n",
    "        age = int(input(\"Enter Age: \"))\n",
    "\n",
    "        emp.update({\"id\": id, \"Name\": name, \"Age\": age})\n",
    "        self.dd.emp_listx.append(emp)\n",
    "\n",
    "        self.display()\n",
    "\n",
    "    def display(self):\n",
    "        print(\"Employee records\")\n",
    "        for e in self.dd.emp_listx:\n",
    "            print(e)\n",
    "\n",
    "    def updateEmployee(self):\n",
    "        id = int(input(\"Enter id of employee: \"))\n",
    "        print(\"Select option:\")\n",
    "\n",
    "        while True:\n",
    "            print(\"1. To Edit Name\")\n",
    "            print(\"2. To Edit Age\")\n",
    "            print(\"3. To Exit\")\n",
    "            choice = int(input(\"Enter Choice: \"))\n",
    "\n",
    "            if choice == 1:\n",
    "                name = input(\"Enter Employee Name: \")\n",
    "                for empName in self.dd.emp_listx:\n",
    "                    if empName[\"id\"] == id:\n",
    "                        empName[\"Name\"] = name\n",
    "                        break\n",
    "                print(\"Name Updated\")\n",
    "                self.display()\n",
    "\n",
    "            elif choice == 2:\n",
    "                age = int(input(\"Enter Age: \"))\n",
    "                for empName in self.dd.emp_listx:\n",
    "                    if empName[\"id\"] == id:\n",
    "                        empName[\"Age\"] = age\n",
    "                        break\n",
    "                print(\"Age Updated\")\n",
    "                self.display()\n",
    "\n",
    "            elif choice == 3:\n",
    "                print(\"B Bye!!\")\n",
    "                break\n",
    "\n",
    "    def deleteEmployee(self):\n",
    "        id = int(input(\"Enter Employee id: \"))\n",
    "        if len(self.dd.emp_listx) == 0:\n",
    "            print(\"List is Empty\")\n",
    "            return\n",
    "\n",
    "        listLengthBefore = len(self.dd.emp_listx)\n",
    "        emp = [empData for empData in self.dd.emp_listx if empData[\"id\"] != id]\n",
    "\n",
    "        listLengthAfter = len(emp)\n",
    "\n",
    "        if listLengthBefore == listLengthAfter:\n",
    "            print(\"Record Not Found!!\")\n",
    "        else:\n",
    "            print(\"Record Found & Deleted Successfully!!\")\n",
    "\n",
    "        self.dd.emp_listx = emp\n",
    "        self.display()\n",
    "\n",
    "    def merge_sort(self, emp_list, key):\n",
    "        if len(emp_list) <= 1:\n",
    "            return emp_list\n",
    "\n",
    "        mid = len(emp_list) // 2\n",
    "        left_half = self.merge_sort(emp_list[:mid], key)\n",
    "        right_half = self.merge_sort(emp_list[mid:], key)\n",
    "\n",
    "        return self.merge(left_half, right_half, key)\n",
    "\n",
    "    def merge(self, left, right, key):\n",
    "        sorted_list = []\n",
    "        left_index, right_index = 0, 0\n",
    "\n",
    "        while left_index < len(left) and right_index < len(right):\n",
    "            if left[left_index][key] <= right[right_index][key]:\n",
    "                sorted_list.append(left[left_index])\n",
    "                left_index += 1\n",
    "            else:\n",
    "                sorted_list.append(right[right_index])\n",
    "                right_index += 1\n",
    "\n",
    "        sorted_list.extend(left[left_index:])\n",
    "        sorted_list.extend(right[right_index:])\n",
    "\n",
    "        return sorted_list\n",
    "\n",
    "    def sort_records_by_name(self):\n",
    "        self.dd.emp_listx = self.merge_sort(self.dd.emp_listx, 'Name')\n",
    "        print(\"Records sorted by Name:\")\n",
    "        self.display()\n",
    "\n",
    "    def menu(self):\n",
    "        while True:\n",
    "            print(\"------------------------------------------------------------------------------------------------------------------------------------\")\n",
    "            print(\"1. Add New Employee\")\n",
    "            print(\"2. Update an Employee\")\n",
    "            print(\"3. Delete an Employee\")\n",
    "            print(\"4. Search an Employee Record\")\n",
    "            print(\"5. Sort records according to Name\")\n",
    "            print(\"6. Exit\")\n",
    "            print(\"Enter your choice:\")\n",
    "            choice = int(input())\n",
    "\n",
    "            if choice == 1:\n",
    "                self.addnewemployee()\n",
    "            elif choice == 2:\n",
    "                self.updateEmployee()\n",
    "            elif choice == 3:\n",
    "                self.deleteEmployee()\n",
    "            elif choice == 4:\n",
    "                print(\"Search functionality not implemented.\")\n",
    "            elif choice == 5:\n",
    "                self.sort_records_by_name()\n",
    "            elif choice == 6:\n",
    "                print(\"Good Bye!!\")\n",
    "                break\n",
    "            else:\n",
    "                print(\"Wrong choice!!\")\n",
    "\n",
    "\n",
    "cc = Customer()\n",
    "cc.menu()\n"
   ]
  },
  {
   "cell_type": "markdown",
   "id": "19d769f2-e2ee-4cbd-9f9b-c82de0179bbc",
   "metadata": {},
   "source": [
    "1. Write a Python program and calculate the mean of the below dictionary.\r\n",
    "test_dict = {\"A\" : 6, \"B\" : 9, \"C\" : 5, \"D\" : 7, \"E\" : 4}"
   ]
  },
  {
   "cell_type": "code",
   "execution_count": 4,
   "id": "5c0d1a55-ea80-4b32-8480-39b0035102d2",
   "metadata": {},
   "outputs": [
    {
     "data": {
      "text/plain": [
       "6.2"
      ]
     },
     "execution_count": 4,
     "metadata": {},
     "output_type": "execute_result"
    }
   ],
   "source": [
    "test_dict = {\"A\" : 6, \"B\" : 9, \"C\" : 5, \"D\" : 7, \"E\" : 4}\n",
    "sum=0\n",
    "for value in test_dict.values():\n",
    "    sum +=value\n",
    "mean = sum/len(test_dict)\n",
    "mean"
   ]
  },
  {
   "cell_type": "markdown",
   "id": "2a1dd185-b2d7-44a1-9f32-6a315cd97cfd",
   "metadata": {},
   "source": [
    "2.Write a Python script to concatenate the following dictionaries to create a new one.\n",
    "Sample Dictionary :\n",
    "dic1={1:10, 2:20}\n",
    "dic2={3:30, 4:40}\n",
    "dic3={5:50,6:60}\n",
    "Expected Result : {1: 10, 2: 20, 3: 30, 4: 40, 5: 50, 6: 60}"
   ]
  },
  {
   "cell_type": "code",
   "execution_count": 6,
   "id": "e59541bc-d5ca-4c33-b717-9fd15b8356aa",
   "metadata": {},
   "outputs": [
    {
     "name": "stdout",
     "output_type": "stream",
     "text": [
      "{1: 10, 2: 20, 3: 30, 4: 40, 5: 50, 6: 60}\n"
     ]
    }
   ],
   "source": [
    "dic1 = {1: 10, 2: 20}\n",
    "dic2 = {3: 30, 4: 40}\n",
    "dic3 = {5: 50, 6: 60}\n",
    "\n",
    "merged = {}\n",
    "for d in (dic1, dic2, dic3):\n",
    "    merged.update(d)\n",
    "\n",
    "print(merged)\n"
   ]
  },
  {
   "cell_type": "code",
   "execution_count": 12,
   "id": "4776263c-7e7f-44f6-a084-73563bb05027",
   "metadata": {},
   "outputs": [
    {
     "data": {
      "text/plain": [
       "{1: 10, 2: 20, 3: 30, 4: 40, 5: 50, 6: 60}"
      ]
     },
     "execution_count": 12,
     "metadata": {},
     "output_type": "execute_result"
    }
   ],
   "source": [
    "result={}\n",
    "result.update(dic1)\n",
    "result.update(dic2)\n",
    "result.update(dic3)\n",
    "result"
   ]
  },
  {
   "cell_type": "markdown",
   "id": "4a797881-263c-4c7b-9e24-96c26498d6ac",
   "metadata": {},
   "source": [
    "3.Write a Python program to get the key, value and item in a dictionary.\n",
    "input:dict_num = {1: 10, 2: 20, 3: 30, 4: 40, 5: 50, 6: 60}\n",
    "\n"
   ]
  },
  {
   "cell_type": "code",
   "execution_count": 30,
   "id": "f6feb812-0d14-4054-bf9c-42965983164a",
   "metadata": {},
   "outputs": [
    {
     "name": "stdout",
     "output_type": "stream",
     "text": [
      " Key  Value\n",
      "   1     10\n",
      "   2     20\n",
      "   3     30\n",
      "   4     40\n",
      "   5     50\n",
      "   6     60\n"
     ]
    }
   ],
   "source": [
    "import pandas as pd\n",
    "dict_num = {1: 10, 2: 20, 3: 30, 4: 40, 5: 50, 6: 60}\n",
    "Data = {\"Key\": dict_num.keys(),\"Value\": dict_num.values()}\n",
    "df = pd.DataFrame(Data)\n",
    "\n",
    "print(df.to_string(index=False))\n"
   ]
  },
  {
   "cell_type": "code",
   "execution_count": 31,
   "id": "a9928aed-0b66-4e1e-9f1d-ee112b9d780b",
   "metadata": {},
   "outputs": [
    {
     "name": "stdout",
     "output_type": "stream",
     "text": [
      "Key Value\n",
      "1    10\n",
      "2    20\n",
      "3    30\n",
      "4    40\n",
      "5    50\n",
      "6    60\n"
     ]
    }
   ],
   "source": [
    "        \n",
    "#3.Write a Python program to get the key, value and item in a dictionary.\n",
    "\n",
    "dict_num = {1: 10, 2: 20, 3: 30, 4: 40, 5: 50, 6: 60}\n",
    "print(\"Key\",\"Value\")\n",
    "for key,value in dict_num.items():\n",
    "    \n",
    "    print(key,\"  \",value)\n"
   ]
  },
  {
   "cell_type": "markdown",
   "id": "9ec03ec9-ad04-474f-b81d-5b0ce421121f",
   "metadata": {},
   "source": [
    "4.Write a Python program to get the key, value and item in a dictionary.\r\n",
    "Input: input_dict = {1: 10, 2: 20, 3:None, 4: 40, 5: None, 6: 60}"
   ]
  },
  {
   "cell_type": "code",
   "execution_count": 26,
   "id": "5e018e31-3925-4cf5-8d2e-3ab5da9e9384",
   "metadata": {},
   "outputs": [
    {
     "name": "stdout",
     "output_type": "stream",
     "text": [
      "{1: 10, 2: 20, 4: 40, 6: 60}\n"
     ]
    }
   ],
   "source": [
    "dict_num = {1: 10, 2: 20, 3:None, 4: 40, 5: None, 6: 60}\n",
    "resultDict={}\n",
    "for key, value in dict_num.items():\n",
    "    if value != None:\n",
    "        resultDict[key]=value\n",
    "print(resultDict)"
   ]
  }
 ],
 "metadata": {
  "kernelspec": {
   "display_name": "Python 3 (ipykernel)",
   "language": "python",
   "name": "python3"
  },
  "language_info": {
   "codemirror_mode": {
    "name": "ipython",
    "version": 3
   },
   "file_extension": ".py",
   "mimetype": "text/x-python",
   "name": "python",
   "nbconvert_exporter": "python",
   "pygments_lexer": "ipython3",
   "version": "3.11.5"
  }
 },
 "nbformat": 4,
 "nbformat_minor": 5
}
