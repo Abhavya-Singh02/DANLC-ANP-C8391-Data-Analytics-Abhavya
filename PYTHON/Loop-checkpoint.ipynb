{
 "cells": [
  {
   "cell_type": "markdown",
   "id": "c31faa94-1a18-4af8-b130-4048222028ba",
   "metadata": {},
   "source": [
    "### Q1 :  wap to print the following pattern(min 10 elements)\r",
    "      1 8 27 64 125 --------s."
   ]
  },
  {
   "cell_type": "code",
   "execution_count": 11,
   "id": "e9041d2d-9202-404c-9e61-055d15a015ba",
   "metadata": {},
   "outputs": [
    {
     "name": "stdin",
     "output_type": "stream",
     "text": [
      "Enter the number:  10\n"
     ]
    },
    {
     "name": "stdout",
     "output_type": "stream",
     "text": [
      "1 8 27 64 125 216 343 512 729 1000 "
     ]
    }
   ],
   "source": [
    "n = int(input(\"Enter the number: \"))\n",
    "\n",
    "for i in range(1, n+1):\n",
    "    print(pow(i,3), end=\" \")"
   ]
  },
  {
   "cell_type": "markdown",
   "id": "f1c0317f-8db6-497b-af9b-00854d29d63e",
   "metadata": {},
   "source": [
    "### Q2 : wap to find the sum of first 10 natural numbers."
   ]
  },
  {
   "cell_type": "code",
   "execution_count": 15,
   "id": "ed26d7b6-71ac-4779-bb51-f6ae4fa17908",
   "metadata": {},
   "outputs": [
    {
     "name": "stdin",
     "output_type": "stream",
     "text": [
      "Enter the number:  10\n"
     ]
    },
    {
     "name": "stdout",
     "output_type": "stream",
     "text": [
      "Sum of first 10 number is: 55\n"
     ]
    }
   ],
   "source": [
    "n1 = int(input(\"Enter the number: \"))\n",
    "sum = 0\n",
    "i = 0\n",
    "while i <= n1:\n",
    "    sum += i\n",
    "    i+=1\n",
    "print(f\"Sum of first {n1} number is: {sum}\")"
   ]
  },
  {
   "cell_type": "markdown",
   "id": "14351f5a-d47a-4761-8170-b77974fa2180",
   "metadata": {},
   "source": [
    "### Wap to input  10 numbers from user and find their sum and average."
   ]
  },
  {
   "cell_type": "code",
   "execution_count": 22,
   "id": "1b2541d9-6447-4044-835d-327b9e2e113d",
   "metadata": {},
   "outputs": [
    {
     "name": "stdin",
     "output_type": "stream",
     "text": [
      "Enter number:  4\n",
      "Enter number:  76\n",
      "Enter number:  9\n",
      "Enter number:  3\n",
      "Enter number:  5\n",
      "Enter number:  6\n",
      "Enter number:  7\n",
      "Enter number:  8\n",
      "Enter number:  2\n",
      "Enter number:  3\n"
     ]
    },
    {
     "name": "stdout",
     "output_type": "stream",
     "text": [
      "Sum: 123\n",
      "Average: 12.3\n"
     ]
    }
   ],
   "source": [
    "sum=0\n",
    "for i in range(10):\n",
    "    num1 = int(input(\"Enter number: \"))\n",
    "    sum += num1\n",
    "print(f\"Sum: {sum}\")\n",
    "average = sum/10\n",
    "print(f\"Average: {average}\")\n"
   ]
  },
  {
   "cell_type": "markdown",
   "id": "486122de-5b59-4b3d-8bbd-6beb1fde5251",
   "metadata": {},
   "source": [
    "### Wap to print the factorial of a number.\r\n",
    "### \r\n",
    "N=6  fact= 6*5*4*3*2*1"
   ]
  },
  {
   "cell_type": "code",
   "execution_count": 21,
   "id": "4ed6b645-9e53-4c7d-b793-4175fcf1d8ea",
   "metadata": {},
   "outputs": [
    {
     "name": "stdin",
     "output_type": "stream",
     "text": [
      "Enter a number:  3\n"
     ]
    },
    {
     "name": "stdout",
     "output_type": "stream",
     "text": [
      "factorial of 3 is 6\n"
     ]
    }
   ],
   "source": [
    "num = int(input(\"Enter a number: \"))\n",
    "fact = 1\n",
    "if( num == 0 or num == 1):\n",
    "    print(f\" factorial of {num} is 1\")\n",
    "\n",
    "for i in range(1, num+1):\n",
    "    fact = fact * i\n",
    "\n",
    "print(f\"factorial of {num} is {fact}\")"
   ]
  },
  {
   "cell_type": "markdown",
   "id": "3245da42-32a3-479f-84bd-d45cad31f18e",
   "metadata": {},
   "source": [
    "### Wap to print the sum of the series\r\n",
    "#### \r\n",
    "1  4 9 16 25 36 49 64"
   ]
  },
  {
   "cell_type": "code",
   "execution_count": 22,
   "id": "672ff098-6a16-4589-b4da-9fe4f10ff901",
   "metadata": {},
   "outputs": [
    {
     "name": "stdout",
     "output_type": "stream",
     "text": [
      "204\n"
     ]
    }
   ],
   "source": [
    "li = [1,4,9,16,25,36,49,64]\n",
    "\n",
    "sum = 0\n",
    "for i in li:\n",
    "    sum +=i\n",
    "print(sum)"
   ]
  },
  {
   "cell_type": "markdown",
   "id": "22773f2b-b264-4936-a9d9-1a93ee2f6ce8",
   "metadata": {},
   "source": [
    "### Wap to find the binary number of the given integer.\n",
    "\n"
   ]
  },
  {
   "cell_type": "code",
   "execution_count": 30,
   "id": "6f4f887f-0380-42cb-b832-f3356af8a717",
   "metadata": {},
   "outputs": [
    {
     "name": "stdin",
     "output_type": "stream",
     "text": [
      "Enter a number:  35\n"
     ]
    },
    {
     "name": "stdout",
     "output_type": "stream",
     "text": [
      "Binary of the entered number is 100011\n"
     ]
    }
   ],
   "source": [
    "decNum = int(input(\"Enter a number: \"))\n",
    "binNum = \"\"\n",
    "while decNum > 0:\n",
    "    rem = decNum % 2\n",
    "    binNum = str(rem) + binNum\n",
    "    decNum = decNum // 2\n",
    "\n",
    "print(f\"Binary of the entered number is {binNum}\")\n"
   ]
  },
  {
   "cell_type": "markdown",
   "id": "a1c2aa06-919c-4561-8c5a-f56698ffa09b",
   "metadata": {},
   "source": [
    "### 1.      Input a number\n",
    "\n",
    "2.      Find the modulus of this number by 2 and save it into a array\n",
    "\n",
    "3.      After the loop is finished, print the array in reverse."
   ]
  },
  {
   "cell_type": "code",
   "execution_count": 15,
   "id": "b11b8d5c-0a17-41d8-9d12-ebe4a3c68d73",
   "metadata": {},
   "outputs": [
    {
     "name": "stdin",
     "output_type": "stream",
     "text": [
      "Enter the number to run the loop:  4\n",
      "Enter number:  32\n",
      "Enter number:  33\n",
      "Enter number:  67\n",
      "Enter number:  12\n"
     ]
    },
    {
     "name": "stdout",
     "output_type": "stream",
     "text": [
      "The reverse array is: [0, 1, 1, 0]\n"
     ]
    }
   ],
   "source": [
    "n = int(input(\"Enter the number to run the loop: \"))\n",
    "modArray = []\n",
    "\n",
    "for i in range(n):\n",
    "    num2 = int(input(\"Enter number: \"))\n",
    "    mod = num2 % 2\n",
    "    modArray.append(mod)\n",
    "\n",
    "print(f\"The reverse array is: {modArray[::-1]}\")"
   ]
  },
  {
   "cell_type": "markdown",
   "id": "26f907e4-7ee0-4663-89c5-136e95fb06c2",
   "metadata": {},
   "source": [
    "###  Wap to print all the lower case alphabets."
   ]
  },
  {
   "cell_type": "code",
   "execution_count": 42,
   "id": "c1bfb34a-8b95-46ab-990c-2a901455958f",
   "metadata": {},
   "outputs": [
    {
     "name": "stdout",
     "output_type": "stream",
     "text": [
      "a  b  c  d  e  f  g  h  i  j  k  l  m  n  o  p  q  r  s  t  u  v  w  x  y  z  "
     ]
    }
   ],
   "source": [
    "for i in range(97, 122+1):\n",
    "    print(chr(i), \" \",end=\"\")"
   ]
  },
  {
   "cell_type": "markdown",
   "id": "5f90bfa7-d6b9-4d76-9752-87731b513a1e",
   "metadata": {},
   "source": [
    "### Wap to input 10 numbers from user and find the minimum and maximum number."
   ]
  },
  {
   "cell_type": "code",
   "execution_count": 1,
   "id": "ef85b241-f103-4bac-82e5-d4e8e0b3d78c",
   "metadata": {},
   "outputs": [
    {
     "name": "stdin",
     "output_type": "stream",
     "text": [
      "Enter the number : 1\n",
      "Enter the number : 10\n",
      "Enter the number : 4\n",
      "Enter the number : 7\n",
      "Enter the number : 2\n",
      "Enter the number : 9\n",
      "Enter the number : 5\n",
      "Enter the number : 50\n",
      "Enter the number : 56\n",
      "Enter the number : 3\n"
     ]
    },
    {
     "name": "stdout",
     "output_type": "stream",
     "text": [
      "Maximum number is: 56\n",
      "Minimum number is: 1\n"
     ]
    }
   ],
   "source": [
    "li = []\n",
    "for i in range(1, 10+1):\n",
    "    num = int(input(\"Enter the number :\"))\n",
    "    li.append(num)\n",
    "\n",
    "print(f\"Maximum number is: {max(li)}\")\n",
    "print(f\"Minimum number is: {min(li)}\")"
   ]
  },
  {
   "cell_type": "markdown",
   "id": "aca6477f-e1b9-4cb5-b167-9296f01e0d0f",
   "metadata": {},
   "source": [
    "### Wap to print all the leap years from 1 to n.\n"
   ]
  },
  {
   "cell_type": "code",
   "execution_count": 24,
   "id": "afbf99c3-fc13-48a6-9b99-4b6a84267894",
   "metadata": {},
   "outputs": [
    {
     "name": "stdin",
     "output_type": "stream",
     "text": [
      "Enter the value of n:  50\n"
     ]
    },
    {
     "name": "stdout",
     "output_type": "stream",
     "text": [
      "[8, 12, 16, 20, 24, 28, 32, 36, 40, 44, 48]\n"
     ]
    }
   ],
   "source": [
    "n = int(input(\"Enter the value of n: \"))\n",
    "leapYyears = []\n",
    "\n",
    "for year in range(1, n + 1):\n",
    "    if (year % 4 == 0 and year % 100 != 0) or (year % 400 == 0):\n",
    "        leapYyears.append(year)\n",
    "\n",
    "print(leapYears[1:n])"
   ]
  },
  {
   "cell_type": "markdown",
   "id": "b98bcc93-e9f1-413b-be43-cd4c28a1eb48",
   "metadata": {},
   "source": [
    "### Wap to read age of 15 people and find the number of adults, babies and school age students.\r\n",
    "\r\n"
   ]
  },
  {
   "cell_type": "code",
   "execution_count": 21,
   "id": "4a7c5461-493e-4d05-9b73-71d7d377ab83",
   "metadata": {},
   "outputs": [
    {
     "name": "stdin",
     "output_type": "stream",
     "text": [
      "Enter the number of people:  5\n",
      "Enter age:  2\n"
     ]
    },
    {
     "name": "stdout",
     "output_type": "stream",
     "text": [
      "Babies\n"
     ]
    },
    {
     "name": "stdin",
     "output_type": "stream",
     "text": [
      "Enter age:  15\n"
     ]
    },
    {
     "name": "stdout",
     "output_type": "stream",
     "text": [
      "School age child\n"
     ]
    },
    {
     "name": "stdin",
     "output_type": "stream",
     "text": [
      "Enter age:  20\n"
     ]
    },
    {
     "name": "stdout",
     "output_type": "stream",
     "text": [
      "Adult\n"
     ]
    },
    {
     "name": "stdin",
     "output_type": "stream",
     "text": [
      "Enter age:  43\n"
     ]
    },
    {
     "name": "stdout",
     "output_type": "stream",
     "text": [
      "Adult\n"
     ]
    },
    {
     "name": "stdin",
     "output_type": "stream",
     "text": [
      "Enter age:  23\n"
     ]
    },
    {
     "name": "stdout",
     "output_type": "stream",
     "text": [
      "Adult\n"
     ]
    }
   ],
   "source": [
    "numPeople = int(input(\"Enter the number of people: \"))\n",
    "for i in range(numPeople):\n",
    "    age = int(input(\"Enter age: \"))\n",
    "    if 0<=age<=4:\n",
    "        print(\"Babies\")\n",
    "    elif 5<=age<=17:\n",
    "        print(\"School age child\")\n",
    "    else:\n",
    "        print(\"Adult\")"
   ]
  }
 ],
 "metadata": {
  "kernelspec": {
   "display_name": "Python 3 (ipykernel)",
   "language": "python",
   "name": "python3"
  },
  "language_info": {
   "codemirror_mode": {
    "name": "ipython",
    "version": 3
   },
   "file_extension": ".py",
   "mimetype": "text/x-python",
   "name": "python",
   "nbconvert_exporter": "python",
   "pygments_lexer": "ipython3",
   "version": "3.11.5"
  }
 },
 "nbformat": 4,
 "nbformat_minor": 5
}
