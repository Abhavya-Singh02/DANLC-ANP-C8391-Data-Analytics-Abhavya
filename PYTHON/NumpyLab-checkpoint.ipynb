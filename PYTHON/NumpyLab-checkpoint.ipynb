{
 "cells": [
  {
   "cell_type": "markdown",
   "id": "bc52957b-854d-4e77-80c1-79d38cf7325e",
   "metadata": {},
   "source": [
    "### Lab 2: Working with arrays using Jupyter\n",
    "\n",
    "1. Convert the below list into numpy array then display the array\n",
    "   \n",
    "Input: my_list = [1, 2, 3, 4, 5]\n"
   ]
  },
  {
   "cell_type": "code",
   "execution_count": 1,
   "id": "c39ff58f-4568-424d-b1dd-6369d2366af7",
   "metadata": {},
   "outputs": [
    {
     "data": {
      "text/plain": [
       "array([1, 2, 3, 4, 5])"
      ]
     },
     "execution_count": 1,
     "metadata": {},
     "output_type": "execute_result"
    }
   ],
   "source": [
    "import numpy as np\n",
    "my_list = [1, 2, 3, 4, 5]\n",
    "arr=np.array(my_list)\n",
    "arr"
   ]
  },
  {
   "cell_type": "markdown",
   "id": "fbb479ca-1b98-4a68-8e59-0d843400e4b0",
   "metadata": {},
   "source": [
    "### Convert the below list into a numpy array then display the array then\n",
    "\n",
    "display the first and last index and then multiply each element by 2 and\n",
    "\n",
    "display the result.\n",
    "\n",
    "Input: my_list = [1, 2, 3, 4, 5]"
   ]
  },
  {
   "cell_type": "code",
   "execution_count": 7,
   "id": "e936eb2b-6513-4539-aab8-f6af65b77ea6",
   "metadata": {},
   "outputs": [
    {
     "name": "stdout",
     "output_type": "stream",
     "text": [
      "First and last index of list is: 1 5\n",
      "Array after doubling each element: [ 2  4  6  8 10]\n"
     ]
    }
   ],
   "source": [
    "my_list = [1, 2, 3, 4, 5]\n",
    "firstIndex=my_list[0]\n",
    "lastIndex=my_list[-1]\n",
    "\n",
    "print(f\"First and last index of list is: {firstIndex} {lastIndex}\")\n",
    "\n",
    "arr1=np.array(my_list)\n",
    "resultArray=arr1+arr1\n",
    "print(f\"Array after doubling each element: {resultArray}\")"
   ]
  },
  {
   "cell_type": "markdown",
   "id": "617fea28-698d-4a56-bee0-8650290f75b5",
   "metadata": {},
   "source": [
    "# Numpy-Slicing"
   ]
  },
  {
   "cell_type": "markdown",
   "id": "3354d26c-9d9f-41f3-9d7f-3b00340430a6",
   "metadata": {},
   "source": [
    "### 1. Write a NumPy program to create an array of 10 zeros, 10 ones, and 10 fives.:"
   ]
  },
  {
   "cell_type": "code",
   "execution_count": 5,
   "id": "243c9f6b-538d-4bce-9388-df2116f3d44e",
   "metadata": {},
   "outputs": [
    {
     "data": {
      "text/plain": [
       "array([0., 0., 0., 0., 0., 0., 0., 0., 0., 0.])"
      ]
     },
     "execution_count": 5,
     "metadata": {},
     "output_type": "execute_result"
    }
   ],
   "source": [
    "a=np.zeros((10,))\n",
    "a"
   ]
  },
  {
   "cell_type": "code",
   "execution_count": 7,
   "id": "6f521d75-d632-49f5-ad6e-2641a5e0153a",
   "metadata": {},
   "outputs": [
    {
     "data": {
      "text/plain": [
       "array([1., 1., 1., 1., 1., 1., 1., 1., 1., 1.])"
      ]
     },
     "execution_count": 7,
     "metadata": {},
     "output_type": "execute_result"
    }
   ],
   "source": [
    "b=np.ones((10,))\n",
    "b"
   ]
  },
  {
   "cell_type": "code",
   "execution_count": 9,
   "id": "35cdfa0f-f3c4-4874-8223-8ad3c16470a8",
   "metadata": {},
   "outputs": [
    {
     "data": {
      "text/plain": [
       "array([5, 5, 5, 5, 5, 5, 5, 5, 5, 5])"
      ]
     },
     "execution_count": 9,
     "metadata": {},
     "output_type": "execute_result"
    }
   ],
   "source": [
    "c=np.full(10,5)\n",
    "c"
   ]
  },
  {
   "cell_type": "markdown",
   "id": "2dbdc171-f07c-442b-a055-35689fcf4e28",
   "metadata": {},
   "source": [
    "### 2. Write a NumPy program to create a 3x3 matrix with values ranging from 2 to 10."
   ]
  },
  {
   "cell_type": "code",
   "execution_count": 24,
   "id": "48d6beef-f51d-4456-982a-977b0557b9e3",
   "metadata": {},
   "outputs": [
    {
     "name": "stdout",
     "output_type": "stream",
     "text": [
      "[[ 2  3  4]\n",
      " [ 5  6  7]\n",
      " [ 8  9 10]]\n"
     ]
    }
   ],
   "source": [
    "matrix=np.arange(2,10+1).reshape((3,3))\n",
    "print(matrix)"
   ]
  },
  {
   "cell_type": "markdown",
   "id": "2eb6b47d-5d98-4acb-8d22-4c22d7b5650f",
   "metadata": {},
   "source": [
    "### 3. Write a NumPy program to create an array with values ranging from 12 to 38"
   ]
  },
  {
   "cell_type": "code",
   "execution_count": 15,
   "id": "5405aebc-3bfb-4754-aaa2-0c38bc9ae9e9",
   "metadata": {},
   "outputs": [
    {
     "data": {
      "text/plain": [
       "array([12, 13, 14, 15, 16, 17, 18, 19, 20, 21, 22, 23, 24, 25, 26, 27, 28,\n",
       "       29, 30, 31, 32, 33, 34, 35, 36, 37, 38])"
      ]
     },
     "execution_count": 15,
     "metadata": {},
     "output_type": "execute_result"
    }
   ],
   "source": [
    "array=np.arange(12,38+1)\n",
    "array"
   ]
  },
  {
   "cell_type": "markdown",
   "id": "88704088-bc2d-49c3-b0e3-b4db4b7a928c",
   "metadata": {},
   "source": [
    "### 4. Write a NumPy program to convert a list and tuple into arrays.\n",
    "Input: my_list = [1, 2, 3, 4, 5, 6, 7, 8]\n",
    "\n",
    "Input: my_tuple = ([8, 4, 6], [1, 2, 3])"
   ]
  },
  {
   "cell_type": "code",
   "execution_count": 20,
   "id": "d1e10035-b423-4ce1-84a2-7c9e0f198236",
   "metadata": {},
   "outputs": [
    {
     "name": "stdout",
     "output_type": "stream",
     "text": [
      "[1 2 3 4 5 6 7 8] \n",
      " [[8 4 6]\n",
      " [1 2 3]]\n",
      "Type of list and tuple: <class 'numpy.ndarray'> and <class 'numpy.ndarray'>\n"
     ]
    }
   ],
   "source": [
    "my_list = [1, 2, 3, 4, 5, 6, 7, 8]\n",
    "my_tuple = ([8, 4, 6], [1, 2, 3])\n",
    "my_list=np.array(my_list)\n",
    "my_tuple=np.array(my_tuple)\n",
    "print(my_list,\"\\n\",my_tuple)\n",
    "print(f\"Type of list and tuple: {type(my_list)} and {type(my_tuple)}\")"
   ]
  },
  {
   "cell_type": "markdown",
   "id": "343f3398-f787-40d6-8277-a19164f66aa7",
   "metadata": {},
   "source": [
    "# class practice questions\n"
   ]
  },
  {
   "cell_type": "code",
   "execution_count": 1,
   "id": "d7804ac9-7103-461b-9f84-8223998808be",
   "metadata": {},
   "outputs": [
    {
     "name": "stdout",
     "output_type": "stream",
     "text": [
      "6\n"
     ]
    }
   ],
   "source": [
    "import numpy as np\n",
    "a3=np.array([[1,2,3],[4,5,6]])\n",
    "index=np.argmax(a3)\n",
    "row,col=np.unravel_index(index,a3.shape)\n",
    "print(a3[row,col])"
   ]
  },
  {
   "cell_type": "code",
   "execution_count": 4,
   "id": "2a445aba-9205-4e77-b0f0-ac1cdb75eb7d",
   "metadata": {},
   "outputs": [
    {
     "name": "stdout",
     "output_type": "stream",
     "text": [
      "1D Array: <class 'numpy.ndarray'>, \tsize of array: (6,)\n",
      "<class 'list'>\n"
     ]
    }
   ],
   "source": [
    "li1=[]\n",
    "for i in a3:\n",
    "    for num  in i:\n",
    "        li1.append(num)\n",
    "print(f\"1D Array: {type(np.array(li1))}, \\tsize of array: {np.array(li1).shape}\")\n",
    "print(type(li1))"
   ]
  },
  {
   "cell_type": "code",
   "execution_count": 5,
   "id": "27ceafed-6ac7-4ef3-bb84-0f31350baf31",
   "metadata": {},
   "outputs": [
    {
     "name": "stdout",
     "output_type": "stream",
     "text": [
      "<class 'numpy.ndarray'>\n"
     ]
    }
   ],
   "source": [
    "li=np.empty(a3.size, dtype=int)\n",
    "count=0\n",
    "for i in a3:\n",
    "    for num  in i:\n",
    "        li[count]=num\n",
    "        count+=1\n",
    "# print(f\"1D Array: {np.array(li)}\\tsize of array: {np.array(li).shape}\")\n",
    "print(type(li))"
   ]
  },
  {
   "cell_type": "code",
   "execution_count": 6,
   "id": "cb3f1d01-93ba-4131-ac7e-916f8b568155",
   "metadata": {},
   "outputs": [],
   "source": [
    "arr = np.array([3, 1, 2, 4, 5])"
   ]
  },
  {
   "cell_type": "code",
   "execution_count": 7,
   "id": "402858ce-8c13-4b36-824a-451c9e69a15b",
   "metadata": {},
   "outputs": [
    {
     "name": "stdout",
     "output_type": "stream",
     "text": [
      "Sorted array (ascending): [1 2 3 4 5]\n",
      "Sorted array (descending): [5 4 3 2 1]\n"
     ]
    }
   ],
   "source": [
    "# Sort the array in ascending order (creates a new sorted array)\n",
    "sorted_arr = np.sort(arr)\n",
    "# Print the sorted array\n",
    "print(\"Sorted array (ascending):\", sorted_arr)\n",
    "# Sort the array in descending order\n",
    "sorted_arr_desc = np.sort(arr)[::-1]\n",
    "# Print the sorted array in descending order\n",
    "print(\"Sorted array (descending):\", sorted_arr_desc)"
   ]
  },
  {
   "cell_type": "code",
   "execution_count": 9,
   "id": "93b2710b-4c12-4d36-80ef-05fcd663fe8f",
   "metadata": {},
   "outputs": [
    {
     "name": "stdout",
     "output_type": "stream",
     "text": [
      "Sorted array (ascending): [1 2 3 4 5]\n",
      "Sorted array (descending): [5 4 3 2 1]\n"
     ]
    }
   ],
   "source": [
    "import numpy as np\n",
    "arr = np.array([3, 1, 2, 4, 5])\n",
    "# Sort the array in-place (modifies the original array)\n",
    "arr.sort()\n",
    "# Print the sorted array\n",
    "print(\"Sorted array (ascending):\", arr)\n",
    "# To sort in descending order, you can reverse the array\n",
    "arr[::-1].sort()\n",
    "# Print the sorted array in descending order\n",
    "print(\"Sorted array (descending):\", arr)"
   ]
  },
  {
   "cell_type": "code",
   "execution_count": 10,
   "id": "ccacd2ba-eba1-4740-973d-b7774d340513",
   "metadata": {},
   "outputs": [
    {
     "name": "stdout",
     "output_type": "stream",
     "text": [
      "Sorted matrix (ascending along rows):\n",
      "[[1 2 3]\n",
      " [4 5 6]]\n"
     ]
    }
   ],
   "source": [
    "import numpy as np\n",
    "matrix = np.array([[3, 1, 2],\n",
    "[6, 5, 4]])\n",
    "# Sort along rows (axis=1) in ascending order\n",
    "sorted_matrix = np.sort(matrix, axis=1)\n",
    "# Print the sorted matrix\n",
    "print(\"Sorted matrix (ascending along rows):\")\n",
    "print(sorted_matrix)"
   ]
  },
  {
   "cell_type": "markdown",
   "id": "715fc3ab-f8a4-461c-b318-58bee4688044",
   "metadata": {},
   "source": [
    "# Numpy Functions"
   ]
  },
  {
   "cell_type": "markdown",
   "id": "4be4e948-289f-46a8-bde6-09a1eda87927",
   "metadata": {},
   "source": [
    "### 1. Suppose you have a dataset containing daily temperature readings for a city, and you\n",
    "want to identify days with extreme temperature conditions. Find days where the\n",
    "temperature either exceeded 35 degrees Celsius (hot day) or dropped below 5 degrees\n",
    "Celsius (cold day).\n",
    "\n",
    "Input:\n",
    "\n",
    "temperatures = np.array([32.5, 34.2, 36.8, 29.3, 31.0, 38.7, 23.1, 18.5, 22.8, 37.2])"
   ]
  },
  {
   "cell_type": "code",
   "execution_count": 11,
   "id": "a27fdf3c-3c58-4e03-8998-c4190eb76da6",
   "metadata": {},
   "outputs": [
    {
     "name": "stdout",
     "output_type": "stream",
     "text": [
      "Hot Days:\n",
      "Day  Temperature(°C)\n",
      "2     36.8\n",
      "5     38.7\n",
      "9     37.2\n",
      "\n",
      "Cold Days:\n",
      "Day  Temperature(°C)\n",
      "4     -4.0\n",
      "7     -18.5\n"
     ]
    }
   ],
   "source": [
    "temperatures = np.array([32.5, 34.2, 36.8, 29.3, 31.0, 38.7, 23.1, 18.5, 22.8, 37.2])\n",
    "print(\"Hot Days:\")\n",
    "Temperature = temperatures[(temperatures>35)]\n",
    "Day=np.argwhere(temperatures>35).flatten()\n",
    "df=dict((i,j) for i, j in zip(Day,Temperature))\n",
    "print(\"Day  Temperature(\\u00b0C)\")\n",
    "for key, value in df.items():\n",
    "    print(f\"{key}     {value}\")\n",
    "    \n",
    "\n",
    "print()\n",
    "\n",
    "temperatures = np.array([32.5, 34.2, 36.8, 29.3, -4, 38.7, 23.1, -18.5, 22.8, 37.2])\n",
    "print(\"Cold Days:\")\n",
    "temperature = temperatures[(temperatures<5)]\n",
    "day=np.argwhere(temperatures<5).flatten()\n",
    "df2=dict((i,j) for i, j in zip(day,temperature))\n",
    "print(\"Day  Temperature(\\u00b0C)\")\n",
    "for key, value in df2.items():\n",
    "    print(f\"{key}     {value}\")\n",
    "    "
   ]
  },
  {
   "cell_type": "markdown",
   "id": "15b18300-8a80-455c-a079-73d06fd6e731",
   "metadata": {},
   "source": [
    "### 2. Suppose you have a dataset containing monthly sales data for a company, and you\n",
    "want to split this data into quarterly reports for analysis and reporting purposes.\n",
    "\n",
    "Input:\n",
    "\n",
    "monthly_sales = np.array([120, 135, 148, 165, 180, 155, 168, 190, 205, 198, 210, 225]) "
   ]
  },
  {
   "cell_type": "code",
   "execution_count": 12,
   "id": "622a4007-e8d0-4c41-83fb-4020edc7ef8f",
   "metadata": {},
   "outputs": [
    {
     "name": "stdout",
     "output_type": "stream",
     "text": [
      "Quarter 1 sales (in thousand )\n",
      "[120 135 148]\n",
      "Quarter 2 sales (in thousand )\n",
      "[165 180 155]\n",
      "Quarter 3 sales (in thousand )\n",
      "[168 190 205]\n",
      "Quarter 4 sales (in thousand )\n",
      "[198 210 225]\n"
     ]
    }
   ],
   "source": [
    "monthly_sales = np.array([120, 135, 148, 165, 180, 155, 168, 190, 205, 198, 210, 225])\n",
    "splitted=np.split(monthly_sales,4)\n",
    "splitted\n",
    "count=1\n",
    "for i in splitted:\n",
    "    print(f\"Quarter {count} sales (in thousand )\")\n",
    "    print(i)\n",
    "    count+=1"
   ]
  },
  {
   "cell_type": "markdown",
   "id": "1450c014-e20e-45e2-9e83-84d74d256ed3",
   "metadata": {},
   "source": [
    "### 3. Suppose you have a dataset containing customer data, and you want to split this data\n",
    "into two groups: one group for customers who made a purchase in the last 30 days and\n",
    "another group for customers who haven't made a purchase in the last 30 days.\n",
    "\n",
    "Input:\n",
    "\n",
    "customer_ids = np.array([101, 102, 103, 104, 105, 106, 107, 108, 109, 110])\n",
    "\n",
    "last_purchase_days_ago = np.array([5, 15, 20, 25, 30, 35, 40, 45, 50, 55])"
   ]
  },
  {
   "cell_type": "code",
   "execution_count": 23,
   "id": "3ee379b4-a766-4cfc-afb1-be0c490d1f28",
   "metadata": {},
   "outputs": [
    {
     "name": "stdout",
     "output_type": "stream",
     "text": [
      "Active Customer (Last Purchase <= 30 days ago)\n",
      "[101, 102, 103, 104, 105]\n",
      "\n",
      "Active Customer (Last Purchase > 30 days ago)\n",
      "[106, 107, 108, 109, 110]\n"
     ]
    }
   ],
   "source": [
    "customer_ids = np.array([101, 102, 103, 104, 105, 106, 107, 108, 109, 110])\n",
    "last_purchase_days_ago = np.array([5, 15, 20, 25, 30, 35, 40, 45, 50, 55])\n",
    "\n",
    "activeCust=np.argwhere(last_purchase_days_ago<=30).flatten()\n",
    "print(\"Active Customer (Last Purchase <= 30 days ago)\")\n",
    "print([customer_ids[i] for i in activeCust])\n",
    "\n",
    "print()\n",
    "\n",
    "inactiveCust=np.argwhere(last_purchase_days_ago>30).flatten()\n",
    "print(\"Active Customer (Last Purchase > 30 days ago)\")\n",
    "print([customer_ids[i] for i in inactiveCust])"
   ]
  },
  {
   "cell_type": "markdown",
   "id": "4a0d4e38-0575-4450-8185-b541494564fe",
   "metadata": {},
   "source": [
    "## 4.Suppose you have two sets of employee data—one containing information about\r\n",
    "full-time employees and another containing information about part-time employees. You\r\n",
    "want to combine this data to create a comprehensive employee dataset for HR analysi\n",
    "s.\r\n",
    "Inp\n",
    "\n",
    ".t:\r\n",
    "# Employee data for full-time emplo\n",
    "yees\r\n",
    "full_time_employees = np.ar\n",
    "ray([\r\n",
    "[101, 'John Doe', 'Full-Time', 5\n",
    "5000],\r\n",
    "[102, 'Jane Smith', 'Full-Time', \n",
    "60000],\r\n",
    "[103, 'Mike Johnson', 'Full-Time', 5\n",
    "2.000]\r\n",
    "])\r\n",
    "# Employee data for part-time\n",
    " employees\r\n",
    "part_time_employees =\n",
    " np.array([\r\n",
    "[201, 'Alice Brown', 'Part-Ti\n",
    "me', 25000],\r\n",
    "[202, 'Bob Wilson', 'Part-T\n",
    "ime', 28000],\r\n",
    "[203, 'Emily Davis', 'Part-Time', 22000]\r\n",
    "])"
   ]
  },
  {
   "cell_type": "code",
   "execution_count": 27,
   "id": "9c34c890-fa33-45c8-a895-8645d77214cf",
   "metadata": {},
   "outputs": [
    {
     "name": "stdout",
     "output_type": "stream",
     "text": [
      "Combined Employee Data\n",
      "Employee ID: 101, Name: John Doe, Type: Full-Time, Salary: 55000\n",
      "Employee ID: 102, Name: Jane Smith, Type: Full-Time, Salary: 60000\n",
      "Employee ID: 103, Name: Mike Johnson, Type: Full-Time, Salary: 52000\n",
      "Employee ID: 201, Name: Alice Brown, Type: Part-Time, Salary: 25000\n",
      "Employee ID: 202, Name: Bob Wilson, Type: Part-Time, Salary: 28000\n",
      "Employee ID: 203, Name: Emily Davis, Type: Part-Time, Salary: 22000\n"
     ]
    }
   ],
   "source": [
    "# Employee data for full-time employees\n",
    "full_time_employees = np.array([\n",
    "[101, 'John Doe', 'Full-Time', 55000],\n",
    "[102, 'Jane Smith', 'Full-Time', 60000],\n",
    "[103, 'Mike Johnson', 'Full-Time', 52000]\n",
    "])\n",
    "\n",
    "# Employee data for part-time employees\n",
    "part_time_employees = np.array([\n",
    "[201, 'Alice Brown', 'Part-Time', 25000],\n",
    "[202, 'Bob Wilson', 'Part-Time', 28000],\n",
    "[203, 'Emily Davis', 'Part-Time', 22000]\n",
    "])\n",
    "\n",
    "result=np.vstack((full_time_employees,part_time_employees))\n",
    "result\n",
    "\n",
    "print(\"Combined Employee Data\")\n",
    "for i in range(len(result)):\n",
    "    print(f\"Employee ID: {result[i][0]}, Name: {result[i][1]}, Type: {result[i][2]}, Salary: {result[i][3]}\")"
   ]
  }
 ],
 "metadata": {
  "kernelspec": {
   "display_name": "Python 3 (ipykernel)",
   "language": "python",
   "name": "python3"
  },
  "language_info": {
   "codemirror_mode": {
    "name": "ipython",
    "version": 3
   },
   "file_extension": ".py",
   "mimetype": "text/x-python",
   "name": "python",
   "nbconvert_exporter": "python",
   "pygments_lexer": "ipython3",
   "version": "3.11.5"
  }
 },
 "nbformat": 4,
 "nbformat_minor": 5
}
