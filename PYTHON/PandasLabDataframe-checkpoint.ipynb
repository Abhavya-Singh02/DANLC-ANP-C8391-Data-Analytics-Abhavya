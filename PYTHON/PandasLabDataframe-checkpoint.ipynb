{
 "cells": [
  {
   "cell_type": "markdown",
   "id": "dfd950c0-ba03-4464-8618-e3647e532294",
   "metadata": {},
   "source": [
    "Lab1: Write a Pandas program to create a dataframe from a dictionary and\r\n",
    "display it.\r\n",
    "Sample data:\r\n",
    "score={'Math':[78,85,96,80,86], 'English':[84,94,89,83,86],'Hindi':[86,97,96,72,83]}"
   ]
  },
  {
   "cell_type": "code",
   "execution_count": 3,
   "id": "e61e6a88-9adc-4984-87ba-e3cb7c2e2dff",
   "metadata": {},
   "outputs": [
    {
     "data": {
      "text/html": [
       "<div>\n",
       "<style scoped>\n",
       "    .dataframe tbody tr th:only-of-type {\n",
       "        vertical-align: middle;\n",
       "    }\n",
       "\n",
       "    .dataframe tbody tr th {\n",
       "        vertical-align: top;\n",
       "    }\n",
       "\n",
       "    .dataframe thead th {\n",
       "        text-align: right;\n",
       "    }\n",
       "</style>\n",
       "<table border=\"1\" class=\"dataframe\">\n",
       "  <thead>\n",
       "    <tr style=\"text-align: right;\">\n",
       "      <th></th>\n",
       "      <th>Math</th>\n",
       "      <th>English</th>\n",
       "      <th>Hindi</th>\n",
       "    </tr>\n",
       "  </thead>\n",
       "  <tbody>\n",
       "    <tr>\n",
       "      <th>0</th>\n",
       "      <td>78</td>\n",
       "      <td>84</td>\n",
       "      <td>86</td>\n",
       "    </tr>\n",
       "    <tr>\n",
       "      <th>1</th>\n",
       "      <td>85</td>\n",
       "      <td>94</td>\n",
       "      <td>97</td>\n",
       "    </tr>\n",
       "    <tr>\n",
       "      <th>2</th>\n",
       "      <td>96</td>\n",
       "      <td>89</td>\n",
       "      <td>96</td>\n",
       "    </tr>\n",
       "    <tr>\n",
       "      <th>3</th>\n",
       "      <td>80</td>\n",
       "      <td>83</td>\n",
       "      <td>72</td>\n",
       "    </tr>\n",
       "    <tr>\n",
       "      <th>4</th>\n",
       "      <td>86</td>\n",
       "      <td>86</td>\n",
       "      <td>83</td>\n",
       "    </tr>\n",
       "  </tbody>\n",
       "</table>\n",
       "</div>"
      ],
      "text/plain": [
       "   Math  English  Hindi\n",
       "0    78       84     86\n",
       "1    85       94     97\n",
       "2    96       89     96\n",
       "3    80       83     72\n",
       "4    86       86     83"
      ]
     },
     "execution_count": 3,
     "metadata": {},
     "output_type": "execute_result"
    }
   ],
   "source": [
    "import pandas as pd\n",
    "import numpy as np\n",
    "score={'Math':[78,85,96,80,86], 'English':[84,94,89,83,86],'Hindi':[86,97,96,72,83]}\n",
    "df = pd.DataFrame(score)\n",
    "df"
   ]
  },
  {
   "cell_type": "markdown",
   "id": "fd9ade77-906b-436f-a730-0232ecd95636",
   "metadata": {},
   "source": [
    "Lab2: Write a Pandas program to create and display a DataFrame from a\r\n",
    "specified dictionary data which has the index labels.\r\n",
    "Sample Python dictionary data and list labels:\r\n",
    "exam_data = {'name': ['Anastasia', 'Dima', 'Katherine', 'James', 'Emily',\r\n",
    "'Michael', 'Matthew', 'Laura', 'Kevin', 'Jonas'],\r\n",
    "'score': [12.5, 9, 16.5, np.nan, 9, 20, 14.5, np.nan, 8, 19],\r\n",
    "'attempts': [1, 3, 2, 3, 2, 3, 1, 1, 2, 1],\r\n",
    "'qualify': ['yes', 'no', 'yes', 'no', 'no', 'yes', 'yes', 'no', 'no', 'yes']}"
   ]
  },
  {
   "cell_type": "code",
   "execution_count": 4,
   "id": "a688b742-4777-4a75-ad5f-1f59cbc2ff87",
   "metadata": {},
   "outputs": [
    {
     "data": {
      "text/html": [
       "<div>\n",
       "<style scoped>\n",
       "    .dataframe tbody tr th:only-of-type {\n",
       "        vertical-align: middle;\n",
       "    }\n",
       "\n",
       "    .dataframe tbody tr th {\n",
       "        vertical-align: top;\n",
       "    }\n",
       "\n",
       "    .dataframe thead th {\n",
       "        text-align: right;\n",
       "    }\n",
       "</style>\n",
       "<table border=\"1\" class=\"dataframe\">\n",
       "  <thead>\n",
       "    <tr style=\"text-align: right;\">\n",
       "      <th></th>\n",
       "      <th>name</th>\n",
       "      <th>score</th>\n",
       "      <th>attempts</th>\n",
       "      <th>qualify</th>\n",
       "    </tr>\n",
       "  </thead>\n",
       "  <tbody>\n",
       "    <tr>\n",
       "      <th>0</th>\n",
       "      <td>Anastasia</td>\n",
       "      <td>12.5</td>\n",
       "      <td>1</td>\n",
       "      <td>yes</td>\n",
       "    </tr>\n",
       "    <tr>\n",
       "      <th>1</th>\n",
       "      <td>Dima</td>\n",
       "      <td>9.0</td>\n",
       "      <td>3</td>\n",
       "      <td>no</td>\n",
       "    </tr>\n",
       "    <tr>\n",
       "      <th>2</th>\n",
       "      <td>Katherine</td>\n",
       "      <td>16.5</td>\n",
       "      <td>2</td>\n",
       "      <td>yes</td>\n",
       "    </tr>\n",
       "    <tr>\n",
       "      <th>3</th>\n",
       "      <td>James</td>\n",
       "      <td>NaN</td>\n",
       "      <td>3</td>\n",
       "      <td>no</td>\n",
       "    </tr>\n",
       "    <tr>\n",
       "      <th>4</th>\n",
       "      <td>Emily</td>\n",
       "      <td>9.0</td>\n",
       "      <td>2</td>\n",
       "      <td>no</td>\n",
       "    </tr>\n",
       "    <tr>\n",
       "      <th>5</th>\n",
       "      <td>Michael</td>\n",
       "      <td>20.0</td>\n",
       "      <td>3</td>\n",
       "      <td>yes</td>\n",
       "    </tr>\n",
       "    <tr>\n",
       "      <th>6</th>\n",
       "      <td>Matthew</td>\n",
       "      <td>14.5</td>\n",
       "      <td>1</td>\n",
       "      <td>yes</td>\n",
       "    </tr>\n",
       "    <tr>\n",
       "      <th>7</th>\n",
       "      <td>Laura</td>\n",
       "      <td>NaN</td>\n",
       "      <td>1</td>\n",
       "      <td>no</td>\n",
       "    </tr>\n",
       "    <tr>\n",
       "      <th>8</th>\n",
       "      <td>Kevin</td>\n",
       "      <td>8.0</td>\n",
       "      <td>2</td>\n",
       "      <td>no</td>\n",
       "    </tr>\n",
       "    <tr>\n",
       "      <th>9</th>\n",
       "      <td>Jonas</td>\n",
       "      <td>19.0</td>\n",
       "      <td>1</td>\n",
       "      <td>yes</td>\n",
       "    </tr>\n",
       "  </tbody>\n",
       "</table>\n",
       "</div>"
      ],
      "text/plain": [
       "        name  score  attempts qualify\n",
       "0  Anastasia   12.5         1     yes\n",
       "1       Dima    9.0         3      no\n",
       "2  Katherine   16.5         2     yes\n",
       "3      James    NaN         3      no\n",
       "4      Emily    9.0         2      no\n",
       "5    Michael   20.0         3     yes\n",
       "6    Matthew   14.5         1     yes\n",
       "7      Laura    NaN         1      no\n",
       "8      Kevin    8.0         2      no\n",
       "9      Jonas   19.0         1     yes"
      ]
     },
     "execution_count": 4,
     "metadata": {},
     "output_type": "execute_result"
    }
   ],
   "source": [
    "exam_data = {'name': ['Anastasia', 'Dima', 'Katherine', 'James', 'Emily',\n",
    "'Michael', 'Matthew', 'Laura', 'Kevin', 'Jonas'],\n",
    "'score': [12.5, 9, 16.5, np.nan, 9, 20, 14.5, np.nan, 8, 19],\n",
    "'attempts': [1, 3, 2, 3, 2, 3, 1, 1, 2, 1],\n",
    "'qualify': ['yes', 'no', 'yes', 'no', 'no', 'yes', 'yes', 'no', 'no', 'yes']}\n",
    "df1=pd.DataFrame(exam_data)\n",
    "df1"
   ]
  },
  {
   "cell_type": "markdown",
   "id": "007720ca-0245-47f9-bf8d-509481901ccc",
   "metadata": {},
   "source": [
    "Lab3: Write a Pandas program to get the first 3 rows of a given DataFrame.\n",
    "Sample DataFrame:\n",
    "exam_data = {'name': ['Anastasia', 'Dima', 'Katherine', 'James', 'Emily',\n",
    "'Michael', 'Matthew', 'Laura', 'Kevin', 'Jonas'],\n",
    "'score': [12.5, 9, 16.5, np.nan, 9, 20, 14.5, np.nan, 8, 19],\n",
    "'attempts': [1, 3, 2, 3, 2, 3, 1, 1, 2, 1],\n",
    "'qualify': ['yes', 'no', 'yes', 'no', 'no', 'yes', 'yes', 'no', 'no', 'yes']}"
   ]
  },
  {
   "cell_type": "code",
   "execution_count": 6,
   "id": "217140b0-3d6d-4e96-8937-0bf9c69d2814",
   "metadata": {},
   "outputs": [
    {
     "name": "stdout",
     "output_type": "stream",
     "text": [
      "First three rows of the data frame:\n",
      "        name  score  attempts qualify\n",
      "0  Anastasia   12.5         1     yes\n",
      "1       Dima    9.0         3      no\n",
      "2  Katherine   16.5         2     yes\n"
     ]
    }
   ],
   "source": [
    "print(\"First three rows of the data frame:\")\n",
    "print(df1.head(3))"
   ]
  },
  {
   "cell_type": "markdown",
   "id": "ecbbad3c-7151-4691-93dc-f920e8ff9535",
   "metadata": {},
   "source": [
    "Lab4: Write a Pandas program to select the 'name' and 'score' columns\n",
    "from the following DataFrame.\n",
    "Sample Python dictionary data and list labels:\n",
    "exam_data = {'name': ['Anastasia', 'Dima', 'Katherine', 'James', 'Emily',\n",
    "'Michael', 'Matthew', 'Laura', 'Kevin', 'Jonas'],\n",
    "'score': [12.5, 9, 16.5, np.nan, 9, 20, 14.5, np.nan, 8, 19],\n",
    "'attempts': [1, 3, 2, 3, 2, 3, 1, 1, 2, 1],\n",
    "'qualify': ['yes', 'no', 'yes', 'no', 'no', 'yes', 'yes', 'no', 'no', 'yes']}"
   ]
  },
  {
   "cell_type": "code",
   "execution_count": 18,
   "id": "018b837e-370d-4ce4-8fd1-db752b06a645",
   "metadata": {},
   "outputs": [
    {
     "name": "stdout",
     "output_type": "stream",
     "text": [
      "Original Data\n",
      "        name  score  attempts qualify\n",
      "0  Anastasia   12.5         1     yes\n",
      "1       Dima    9.0         3      no\n",
      "2  Katherine   16.5         2     yes\n",
      "3      James    NaN         3      no\n",
      "4      Emily    9.0         2      no\n",
      "5    Michael   20.0         3     yes\n",
      "6    Matthew   14.5         1     yes\n",
      "7      Laura    NaN         1      no\n",
      "8      Kevin    8.0         2      no\n",
      "9      Jonas   19.0         1     yes\n",
      "\n",
      "Select specific columns:\n",
      "        name  score\n",
      "0  Anastasia   12.5\n",
      "1       Dima    9.0\n",
      "2  Katherine   16.5\n",
      "3      James    NaN\n",
      "4      Emily    9.0\n",
      "5    Michael   20.0\n",
      "6    Matthew   14.5\n",
      "7      Laura    NaN\n",
      "8      Kevin    8.0\n",
      "9      Jonas   19.0\n"
     ]
    }
   ],
   "source": [
    "print(\"Original Data\")\n",
    "print(df1)\n",
    "print()\n",
    "print(\"Select specific columns:\")\n",
    "specificColumns=df1[[\"name\",\"score\"]]\n",
    "print(specificColumns)"
   ]
  },
  {
   "cell_type": "markdown",
   "id": "9b3156b8-544d-493e-86ee-3aa75d94456f",
   "metadata": {},
   "source": [
    "Using ChatGPT generate the python code to solve the same problem\n",
    "Scenario: Analyzing Sales Data\n",
    "Suppose you work for a retail company, and you have a dummy dataset containing\n",
    "sales data for the past year. The data includes information such as customer names,\n",
    "product names, sales quantities, prices, and dates. You want to perform various data\n",
    "analysis tasks like Total revenue for the year,Average revenue per sale,Best-selling\n",
    "product,Date with the highest total revenue also wants to generate product and total\n",
    "sales wise barchart using Pandas DataFrames.\n",
    "Further, you need to get some inference out of the chart.\n",
    "Create a ChatGPT prompt to generate the code for this scenario. Based on the code\n",
    "generated, ask ChatGPT to give the conclusion/inference.\n",
    "Note. You can provide the data to ChatGPT in the form of a list or dictionary or ask it to\n",
    "use sample data."
   ]
  },
  {
   "cell_type": "code",
   "execution_count": 21,
   "id": "e4396556-7f2d-4e2b-bc1d-57dc6742905e",
   "metadata": {},
   "outputs": [
    {
     "data": {
      "image/png": "[encoded data removed]",
      "text/plain": [
       "<Figure size 1200x600 with 2 Axes>"
      ]
     },
     "metadata": {},
     "output_type": "display_data"
    },
    {
     "name": "stdout",
     "output_type": "stream",
     "text": [
      "Total Revenue for the Year: $960.00\n",
      "Average Revenue per Sale: $192.00\n",
      "Best-Selling Product: Widget\n",
      "Date with Highest Total Revenue: 2024-01-02\n"
     ]
    }
   ],
   "source": [
    "import pandas as pd\n",
    "import matplotlib.pyplot as plt\n",
    "\n",
    "# Sample data\n",
    "data = {\n",
    "    'customer_name': ['Alice', 'Bob', 'Alice', 'Charlie', 'Bob'],\n",
    "    'product_name': ['Widget', 'Gadget', 'Widget', 'Gadget', 'Widget'],\n",
    "    'sales_quantity': [10, 5, 15, 7, 8],\n",
    "    'price': [20, 25, 20, 25, 20],\n",
    "    'date': ['2024-01-01', '2024-01-02', '2024-01-02', '2024-01-03', '2024-01-03']\n",
    "}\n",
    "\n",
    "df = pd.DataFrame(data)\n",
    "\n",
    "# Calculate total revenue for the year\n",
    "df['revenue'] = df['sales_quantity'] * df['price']\n",
    "total_revenue = df['revenue'].sum()\n",
    "\n",
    "# Calculate average revenue per sale\n",
    "average_revenue_per_sale = df['revenue'].mean()\n",
    "\n",
    "# Identify the best-selling product\n",
    "product_sales = df.groupby('product_name')['revenue'].sum()\n",
    "best_selling_product = product_sales.idxmax()\n",
    "\n",
    "# Find the date with the highest total revenue\n",
    "date_revenue = df.groupby('date')['revenue'].sum()\n",
    "highest_revenue_date = date_revenue.idxmax()\n",
    "\n",
    "# Generate bar charts\n",
    "plt.figure(figsize=(12, 6))\n",
    "\n",
    "# Bar chart for total sales per product\n",
    "plt.subplot(1, 2, 1)\n",
    "product_sales.plot(kind='bar', color='skyblue')\n",
    "plt.title('Total Sales per Product')\n",
    "plt.xlabel('Product Name')\n",
    "plt.ylabel('Total Sales')\n",
    "\n",
    "# Bar chart for total sales per date\n",
    "plt.subplot(1, 2, 2)\n",
    "date_revenue.plot(kind='bar', color='salmon')\n",
    "plt.title('Total Sales per Date')\n",
    "plt.xlabel('Date')\n",
    "plt.ylabel('Total Sales')\n",
    "\n",
    "plt.tight_layout()\n",
    "plt.show()\n",
    "\n",
    "# Print results\n",
    "print(f\"Total Revenue for the Year: ${total_revenue:.2f}\")\n",
    "print(f\"Average Revenue per Sale: ${average_revenue_per_sale:.2f}\")\n",
    "print(f\"Best-Selling Product: {best_selling_product}\")\n",
    "print(f\"Date with Highest Total Revenue: {highest_revenue_date}\")\n"
   ]
  },
  {
   "cell_type": "code",
   "execution_count": null,
   "id": "a506e1fb-c937-4ce7-815c-57ab70b93c0f",
   "metadata": {},
   "outputs": [],
   "source": []
  }
 ],
 "metadata": {
  "kernelspec": {
   "display_name": "Python 3 (ipykernel)",
   "language": "python",
   "name": "python3"
  },
  "language_info": {
   "codemirror_mode": {
    "name": "ipython",
    "version": 3
   },
   "file_extension": ".py",
   "mimetype": "text/x-python",
   "name": "python",
   "nbconvert_exporter": "python",
   "pygments_lexer": "ipython3",
   "version": "3.11.9"
  }
 },
 "nbformat": 4,
 "nbformat_minor": 5
}
