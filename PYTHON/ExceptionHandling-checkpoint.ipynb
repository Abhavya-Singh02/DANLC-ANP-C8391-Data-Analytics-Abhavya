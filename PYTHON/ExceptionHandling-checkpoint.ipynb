{
 "cells": [
  {
   "cell_type": "markdown",
   "id": "ead34a1f-00d8-4483-854e-716b22ff82d7",
   "metadata": {},
   "source": [
    "### 1. Write a Python program to handle a ZeroDivisionError exception when dividing a \r\n",
    "number by zero."
   ]
  },
  {
   "cell_type": "code",
   "execution_count": 4,
   "id": "c7600a86-2b42-456b-a043-cd14da0ff2eb",
   "metadata": {},
   "outputs": [
    {
     "name": "stdin",
     "output_type": "stream",
     "text": [
      "Enter a number:  5\n",
      "Enter zero:  3\n"
     ]
    },
    {
     "name": "stdout",
     "output_type": "stream",
     "text": [
      "Division:  1.6666666666666667\n"
     ]
    }
   ],
   "source": [
    "num = int(input(\"Enter a number: \"))\n",
    "num2 = int(input(\"Enter zero: \"))\n",
    "try:\n",
    "    print(\"Division: \",num/num2)\n",
    "except ZeroDivisionError:\n",
    "    print(\"the division of any number by 0 is undefined.\")\n",
    "    "
   ]
  },
  {
   "cell_type": "markdown",
   "id": "8caa47a5-fb8f-48c5-a34c-f4844640df8a",
   "metadata": {},
   "source": [
    "### 2. Write a Python program that prompts the user to input an integer and raises(use custom exception to raise this error: it will be raised if the value provided is not between 1 to 1000) a\r\n",
    "### \r\n",
    "ValueError exception if the input is not a valid integer.\r\n",
    "\r\n"
   ]
  },
  {
   "cell_type": "code",
   "execution_count": 11,
   "id": "16b0772e-c8a2-49d7-b118-eae730b57dbf",
   "metadata": {},
   "outputs": [
    {
     "name": "stdin",
     "output_type": "stream",
     "text": [
      "Enter a number:  3765\n"
     ]
    },
    {
     "name": "stdout",
     "output_type": "stream",
     "text": [
      "the number you entered is not between 1 to 1000\n",
      "Please enter number between 1 to 1000\n"
     ]
    }
   ],
   "source": [
    "class IntegerNotBetween1to1000(Exception):\n",
    "    def __init__(self):\n",
    "        super().__init__(\"the number you entered is not between 1 to 1000\\nPlease enter number between 1 to 1000\")\n",
    "\n",
    "try:\n",
    "    number = int(input(\"Enter a number: \"))\n",
    "    if not (1 <= number <= 1000):\n",
    "        raise IntegerNotBetween1to1000()\n",
    "    print(number, \"is a valid integer.\")\n",
    "except IntegerNotBetween1to1000 as e:\n",
    "    print(e)\n",
    "except ValueError:\n",
    "    print(\"Invalid input. Please enter a valid integer.\")"
   ]
  },
  {
   "cell_type": "markdown",
   "id": "8189ce35-54e2-4d64-9360-1fbf670b286e",
   "metadata": {},
   "source": [
    "### 3. Write a Python program that opens a file and handles a FileNotFoundError exception if the file does not exist.t."
   ]
  },
  {
   "cell_type": "code",
   "execution_count": 14,
   "id": "8e978f6a-2684-45c8-8500-c3a54a97a8f9",
   "metadata": {},
   "outputs": [
    {
     "name": "stdin",
     "output_type": "stream",
     "text": [
      "Enter the file name:  hegh.txt\n"
     ]
    },
    {
     "name": "stdout",
     "output_type": "stream",
     "text": [
      "The file hegh.txt does not exist.\n"
     ]
    }
   ],
   "source": [
    "def read_file_content(fileName):\n",
    "    try:\n",
    "        with open(fileName, 'r') as file:\n",
    "            content = file.read()  \n",
    "            print(content)\n",
    "    except FileNotFoundError:\n",
    "        print(f\"The file {fileName} does not exist.\")\n",
    "    except Exception as e:\n",
    "        print(f\"An error occurred: {e}\")\n",
    "\n",
    "fileName = input(\"Enter the file name: \")\n",
    "read_file_content(fileName)"
   ]
  },
  {
   "cell_type": "markdown",
   "id": "660e7367-0f2a-4cf0-b50e-b078e78742ae",
   "metadata": {},
   "source": [
    "### 4. Write a Python program that prompts the user to input two numbers and raises a TypeError exception if the inputs are not numerical"
   ]
  },
  {
   "cell_type": "code",
   "execution_count": 26,
   "id": "54a7bdd3-2690-4a4a-9abd-6cbd0db725ec",
   "metadata": {},
   "outputs": [
    {
     "name": "stdin",
     "output_type": "stream",
     "text": [
      "Enter first number:  r\n",
      "Enter second number:  5\n"
     ]
    },
    {
     "name": "stdout",
     "output_type": "stream",
     "text": [
      "Both number should be numerical. The number you entered is not numerical\n",
      "Enter only numerical values\n"
     ]
    }
   ],
   "source": [
    "class NotNumberError(Exception):\n",
    "    def __init__(self):\n",
    "        super().__init__(\"Both number should be numerical. The number you entered is not numerical\\nEnter only numerical values\")\n",
    "\n",
    "try:\n",
    "    num1 = input(\"Enter first number: \")\n",
    "    num2 = input(\"Enter second number: \")\n",
    "    if not (num1.isdigit() and num2.isdigit()):\n",
    "        raise NotNumberError\n",
    "    print(f\"{num1} and {num2} is numerical\")\n",
    "except NotNumberError as e:\n",
    "    print(e)"
   ]
  },
  {
   "cell_type": "markdown",
   "id": "2c5ebafd-27a7-47c3-93e8-0c41a85963c4",
   "metadata": {},
   "source": [
    "### 5. File Parsing with Detailed Error Handling\n",
    "\n",
    "###   - Write a function `parse_file` that reads a file containing numerical data (one number per line) and returns a list of these numbers. Use exception handling to manage:\n",
    "\n",
    "###     - File not found.\n",
    "\n",
    "###     - Permission denied.\n",
    "\n",
    "###     - Value errors (e.g., non-numeric data).\n",
    "\n",
    "###   - Provide detailed error messages indicating the line number and nature of the error."
   ]
  },
  {
   "cell_type": "code",
   "execution_count": 12,
   "id": "40a39ae3-47d8-46c2-a754-25058470eefd",
   "metadata": {},
   "outputs": [
    {
     "name": "stdin",
     "output_type": "stream",
     "text": [
      "Enter the file name:  story.txt\n"
     ]
    },
    {
     "name": "stdout",
     "output_type": "stream",
     "text": [
      "A ValueError Occurred: Non-numeric Data\n"
     ]
    }
   ],
   "source": [
    "def parse_file(fileName):\n",
    "    try:\n",
    "        with open(fileName, 'r') as file:\n",
    "            content = file.read()\n",
    "            content = content.split()\n",
    "            for i in content:\n",
    "                if i.isdigit():\n",
    "                    print(i)\n",
    "                else:\n",
    "                    raise ValueError\n",
    "    except FileNotFoundError:\n",
    "        print(f\"The file {fileName} does not exist.\")\n",
    "    except PermissionError:\n",
    "        print(f\"(Permission denied while accessing the {file}\")\n",
    "    except ValueError:\n",
    "        print(f\"A ValueError Occurred: Non-numeric Data\") \n",
    "    except Exception as e:\n",
    "        print(f\"An error occurred: {e}\")\n",
    "\n",
    "fileName = input(\"Enter the file name: \")\n",
    "parse_file(fileName)"
   ]
  },
  {
   "cell_type": "markdown",
   "id": "5fb15f46-a455-4a7a-8752-f68d14e0daa7",
   "metadata": {},
   "source": [
    "### Multiple Exception Types in User Input\n",
    "\n",
    "### - Write a function `get_valid_date` that prompts the user to enter a date in the format `YYYY-MM-DD`. Use exception handling to manage:\n",
    "\n",
    "### - Invalid format (e.g., not enough parts, non-numeric parts).\n",
    "\n",
    "### - Invalid date values (e.g., month not in 1-12, day not valid for the given month).\n",
    "\n",
    "### - Ensure the function keeps asking for input until a valid date is entered and returns a `datetime.date` object.\n",
    "\n"
   ]
  },
  {
   "cell_type": "code",
   "execution_count": 70,
   "id": "e99ee421-1442-419e-85cf-89543cf1e13c",
   "metadata": {},
   "outputs": [
    {
     "name": "stdin",
     "output_type": "stream",
     "text": [
      "Enter Date:  2003-45-04\n"
     ]
    },
    {
     "name": "stdout",
     "output_type": "stream",
     "text": [
      "Date is Invalid\n"
     ]
    },
    {
     "name": "stdin",
     "output_type": "stream",
     "text": [
      "Enter Date:  2003-08-04\n"
     ]
    },
    {
     "name": "stdout",
     "output_type": "stream",
     "text": [
      "Valid Date:  2003-08-04\n"
     ]
    }
   ],
   "source": [
    "class InvalidFormatError(Exception):\n",
    "    def __init__(self):\n",
    "        super().__init__(\"Invalid Format\")\n",
    "\n",
    "class InvalidDateValuesError(Exception):\n",
    "    def __init__(self):\n",
    "        super().__init__(\"Date is Invalid\")\n",
    "\n",
    "\n",
    "def get_valid_date():\n",
    "    while True:\n",
    "        try:\n",
    "            date = input(\"Enter Date: \")\n",
    "            mm = int(date[5:7])\n",
    "            dd = int(date[8:])\n",
    "            if not (1<= mm <=12 and 1<= dd <=31):\n",
    "                raise InvalidDateValuesError\n",
    "            if len(date) != 10 or date[4] != '-' or date[7] != '-':\n",
    "                raise InvalidFormatError\n",
    "            \n",
    "            print(\"Valid Date: \",date)\n",
    "            break\n",
    "        except InvalidFormatError as e:\n",
    "            print(e)\n",
    "        except InvalidDateValuesError as e:\n",
    "            print(e)\n",
    "        \n",
    "get_valid_date()    "
   ]
  },
  {
   "cell_type": "code",
   "execution_count": 51,
   "id": "b08074ea-1dc8-48c5-be25-1ba2069a5402",
   "metadata": {},
   "outputs": [
    {
     "name": "stdout",
     "output_type": "stream",
     "text": [
      "<class 'int'>\n"
     ]
    }
   ],
   "source": [
    "date = \"2003-08-04\"\n",
    "m = int(date[8:])\n",
    "print(type(m))"
   ]
  },
  {
   "cell_type": "markdown",
   "id": "a83eb741-83ad-42b5-8c70-a9d868a0f4b7",
   "metadata": {},
   "source": [
    "### 7. Custom Exceptions for Business Logic\r\n",
    "###\r\n",
    "   - Create custom exception classes `OutOfStockError` and `InvalidOrderError`. Write a function `process_order` that takes an order (a dictionary with item names and quantities) and a stock (a dictionary with item names and available quantities) as arguments. Use exception handling to manage:###\r\n",
    "\r\n",
    "     - Out of stock items (raise `OutOfStockError` with a suitable message###).\r\n",
    "\r\n",
    "     - Invalid order quantities (e.g., negative or zero, raise `InvalidOrderError` with a suitable messa###ge).\r\n",
    "\r\n",
    "   - Test the function with various orders and stock scenarios."
   ]
  },
  {
   "cell_type": "code",
   "execution_count": 71,
   "id": "a79899a6-bceb-4c17-b0a7-cbca6a3e0aa9",
   "metadata": {},
   "outputs": [],
   "source": [
    "stock1 = {\"Shirt\": 5, \"Pants\": 3}\n",
    "\n",
    "stock2 = {\"Shirt\": 1, \"Pants\": 0}\n",
    "\n",
    "stock3 = {\"Shirt\": 2, \"Shoes\": 5}\n",
    "\n",
    "order1 = {\"Shirt\": 2, \"Pants\": 1}\n",
    "\n",
    "order2 = {\"Shirt\": 3, \"Pants\": 1}\n",
    "\n",
    "order3 = {\"Shirt\": -2, \"Hat\": 0}"
   ]
  },
  {
   "cell_type": "code",
   "execution_count": 113,
   "id": "f626ad3d-b98e-47b8-8c54-112c33c924f4",
   "metadata": {},
   "outputs": [],
   "source": [
    "class OutOfStockError(Exception):\n",
    "    def __init__(self, item):\n",
    "        super().__init__(f\"Out of stock: {item}\")\n",
    "\n",
    "class InvalidOrderError(Exception):\n",
    "    def __init__(self, item):\n",
    "        super().__init__(f\"Invalid order quantity for item: {item}\")\n",
    "\n",
    "def processOrder(stock, order):\n",
    "    for key, value in order.items():\n",
    "        try:\n",
    "            if value < 1:\n",
    "                raise InvalidOrderError(key)\n",
    "            if key not in stock or stock[key] < value:\n",
    "                raise OutOfStockError(key)\n",
    "            print(f\"For {key}: Order Complete\")\n",
    "        except InvalidOrderError as e:\n",
    "            print(e)\n",
    "        except OutOfStockError as e:\n",
    "            print(e)\n"
   ]
  },
  {
   "cell_type": "code",
   "execution_count": 115,
   "id": "6dfee156-3c84-402f-88c3-4639cd09c163",
   "metadata": {},
   "outputs": [
    {
     "name": "stdout",
     "output_type": "stream",
     "text": [
      "Invalid order quantity for item: Shirt\n",
      "Invalid order quantity for item: Hat\n"
     ]
    }
   ],
   "source": [
    "processOrder(stock1, order3)"
   ]
  },
  {
   "cell_type": "markdown",
   "id": "8f0853b4-d6fb-4078-be2c-5328ccc46b11",
   "metadata": {},
   "source": [
    "### ### 8. Exception Handling in List Operations\n",
    "\n",
    " - Write a function `safe_list_access` that takes a list and an index as arguments and returns the element at that index. Use exception handling to manage:\n",
    "- Index out of range.\n",
    "- Any other error (provide a generic error message).\n",
    "\n",
    "- Test the function with various lists and indices, including valid, negative, and out-of-range indices.\n",
    "\n"
   ]
  },
  {
   "cell_type": "code",
   "execution_count": 3,
   "id": "9747c0de-40e2-4808-9f39-1789b93bcb8e",
   "metadata": {},
   "outputs": [
    {
     "name": "stdout",
     "output_type": "stream",
     "text": [
      "7\n"
     ]
    }
   ],
   "source": [
    "def safe_list_access(li, index):\n",
    "    try:\n",
    "        if not (-len(li)<= index<len(li)):\n",
    "            raise IndexError\n",
    "        return li[index]\n",
    "    except IndexError:\n",
    "        print(\"Index out of range\")\n",
    "    except Exception as e:\n",
    "        print(e)\n",
    "\n",
    "li = [\"is\", 2, 7, 8.9]\n",
    "print(safe_list_access(li, -2))"
   ]
  },
  {
   "cell_type": "code",
   "execution_count": 132,
   "id": "331d77f8-7b9c-4532-94b3-bcc42d19f53f",
   "metadata": {},
   "outputs": [
    {
     "name": "stdout",
     "output_type": "stream",
     "text": [
      "is\n",
      "4\n"
     ]
    }
   ],
   "source": [
    "li = [\"is\", 2, 7, 8.9]\n",
    "print(li[-4])\n",
    "print(len(li))"
   ]
  },
  {
   "cell_type": "markdown",
   "id": "ed98f387-8976-47ad-b7bb-76485c9dc19f",
   "metadata": {},
   "source": [
    "### 9. Exception Handling with Logging\n",
    "\n",
    "   - Write a function `read_and_log` that reads a file and logs any exceptions that occur to a separate log file. Use exception handling to manage:\n",
    "\n",
    "     - File not found.\n",
    "\n",
    "     - Permission denied.\n",
    "\n",
    "     - Any other error.\n",
    "\n",
    "   - Ensure the function writes detailed error messages to the log file and test it with various scenarios.\n",
    "\n"
   ]
  },
  {
   "cell_type": "code",
   "execution_count": 15,
   "id": "9e0e251e-9c17-4170-8b35-1c77c531b04b",
   "metadata": {},
   "outputs": [],
   "source": [
    "import logging\n",
    "logging.basicConfig(filename='result.log', level=logging.ERROR,\n",
    "                    format='%(asctime)s - %(levelname)s - %(message)s')\n",
    "\n",
    "def read_and_log(file_path):\n",
    "    try:\n",
    "        with open(file_path, 'r') as file:\n",
    "            content = file.read()\n",
    "            print(content)\n",
    "    except FileNotFoundError:\n",
    "        logging.error(f\"File not found: {file_path}\")\n",
    "    except PermissionError:\n",
    "        logging.error(f\"Permission denied: {file_path}\")\n",
    "    except Exception as e:\n",
    "        logging.error(f\"An unexpected error occurred: {e}\")\n",
    "\n",
    "read_and_log(\"bjbjdc.txt\")\n"
   ]
  },
  {
   "cell_type": "markdown",
   "id": "63bbbaa5-346c-4256-ab06-caf5a713db25",
   "metadata": {},
   "source": [
    "### 10. Write a function convert_to_float that takes a list of strings and attempts to convert each string to a float. Use exception handling to manage:\n",
    "\n",
    "* Value errors (e.g., strings that cannot be converted to float).\n",
    "\n",
    "* Any other unexpected errors.\n",
    "\n",
    "* The function should return a list of successfully converted floats and a list of errors (with the original string and the error message)."
   ]
  },
  {
   "cell_type": "code",
   "execution_count": 136,
   "id": "15085a4b-9573-4179-922a-fcbaa38ba584",
   "metadata": {},
   "outputs": [
    {
     "name": "stdout",
     "output_type": "stream",
     "text": [
      "Successfully converted floats: [123.45, 456.0, 78.9]\n",
      "Errors:\n",
      "('hello', \"ValueError: could not convert string to float: 'hello'\")\n",
      "('world', \"ValueError: could not convert string to float: 'world'\")\n"
     ]
    }
   ],
   "source": [
    "def convert_to_float(li):\n",
    "    floats = []\n",
    "    errors = []\n",
    "    \n",
    "    for s in li:\n",
    "        try:\n",
    "            floats.append(float(s))\n",
    "        except ValueError as ve:\n",
    "            errors.append((s, f\"ValueError: {ve}\"))\n",
    "        except Exception as e:\n",
    "            errors.append((s, f\"Unexpected error: {e}\"))\n",
    "    \n",
    "    return floats, errors\n",
    "\n",
    "li = [\"123.45\", \"hello\", \"456\", \"world\", \"78.9\"]\n",
    "floats, errors = convert_to_float(li)\n",
    "\n",
    "print(\"Successfully converted floats:\", floats)\n",
    "print(\"Errors:\")\n",
    "for error in errors:\n",
    "    print(error)\n"
   ]
  },
  {
   "cell_type": "code",
   "execution_count": 133,
   "id": "251f0d7b-f332-490d-91b8-a5d8217de6a4",
   "metadata": {},
   "outputs": [
    {
     "ename": "ValueError",
     "evalue": "could not convert string to float: 'Abhavya'",
     "output_type": "error",
     "traceback": [
      "\u001b[1;31m---------------------------------------------------------------------------\u001b[0m",
      "\u001b[1;31mValueError\u001b[0m                                Traceback (most recent call last)",
      "Cell \u001b[1;32mIn[133], line 2\u001b[0m\n\u001b[0;32m      1\u001b[0m a\u001b[38;5;241m=\u001b[39m\u001b[38;5;124m\"\u001b[39m\u001b[38;5;124mAbhavya\u001b[39m\u001b[38;5;124m\"\u001b[39m\n\u001b[1;32m----> 2\u001b[0m b \u001b[38;5;241m=\u001b[39m \u001b[38;5;28;43mfloat\u001b[39;49m\u001b[43m(\u001b[49m\u001b[43ma\u001b[49m\u001b[43m)\u001b[49m\n\u001b[0;32m      3\u001b[0m \u001b[38;5;28mprint\u001b[39m(b)\n",
      "\u001b[1;31mValueError\u001b[0m: could not convert string to float: 'Abhavya'"
     ]
    }
   ],
   "source": [
    "a=\"Abhavya\"\n",
    "b = float(a)\n",
    "print(b)"
   ]
  },
  {
   "cell_type": "code",
   "execution_count": 138,
   "id": "ae21ec1d-2027-44b4-aa3a-debb3fec62d7",
   "metadata": {},
   "outputs": [
    {
     "name": "stderr",
     "output_type": "stream",
     "text": [
      "ERROR:root:Error occurred while printing GeeksforGeeks\n",
      "Traceback (most recent call last):\n",
      "  File \"C:\\Users\\abhav\\AppData\\Local\\Temp\\ipykernel_10164\\3069948100.py\", line 5, in <module>\n",
      "    printf(\"GeeksforGeeks\")\n",
      "    ^^^^^^\n",
      "NameError: name 'printf' is not defined\n"
     ]
    }
   ],
   "source": [
    "# importing the module\n",
    "import logging\n",
    "\n",
    "try: \n",
    "\tprintf(\"GeeksforGeeks\")\n",
    "except Exception as Argument: \n",
    "\tlogging.exception(\"Error occurred while printing GeeksforGeeks\") \n"
   ]
  },
  {
   "cell_type": "code",
   "execution_count": 137,
   "id": "f9c297f6-85f7-4779-951c-7f1dcd6a8a19",
   "metadata": {},
   "outputs": [
    {
     "name": "stdout",
     "output_type": "stream",
     "text": [
      "name 'printf' is not defined\n"
     ]
    }
   ],
   "source": [
    "try:\n",
    "    printf(\"Hello!!!\")\n",
    "except Exception as e:\n",
    "    print(e)"
   ]
  },
  {
   "cell_type": "code",
   "execution_count": 140,
   "id": "c7a6de29-a88a-4903-a39c-69e10a1ec11d",
   "metadata": {},
   "outputs": [
    {
     "name": "stdout",
     "output_type": "stream",
     "text": [
      "dfdsf\n"
     ]
    }
   ],
   "source": [
    "try:\n",
    "    print(\"hello\"+5)\n",
    "except TypeError:\n",
    "    print(\"dfdsf\")"
   ]
  },
  {
   "cell_type": "code",
   "execution_count": 141,
   "id": "09ac6495-a479-4654-b51b-263fcb26959b",
   "metadata": {},
   "outputs": [
    {
     "ename": "TypeError",
     "evalue": "can only concatenate str (not \"int\") to str",
     "output_type": "error",
     "traceback": [
      "\u001b[1;31m---------------------------------------------------------------------------\u001b[0m",
      "\u001b[1;31mTypeError\u001b[0m                                 Traceback (most recent call last)",
      "Cell \u001b[1;32mIn[141], line 1\u001b[0m\n\u001b[1;32m----> 1\u001b[0m \u001b[38;5;28mprint\u001b[39m(\u001b[38;5;124;43m\"\u001b[39;49m\u001b[38;5;124;43mhello\u001b[39;49m\u001b[38;5;124;43m\"\u001b[39;49m\u001b[38;5;241;43m+\u001b[39;49m\u001b[38;5;241;43m5\u001b[39;49m)\n",
      "\u001b[1;31mTypeError\u001b[0m: can only concatenate str (not \"int\") to str"
     ]
    }
   ],
   "source": [
    "print(\"hello\"+5)"
   ]
  },
  {
   "cell_type": "code",
   "execution_count": 144,
   "id": "25216e52-14de-45fb-81c5-0510968647f3",
   "metadata": {},
   "outputs": [
    {
     "name": "stdout",
     "output_type": "stream",
     "text": [
      "ddgd\n",
      "dgfd\n"
     ]
    }
   ],
   "source": [
    "try:\n",
    "    num=int(\"42\")\n",
    "except ValueError:\n",
    "    print(\"dfxfd\")\n",
    "else:\n",
    "    print(\"ddgd\")\n",
    "finally:\n",
    "    print(\"dgfd\")"
   ]
  },
  {
   "cell_type": "code",
   "execution_count": 145,
   "id": "6380023e-1924-4fe3-9e07-237335a18d07",
   "metadata": {},
   "outputs": [
    {
     "name": "stdout",
     "output_type": "stream",
     "text": [
      "42\n"
     ]
    }
   ],
   "source": [
    "print(int(\"42\"))"
   ]
  },
  {
   "cell_type": "code",
   "execution_count": 9,
   "id": "d50144dd-dfb1-4f61-9b87-d44bb558428f",
   "metadata": {},
   "outputs": [
    {
     "name": "stdout",
     "output_type": "stream",
     "text": [
      "Cx\n",
      "Cx\n",
      "Cx\n",
      "Cx\n",
      "Cx\n",
      "Cx\n",
      "Cx\n",
      "Cx\n",
      "Cx\n",
      "Cx\n",
      "Cx\n",
      "Cx\n",
      "Cx\n",
      "Cx\n",
      "Cx\n",
      "Cx\n",
      "Cx\n",
      "Cx\n",
      "Cx\n",
      "Cx\n",
      "Cx\n",
      "Cx\n",
      "Cx\n",
      "Cx\n",
      "Cx\n",
      "Cx\n",
      "Cx\n",
      "Cx\n",
      "Cx\n",
      "Cx\n",
      "Cx\n",
      "Cx\n",
      "Cx\n",
      "Cx\n",
      "Cx\n",
      "Cx\n",
      "Cx\n",
      "Cx\n",
      "Cx\n",
      "Cx\n",
      "Cx\n",
      "Cx\n",
      "Cx\n",
      "Cx\n",
      "Cx\n",
      "Cx\n",
      "Cx\n",
      "Cx\n",
      "Cx\n",
      "Cx\n",
      "Cx\n",
      "Cx\n",
      "Cx\n",
      "Cx\n",
      "Cx\n",
      "Cx\n",
      "Cx\n",
      "Cx\n",
      "Cx\n",
      "Cx\n",
      "Cx\n",
      "Cx\n",
      "Cx\n",
      "Cx\n",
      "Cx\n",
      "Cx\n",
      "Cx\n",
      "Cx\n",
      "Cx\n",
      "Cx\n",
      "Cx\n",
      "Cx\n",
      "Cx\n",
      "Cx\n",
      "Cx\n",
      "Cx\n",
      "Cx\n",
      "Cx\n",
      "Cx\n",
      "Cx\n",
      "Cx\n",
      "Cx\n",
      "Cx\n",
      "Cx\n",
      "Cx\n",
      "Cx\n",
      "Cx\n",
      "Cx\n",
      "Cx\n",
      "Cx\n",
      "Cx\n",
      "Cx\n",
      "Cx\n",
      "Cx\n",
      "Cx\n",
      "Cx\n",
      "Cx\n",
      "Cx\n",
      "Cx\n",
      "Cx\n",
      "Cx\n",
      "Cx\n",
      "Cx\n",
      "Cx\n",
      "Cx\n",
      "Cx\n",
      "Cx\n",
      "Cx\n",
      "Cx\n",
      "Cx\n",
      "Cx\n",
      "Cx\n",
      "Cx\n",
      "Cx\n",
      "Cx\n",
      "Cx\n",
      "Cx\n",
      "Cx\n",
      "Cx\n",
      "Cx\n",
      "Cx\n",
      "Cx\n",
      "Cx\n",
      "Cx\n",
      "Cx\n",
      "Cx\n",
      "Cx\n",
      "Cx\n",
      "Cx\n",
      "Cx\n",
      "Cx\n",
      "Cx\n",
      "Cx\n",
      "Cx\n",
      "Cx\n",
      "Cx\n",
      "Cx\n",
      "Cx\n",
      "Cx\n",
      "Cx\n"
     ]
    }
   ],
   "source": [
    "with open(\"story.txt\", \"r\") as file:\n",
    "    content = file.read()\n",
    "    content = content.split()\n",
    "    for i in content:\n",
    "        if i.isdigit():\n",
    "            print(i)\n",
    "        else:\n",
    "            print(\"Cx\")"
   ]
  },
  {
   "cell_type": "code",
   "execution_count": 22,
   "id": "3d4fa922-21a4-4067-a761-719b2e703f3a",
   "metadata": {},
   "outputs": [
    {
     "data": {
      "text/plain": [
       "'HJIKOLTL'"
      ]
     },
     "execution_count": 22,
     "metadata": {},
     "output_type": "execute_result"
    }
   ],
   "source": [
    "a = \"HJIKOLTL\"\n",
    "a[-8::]"
   ]
  },
  {
   "cell_type": "code",
   "execution_count": 4,
   "id": "7f6fb278-b8de-42f8-9ebd-1ea645ab171d",
   "metadata": {},
   "outputs": [
    {
     "data": {
      "text/plain": [
       "'hgb'"
      ]
     },
     "execution_count": 4,
     "metadata": {},
     "output_type": "execute_result"
    }
   ],
   "source": [
    "def safe_list_access(lt, indices):\n",
    "    try:\n",
    "        if not (-len(lt) <= indices <= len(lt)):\n",
    "            raise IndexError\n",
    "        return lt[indices]\n",
    "\n",
    "    except IndexError:\n",
    "        print(f\"Error: Index {indices} is out of range for list of length {len(lt)}.\")\n",
    "    except Exception as e:\n",
    "        print(f\"Error: {e}\")\n",
    "\n",
    "\n",
    "lst = [34,45,23,56,\"hgb\",\"cud\", 65, True]\n",
    "# indices = lst[14]\n",
    "\n",
    "\n",
    "safe_list_access(lst, -4)"
   ]
  },
  {
   "cell_type": "code",
   "execution_count": null,
   "id": "60545ee9-5411-4ecd-a77c-587eaeaeb19f",
   "metadata": {},
   "outputs": [],
   "source": []
  }
 ],
 "metadata": {
  "kernelspec": {
   "display_name": "Python 3 (ipykernel)",
   "language": "python",
   "name": "python3"
  },
  "language_info": {
   "codemirror_mode": {
    "name": "ipython",
    "version": 3
   },
   "file_extension": ".py",
   "mimetype": "text/x-python",
   "name": "python",
   "nbconvert_exporter": "python",
   "pygments_lexer": "ipython3",
   "version": "3.11.5"
  }
 },
 "nbformat": 4,
 "nbformat_minor": 5
}
