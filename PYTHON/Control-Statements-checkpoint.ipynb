{
 "cells": [
  {
   "cell_type": "markdown",
   "id": "ef207a21-2075-4c06-8eb1-96f8604ddf5e",
   "metadata": {},
   "source": [
    "### Wap to check whether a character is alphabet or not."
   ]
  },
  {
   "cell_type": "code",
   "execution_count": 2,
   "id": "08d74e1a-cfb5-4e11-9435-f6414343c366",
   "metadata": {},
   "outputs": [
    {
     "name": "stdin",
     "output_type": "stream",
     "text": [
      "Enter a character:  a\n"
     ]
    },
    {
     "name": "stdout",
     "output_type": "stream",
     "text": [
      "Character is a alphabet\n"
     ]
    }
   ],
   "source": [
    "char = input(\"Enter a character: \")\n",
    "if(65<=ord(char)<=90) or (97<=ord(char)<=122):\n",
    "    print(\"Character is a alphabet\")\n",
    "else:\n",
    "    print(\"Not Alphabet\")"
   ]
  },
  {
   "cell_type": "markdown",
   "id": "79af8a30-add7-4a9c-b752-e0d6d3118d77",
   "metadata": {},
   "source": [
    "### Wap to check whether a number is negative, positive or zero."
   ]
  },
  {
   "cell_type": "code",
   "execution_count": 7,
   "id": "96e47e3b-27e0-464a-961e-f9ffe3b7d642",
   "metadata": {},
   "outputs": [
    {
     "name": "stdin",
     "output_type": "stream",
     "text": [
      "Enter a number: 4\n"
     ]
    },
    {
     "name": "stdout",
     "output_type": "stream",
     "text": [
      "Number is positive\n"
     ]
    }
   ],
   "source": [
    "num = int(input(\"Enter a number:\"))\n",
    "if(num>0):\n",
    "    print(\"Number is positive\")\n",
    "elif(num<0):\n",
    "    print(\"Number is negative\")\n",
    "else:\n",
    "    print(\"Number is zero\")"
   ]
  },
  {
   "cell_type": "markdown",
   "id": "25e8626d-a0e6-41aa-949d-646bda53ff1a",
   "metadata": {},
   "source": [
    "### Wap to check login and password.  \r\n",
    "\r\n"
   ]
  },
  {
   "cell_type": "code",
   "execution_count": 9,
   "id": "7a596baf-e239-4c07-9a4e-02e29fde23b4",
   "metadata": {},
   "outputs": [
    {
     "name": "stdin",
     "output_type": "stream",
     "text": [
      "Enter User Id:  abhavya@gmail.com\n",
      "Enter Password:  jhsdfj\n"
     ]
    },
    {
     "name": "stdout",
     "output_type": "stream",
     "text": [
      "Invalid Password\n"
     ]
    }
   ],
   "source": [
    "userid = \"abhavya@gmail.com\"\n",
    "password = \"abha@123\"\n",
    "\n",
    "userId = input(\"Enter User Id: \")\n",
    "\n",
    "if(userid == userId):\n",
    "    pswd = input(\"Enter Password: \")\n",
    "    if(pswd == password):\n",
    "        print(\"Login Successfull\")\n",
    "    else:\n",
    "        print(\"Invalid Password\")\n",
    "else:\n",
    "    print(\"Invalid login\")\n"
   ]
  },
  {
   "cell_type": "markdown",
   "id": "bd02bcdf-3fca-48bf-bee6-febd7bf777f6",
   "metadata": {},
   "source": [
    "### Wap to check if the user has provided the correct currency note for deposit or not."
   ]
  },
  {
   "cell_type": "code",
   "execution_count": 12,
   "id": "06a625bf-a34e-47bd-a52c-a50bacc3061c",
   "metadata": {},
   "outputs": [
    {
     "name": "stdin",
     "output_type": "stream",
     "text": [
      "Enter currency note:  45\n"
     ]
    },
    {
     "name": "stdout",
     "output_type": "stream",
     "text": [
      "Currency is not valid for deposit\n"
     ]
    }
   ],
   "source": [
    "validNotes = [2000, 500, 200, 100, 50]\n",
    "note = int(input(\"Enter currency note: \"))\n",
    "if note in validNotes:\n",
    "    print(\"Currency  is valid for deposit\")\n",
    "else:\n",
    "    print(\"Currency is not valid for deposit\")"
   ]
  },
  {
   "cell_type": "markdown",
   "id": "4c961c70-0094-4fb2-8cb2-93c5765706fb",
   "metadata": {},
   "source": [
    "### Wap to check whether a character is alphabet, number or special character."
   ]
  },
  {
   "cell_type": "code",
   "execution_count": 16,
   "id": "0f1d0255-00a8-40b1-bf0b-86751291923e",
   "metadata": {},
   "outputs": [
    {
     "name": "stdin",
     "output_type": "stream",
     "text": [
      "Enter a character:  @\n"
     ]
    },
    {
     "name": "stdout",
     "output_type": "stream",
     "text": [
      "Special Character\n"
     ]
    }
   ],
   "source": [
    "character = input(\"Enter a character: \")\n",
    "if (65<=ord(character)<=90) or (97<=ord(character)<=122):\n",
    "    print(\"Character is a alphabet\")\n",
    "elif (48<=ord(character)<=57):\n",
    "    print(\"Character is a Number\")\n",
    "else:\n",
    "    print(\"Special Character\")"
   ]
  },
  {
   "cell_type": "markdown",
   "id": "dfb145bd-3011-4297-9e02-c49a132fc77b",
   "metadata": {},
   "source": [
    "###   Input units of electricity from user and print the bill according to the following criteria\r\n",
    "\r\n",
    "a.    Less than 200 : no bill\r\n",
    "\r\n",
    "b.    Next 200-300  -   1.2/perunit       100*1\r\n",
    "\r\n",
    "c.     Next 300-400  -1.5/perunit           100*2\r\n",
    "\r\n",
    "d.    Next 400-500  - 2.5/perunit          100*3\r\n",
    "\r\n",
    "e.    Above 500 -   8/per unit"
   ]
  },
  {
   "cell_type": "code",
   "execution_count": 18,
   "id": "957cd06b-5062-44ac-a47a-55606604f359",
   "metadata": {},
   "outputs": [
    {
     "name": "stdin",
     "output_type": "stream",
     "text": [
      "Enter units of electricity 600\n"
     ]
    },
    {
     "name": "stdout",
     "output_type": "stream",
     "text": [
      "The Electricity bill for 600.0 is 1320.0\n"
     ]
    }
   ],
   "source": [
    "unit = float(input(\"Enter units of electricity\"))\n",
    "bill = 0;\n",
    "if unit<200:\n",
    "    print(\"No bill\")\n",
    "elif unit<=300:\n",
    "    bill = (unit - 200) * 1.2\n",
    "elif unit<=400:\n",
    "    bill = (100*1.2)+((unit-300)*1.5)\n",
    "elif unit<=500:\n",
    "    bill = (100*1.2)+(100*1.5)+(unit-400)*2.5\n",
    "else:\n",
    "    bill = (100*1.2)+(100*1.5)+(100*2.5)+(unit-500)*8\n",
    "\n",
    "print(f\"The Electricity bill for {unit} is {bill}\")"
   ]
  },
  {
   "cell_type": "code",
   "execution_count": 23,
   "id": "40854f14-b1b9-4ca1-bdaf-77b271eb2901",
   "metadata": {},
   "outputs": [
    {
     "name": "stdin",
     "output_type": "stream",
     "text": [
      "Enter units of electricity 600\n"
     ]
    },
    {
     "name": "stdout",
     "output_type": "stream",
     "text": [
      "The Electricity bill for 600.0 is 3200.0\n"
     ]
    }
   ],
   "source": [
    "unit = float(input(\"Enter units of electricity\"))\n",
    "bill = 0;\n",
    "if unit<200:\n",
    "    print(\"No bill\")\n",
    "elif unit<=300:\n",
    "    bill = (unit - 200) * 1.2\n",
    "elif unit<=400:\n",
    "    bill = (unit-200)*1.5\n",
    "elif unit<=500:\n",
    "    bill = (unit-200)*2.5\n",
    "else:\n",
    "    bill = (unit-200)*8\n",
    "\n",
    "print(f\"The Electricity bill for {unit} is {bill}\")"
   ]
  },
  {
   "cell_type": "markdown",
   "id": "e1f1d632-0164-4e34-a238-2b25c93f3756",
   "metadata": {},
   "source": [
    "### input bank login and password and check whether it is valid or not\r\n",
    "\r\n",
    " if login is successful, then give options to user for the following:-\r\n",
    "\r\n",
    " 1. Change password\r\n",
    "\r\n",
    " 2. Check Balance\r\n",
    "\r\n",
    " 3. Deposit Amount\r\n",
    "\r\n",
    " 4. Withdraw Amount"
   ]
  },
  {
   "cell_type": "code",
   "execution_count": null,
   "id": "66d826db-5f0c-4002-a073-818f56294fb6",
   "metadata": {},
   "outputs": [],
   "source": [
    "userid = \"abhavya@gmail.com\"\n",
    "password = \"abha@123\"\n",
    "\n",
    "userId = input(\"Enter User Id: \")\n",
    "\n",
    "if(userid == userId):\n",
    "    pswd = input(\"Enter Password: \")\n",
    "    if(pswd == password):\n",
    "        print(\"Login Successfull\")\n",
    "        print(\n",
    "    else:\n",
    "        print(\"Invalid Password\")\n",
    "else:\n",
    "    print(\"Invalid login\")\n"
   ]
  },
  {
   "attachments": {},
   "cell_type": "markdown",
   "id": "06a65a44-85d9-4789-b9f9-886e0138a07c",
   "metadata": {},
   "source": [
    "### Input amount and print its denomination :-\r\n",
    "\r\n",
    "a.    2000X\r\n",
    "\r\n",
    "b.    500 X\r\n",
    "\r\n",
    "c.     200 X\r\n",
    "\r\n",
    "d.    100 X\r\n",
    "\r\n",
    "e.    50 X"
   ]
  },
  {
   "cell_type": "code",
   "execution_count": 27,
   "id": "c5a45a80-a63b-47f3-8f2c-2e3c2d1842dc",
   "metadata": {},
   "outputs": [
    {
     "name": "stdin",
     "output_type": "stream",
     "text": [
      "Enter the amount 13450\n"
     ]
    }
   ],
   "source": [
    "amount = int(input(\"Enter the amount\"))\n",
    "\n",
    "denomination = [2000, 500, 200, 100, 50]\n",
    "result = {}\n",
    "for i in  denomination:\n",
    "    if amount >= i:\n",
    "        j = amount//i\n",
    "        amount = amount % i\n",
    "\n",
    "    for key, value in result:\n",
    "        print(f\"{key}; {value}\")\n",
    "        "
   ]
  },
  {
   "cell_type": "markdown",
   "id": "032c74e2-5fb6-4b4f-9916-0214fe1825ce",
   "metadata": {},
   "source": [
    "###  write a program to generate the following payslip for an employee:-0 % OF BS\r\n",
    "\r\n",
    "EXP>15 BONUS: 15 % OF BS\r\n",
    "\r\n",
    "EXP<15   BONUS   10% OF BS"
   ]
  },
  {
   "cell_type": "code",
   "execution_count": 21,
   "id": "9c678518-bd20-43ab-9395-04413604e123",
   "metadata": {},
   "outputs": [
    {
     "name": "stdin",
     "output_type": "stream",
     "text": [
      "Enter Basic Salary:  60000\n",
      "Enter Experience in Year:  25\n",
      "Enter your name:  Abhavya\n"
     ]
    },
    {
     "name": "stdout",
     "output_type": "stream",
     "text": [
      "-----------------------------------------------------------------------------------------------------------------------------------------------\n",
      "                                                           Pay Slip                                                                            \n",
      "-----------------------------------------------------------------------------------------------------------------------------------------------\n",
      "Name: Abhavya\n",
      "Experience: 25\n",
      "Basic Salary: 60000\n",
      "-----------------------------------------------------------------------------------------------------------------------------------------------\n",
      "DA: 3000.0\n",
      "TA: 3900.0\n",
      "CCA: 4800.0\n",
      "HRA: 6000.0\n",
      "PF: 7500.0\n",
      "BONUS: 12000.0\n",
      "TOTAL SALARY: 97200.0\n",
      "NET SALARY: 89700.0\n"
     ]
    }
   ],
   "source": [
    "basicSalary = int(input(\"Enter Basic Salary: \"))\n",
    "exp = int(input(\"Enter Experience in Year: \"))\n",
    "name = input(\"Enter your name: \")\n",
    "print(\"-----------------------------------------------------------------------------------------------------------------------------------------------\")\n",
    "print(\"                                                           Pay Slip                                                                            \")\n",
    "print(\"-----------------------------------------------------------------------------------------------------------------------------------------------\")\n",
    "print(f\"Name: {name}\")\n",
    "print(f\"Experience: {exp}\")\n",
    "print(f\"Basic Salary: {basicSalary}\")\n",
    "print(\"-----------------------------------------------------------------------------------------------------------------------------------------------\")\n",
    "\n",
    "\n",
    "DA = 0.05*basicSalary\n",
    "TA = 0.065*basicSalary\n",
    "CCA = 0.08*basicSalary\n",
    "HRA = 0.1*basicSalary\n",
    "PF = 0.125*basicSalary\n",
    "bonus = 0\n",
    "if exp>25:\n",
    "    bonus = 0.25*basicSalary\n",
    "elif exp>20:\n",
    "    bonus = 0.20*basicSalary\n",
    "elif exp>15:\n",
    "    bonus = 0.15*basicSalary\n",
    "else:\n",
    "    bonus = 0.1*basicSalary\n",
    "totalSalary = basicSalary+DA+TA+CCA+HRA+PF+bonus\n",
    "netSalary = totalSalary - PF\n",
    "\n",
    "print(f\"DA: {DA}\")\n",
    "print(f\"TA: {TA}\")\n",
    "print(f\"CCA: {CCA}\")\n",
    "print(f\"HRA: {HRA}\")\n",
    "print(f\"PF: {PF}\")\n",
    "print(f\"BONUS: {bonus}\")\n",
    "print(f\"TOTAL SALARY: {totalSalary}\")\n",
    "print(f\"NET SALARY: {netSalary}\")\n",
    "\n"
   ]
  },
  {
   "cell_type": "code",
   "execution_count": null,
   "id": "ac2604a8-6f9f-486d-b4b3-73f01f37dca2",
   "metadata": {},
   "outputs": [],
   "source": []
  }
 ],
 "metadata": {
  "kernelspec": {
   "display_name": "Python 3 (ipykernel)",
   "language": "python",
   "name": "python3"
  },
  "language_info": {
   "codemirror_mode": {
    "name": "ipython",
    "version": 3
   },
   "file_extension": ".py",
   "mimetype": "text/x-python",
   "name": "python",
   "nbconvert_exporter": "python",
   "pygments_lexer": "ipython3",
   "version": "3.11.5"
  }
 },
 "nbformat": 4,
 "nbformat_minor": 5
}
