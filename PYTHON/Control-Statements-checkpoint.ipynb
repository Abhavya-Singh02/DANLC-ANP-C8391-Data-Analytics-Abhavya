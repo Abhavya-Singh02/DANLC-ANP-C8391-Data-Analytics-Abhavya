{
 "cells": [
  {
   "cell_type": "markdown",
   "id": "ef207a21-2075-4c06-8eb1-96f8604ddf5e",
   "metadata": {},
   "source": [
    "### Wap to check whether a character is alphabet or not."
   ]
  },
  {
   "cell_type": "code",
   "execution_count": 2,
   "id": "08d74e1a-cfb5-4e11-9435-f6414343c366",
   "metadata": {},
   "outputs": [
    {
     "name": "stdin",
     "output_type": "stream",
     "text": [
      "Enter a character:  a\n"
     ]
    },
    {
     "name": "stdout",
     "output_type": "stream",
     "text": [
      "Character is a alphabet\n"
     ]
    }
   ],
   "source": [
    "char = input(\"Enter a character: \")\n",
    "if(65<=ord(char)<=90) or (97<=ord(char)<=122):\n",
    "    print(\"Character is a alphabet\")\n",
    "else:\n",
    "    print(\"Not Alphabet\")"
   ]
  },
  {
   "cell_type": "markdown",
   "id": "79af8a30-add7-4a9c-b752-e0d6d3118d77",
   "metadata": {},
   "source": [
    "### Wap to check whether a number is negative, positive or zero."
   ]
  },
  {
   "cell_type": "code",
   "execution_count": 7,
   "id": "96e47e3b-27e0-464a-961e-f9ffe3b7d642",
   "metadata": {},
   "outputs": [
    {
     "name": "stdin",
     "output_type": "stream",
     "text": [
      "Enter a number: 4\n"
     ]
    },
    {
     "name": "stdout",
     "output_type": "stream",
     "text": [
      "Number is positive\n"
     ]
    }
   ],
   "source": [
    "num = int(input(\"Enter a number:\"))\n",
    "if(num>0):\n",
    "    print(\"Number is positive\")\n",
    "elif(num<0):\n",
    "    print(\"Number is negative\")\n",
    "else:\n",
    "    print(\"Number is zero\")"
   ]
  },
  {
   "cell_type": "markdown",
   "id": "25e8626d-a0e6-41aa-949d-646bda53ff1a",
   "metadata": {},
   "source": [
    "### Wap to check login and password.  \r\n",
    "\r\n"
   ]
  },
  {
   "cell_type": "code",
   "execution_count": 9,
   "id": "7a596baf-e239-4c07-9a4e-02e29fde23b4",
   "metadata": {},
   "outputs": [
    {
     "name": "stdin",
     "output_type": "stream",
     "text": [
      "Enter User Id:  abhavya@gmail.com\n",
      "Enter Password:  jhsdfj\n"
     ]
    },
    {
     "name": "stdout",
     "output_type": "stream",
     "text": [
      "Invalid Password\n"
     ]
    }
   ],
   "source": [
    "userid = \"abhavya@gmail.com\"\n",
    "password = \"abha@123\"\n",
    "\n",
    "userId = input(\"Enter User Id: \")\n",
    "\n",
    "if(userid == userId):\n",
    "    pswd = input(\"Enter Password: \")\n",
    "    if(pswd == password):\n",
    "        print(\"Login Successfull\")\n",
    "    else:S\n",
    "        print(\"Invalid Password\")\n",
    "else:\n",
    "    print(\"Invalid login\")\n"
   ]
  },
  {
   "cell_type": "markdown",
   "id": "bd02bcdf-3fca-48bf-bee6-febd7bf777f6",
   "metadata": {},
   "source": [
    "### Wap to check if the user has provided the correct currency note for deposit or not."
   ]
  },
  {
   "cell_type": "code",
   "execution_count": 12,
   "id": "06a625bf-a34e-47bd-a52c-a50bacc3061c",
   "metadata": {},
   "outputs": [
    {
     "name": "stdin",
     "output_type": "stream",
     "text": [
      "Enter currency note:  45\n"
     ]
    },
    {
     "name": "stdout",
     "output_type": "stream",
     "text": [
      "Currency is not valid for deposit\n"
     ]
    }
   ],
   "source": [
    "validNotes = [2000, 500, 200, 100, 50]\n",
    "note = int(input(\"Enter currency note: \"))\n",
    "if note in validNotes:\n",
    "    print(\"Currency  is valid for deposit\")\n",
    "else:\n",
    "    print(\"Currency is not valid for deposit\")"
   ]
  },
  {
   "cell_type": "markdown",
   "id": "4c961c70-0094-4fb2-8cb2-93c5765706fb",
   "metadata": {},
   "source": [
    "### Wap to check whether a character is alphabet, number or special character."
   ]
  },
  {
   "cell_type": "code",
   "execution_count": 16,
   "id": "0f1d0255-00a8-40b1-bf0b-86751291923e",
   "metadata": {},
   "outputs": [
    {
     "name": "stdin",
     "output_type": "stream",
     "text": [
      "Enter a character:  @\n"
     ]
    },
    {
     "name": "stdout",
     "output_type": "stream",
     "text": [
      "Special Character\n"
     ]
    }
   ],
   "source": [
    "character = input(\"Enter a character: \")\n",
    "if (65<=ord(character)<=90) or (97<=ord(character)<=122):\n",
    "    print(\"Character is a alphabet\")\n",
    "elif (48<=ord(character)<=57):\n",
    "    print(\"Character is a Number\")\n",
    "else:\n",
    "    print(\"Special Character\")"
   ]
  },
  {
   "cell_type": "markdown",
   "id": "dfb145bd-3011-4297-9e02-c49a132fc77b",
   "metadata": {},
   "source": [
    "###   Input units of electricity from user and print the bill according to the following criteria\r\n",
    "\r\n",
    "a.    Less than 200 : no bill\r\n",
    "\r\n",
    "b.    Next 200-300  -   1.2/perunit       100*1\r\n",
    "\r\n",
    "c.     Next 300-400  -1.5/perunit           100*2\r\n",
    "\r\n",
    "d.    Next 400-500  - 2.5/perunit          100*3\r\n",
    "\r\n",
    "e.    Above 500 -   8/per unit"
   ]
  },
  {
   "cell_type": "code",
   "execution_count": 3,
   "id": "957cd06b-5062-44ac-a47a-55606604f359",
   "metadata": {},
   "outputs": [
    {
     "name": "stdin",
     "output_type": "stream",
     "text": [
      "Enter units of electricity 430\n"
     ]
    },
    {
     "name": "stdout",
     "output_type": "stream",
     "text": [
      "The Electricity bill for 430.0 is 345.0\n"
     ]
    }
   ],
   "source": [
    "unit = float(input(\"Enter units of electricity\"))\n",
    "bill = 0;\n",
    "if unit<200:\n",
    "    print(\"No bill\")\n",
    "elif unit<=300:\n",
    "    bill = (unit - 200) * 1.2\n",
    "elif unit<=400:\n",
    "    bill = (100*1.2)+((unit-300)*1.5)\n",
    "elif unit<=500:\n",
    "    bill = (100*1.2)+(100*1.5)+(unit-400)*2.5\n",
    "else:\n",
    "    bill = (100*1.2)+(100*1.5)+(100*2.5)+(unit-500)*8\n",
    "\n",
    "print(f\"The Electricity bill for {unit} is {bill}\")"
   ]
  },
  {
   "cell_type": "markdown",
   "id": "ca2cb20a-0cf5-4143-8d9f-ce954e184d78",
   "metadata": {},
   "source": [
    "### Input amount and print its denomination :-"
   ]
  },
  {
   "cell_type": "code",
   "execution_count": 7,
   "id": "c5a45a80-a63b-47f3-8f2c-2e3c2d1842dc",
   "metadata": {},
   "outputs": [
    {
     "name": "stdin",
     "output_type": "stream",
     "text": [
      "Enter the amount:  12890\n"
     ]
    },
    {
     "name": "stdout",
     "output_type": "stream",
     "text": [
      "2000 X 6 = 12000\n",
      "500 X 1 = 500\n",
      "200 X 1 = 200\n",
      "100 X 1 = 100\n",
      "50 X 1 = 50\n",
      "Total = 12850\n"
     ]
    }
   ],
   "source": [
    "amount = int(input(\"Enter the amount: \"))\n",
    "\n",
    "denominations = [2000, 500, 200, 100, 50]\n",
    "result = {}\n",
    "\n",
    "for denom in denominations:\n",
    "    if amount >= denom:\n",
    "        count = amount // denom\n",
    "        result[denom] = count\n",
    "        amount %= denom\n",
    "\n",
    "for denom, count in result.items():\n",
    "    print(f\"{denom} X {count} = {denom * count}\")\n",
    "\n",
    "total = sum(denom * count for denom, count in result.items())\n",
    "print(f\"Total = {total}\")\n"
   ]
  },
  {
   "cell_type": "code",
   "execution_count": null,
   "id": "8f0dabc9-0b61-47e0-9785-a92417288450",
   "metadata": {},
   "outputs": [
    {
     "name": "stdin",
     "output_type": "stream",
     "text": [
      "Enter User Id:  abhavya@gmail.com\n",
      "Enter Password:  abha@123\n"
     ]
    },
    {
     "name": "stdout",
     "output_type": "stream",
     "text": [
      "Login Successful\n",
      "\n",
      "Menu:\n",
      "1. Change Password\n",
      "2. Check Balance\n",
      "3. Deposit Amount\n",
      "4. Withdraw Amount\n",
      "5. Exit\n"
     ]
    },
    {
     "name": "stdin",
     "output_type": "stream",
     "text": [
      "Enter your choice (1-5):  1\n"
     ]
    }
   ],
   "source": [
    "userid = \"abhavya@gmail.com\"\n",
    "password = \"abha@123\"\n",
    "balance = 50000\n",
    "\n",
    "\n",
    "userId = input(\"Enter User Id: \")\n",
    "\n",
    "if(userid == userId):\n",
    "    pswd = input(\"Enter Password: \")\n",
    "    if(pswd == password):\n",
    "        print(\"Login Successful\")\n",
    "        while True:\n",
    "            # Present the menu options\n",
    "            print(\"\\nMenu:\")\n",
    "            print(\"1. Change Password\")\n",
    "            print(\"2. Check Balance\")\n",
    "            print(\"3. Deposit Amount\")\n",
    "            print(\"4. Withdraw Amount\")\n",
    "            print(\"5. Exit\")\n",
    "                \n",
    "            choice = input(\"Enter your choice (1-5): \")\n",
    "                \n",
    "            if choice == \"1\":\n",
    "                old_pswd = input(\"Enter your old password for veriication: \")\n",
    "                if old_pswd == password:\n",
    "                    new_pswd = input(\"Enter a new password: \")\n",
    "                    password = new_pswd\n",
    "                    print(\"Password changed successfully.\")\n",
    "                else:\n",
    "                    print(\"Incorrect Password\")\n",
    "            elif choice == \"2\":\n",
    "                print(f\"Your current balance is: {balance:.2f}\")\n",
    "                \n",
    "            elif choice == \"3\":\n",
    "                amount = float(input(\"Enter the amount to deposit: \"))\n",
    "                balance += amount\n",
    "                print(f\"{amount:.2f} has been deposited into your account.\")\n",
    "                print(f\"Your current balance is: {balance:.2f}\")\n",
    "                \n",
    "            elif choice == \"4\":\n",
    "                amount = float(input(\"Enter the amount to withdraw: \"))\n",
    "                if amount>balance:\n",
    "                    print(\"Not sufficient balance\")\n",
    "                else:\n",
    "                    balance -= amount\n",
    "                    print(f\"{amount:.2f} has been withdrawn from your account.\")\n",
    "                    print(f\"Your current balance is: {balance:.2f}\")\n",
    "                \n",
    "            elif choice == \"5\":\n",
    "                print(\"B bye!\")\n",
    "                break\n",
    "                \n",
    "            else:\n",
    "                print(\"Invalid choice.\")\n",
    "    else:\n",
    "        print(\"Invalid Password\")\n",
    "else:\n",
    "    print(\"Invalid login\")\n"
   ]
  },
  {
   "cell_type": "markdown",
   "id": "032c74e2-5fb6-4b4f-9916-0214fe1825ce",
   "metadata": {},
   "source": [
    "###  write a program to generate the following payslip for an employee:-0 % OF BS\r\n",
    "\r\n",
    "EXP>15 BONUS: 15 % OF BS\r\n",
    "\r\n",
    "EXP<15   BONUS   10% OF BS"
   ]
  },
  {
   "cell_type": "code",
   "execution_count": 10,
   "id": "9c678518-bd20-43ab-9395-04413604e123",
   "metadata": {},
   "outputs": [
    {
     "name": "stdin",
     "output_type": "stream",
     "text": [
      "Enter Basic Salary:  50000\n",
      "Enter Experience in Year:  22\n",
      "Enter your name:  Abhavya\n"
     ]
    },
    {
     "name": "stdout",
     "output_type": "stream",
     "text": [
      "-----------------------------------------------------------------------------------------------------------------------------------------------\n",
      "                                                           Pay Slip                                                                            \n",
      "-----------------------------------------------------------------------------------------------------------------------------------------------\n",
      "Name: Abhavya\n",
      "Experience: 22\n",
      "Basic Salary: 50000\n",
      "-----------------------------------------------------------------------------------------------------------------------------------------------\n",
      "DA: 2500.0\n",
      "TA: 3250.0\n",
      "CCA: 4000.0\n",
      "HRA: 5000.0\n",
      "PF: 6250.0\n",
      "BONUS: 10000.0\n",
      "TOTAL SALARY: 81000.0\n",
      "NET SALARY: 74750.0\n"
     ]
    }
   ],
   "source": [
    "basicSalary = int(input(\"Enter Basic Salary: \"))\n",
    "exp = int(input(\"Enter Experience in Year: \"))\n",
    "name = input(\"Enter your name: \")\n",
    "print(\"-----------------------------------------------------------------------------------------------------------------------------------------------\")\n",
    "print(\"                                                           Pay Slip                                                                            \")\n",
    "print(\"-----------------------------------------------------------------------------------------------------------------------------------------------\")\n",
    "print(f\"Name: {name}\")\n",
    "print(f\"Experience: {exp}\")\n",
    "print(f\"Basic Salary: {basicSalary}\")\n",
    "print(\"-----------------------------------------------------------------------------------------------------------------------------------------------\")\n",
    "\n",
    "\n",
    "DA = 0.05*basicSalary\n",
    "TA = 0.065*basicSalary\n",
    "CCA = 0.08*basicSalary\n",
    "HRA = 0.1*basicSalary\n",
    "PF = 0.125*basicSalary\n",
    "bonus = 0\n",
    "if exp>25:\n",
    "    bonus = 0.25*basicSalary\n",
    "elif exp>20:\n",
    "    bonus = 0.20*basicSalary\n",
    "elif exp>15:\n",
    "    bonus = 0.15*basicSalary\n",
    "else:\n",
    "    bonus = 0.1*basicSalary\n",
    "totalSalary = basicSalary+DA+TA+CCA+HRA+PF+bonus\n",
    "netSalary = totalSalary - PF\n",
    "\n",
    "print(f\"DA: {DA}\")\n",
    "print(f\"TA: {TA}\")\n",
    "print(f\"CCA: {CCA}\")\n",
    "print(f\"HRA: {HRA}\")\n",
    "print(f\"PF: {PF}\")\n",
    "print(f\"BONUS: {bonus}\")\n",
    "print(f\"TOTAL SALARY: {totalSalary}\")\n",
    "print(f\"NET SALARY: {netSalary}\")\n",
    "\n"
   ]
  },
  {
   "cell_type": "code",
   "execution_count": 11,
   "id": "b31b47dc-575c-4322-86ef-4a88ac5fb213",
   "metadata": {},
   "outputs": [
    {
     "data": {
      "text/plain": [
       "16"
      ]
     },
     "execution_count": 11,
     "metadata": {},
     "output_type": "execute_result"
    }
   ],
   "source": [
    "pow(4,2)"
   ]
  },
  {
   "cell_type": "code",
   "execution_count": 12,
   "id": "9ec36fd9-e784-44c5-b29a-26772460c331",
   "metadata": {},
   "outputs": [
    {
     "data": {
      "text/plain": [
       "int"
      ]
     },
     "execution_count": 12,
     "metadata": {},
     "output_type": "execute_result"
    }
   ],
   "source": [
    "a = 5\n",
    "type(a)"
   ]
  },
  {
   "cell_type": "code",
   "execution_count": null,
   "id": "cc8af478-7882-4948-9d9c-2543478c6837",
   "metadata": {},
   "outputs": [],
   "source": []
  }
 ],
 "metadata": {
  "kernelspec": {
   "display_name": "Python 3 (ipykernel)",
   "language": "python",
   "name": "python3"
  },
  "language_info": {
   "codemirror_mode": {
    "name": "ipython",
    "version": 3
   },
   "file_extension": ".py",
   "mimetype": "text/x-python",
   "name": "python",
   "nbconvert_exporter": "python",
   "pygments_lexer": "ipython3",
   "version": "3.11.5"
  }
 },
 "nbformat": 4,
 "nbformat_minor": 5
}
