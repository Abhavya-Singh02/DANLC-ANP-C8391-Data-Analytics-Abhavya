{
 "cells": [
  {
   "cell_type": "code",
   "execution_count": 6,
   "id": "094d02a2-d41d-4662-b371-e50938c8cd48",
   "metadata": {},
   "outputs": [
    {
     "name": "stdout",
     "output_type": "stream",
     "text": [
      "Total number of Alphabets, Numbers and Special Characters is 8, 5, 4\n"
     ]
    }
   ],
   "source": [
    "string = \"ghfdbnbh54876#$%^\"\n",
    "countAlphabet = 0\n",
    "countNumber = 0\n",
    "countSpecialChr = 0\n",
    "\n",
    "for i in string:\n",
    "    if (97 <= ord(i) <= 122) or (65 <= ord(i) <= 90): \n",
    "        countAlphabet += 1\n",
    "    elif 48 <= ord(i) <= 57:  \n",
    "        countNumber += 1\n",
    "    else:\n",
    "        countSpecialChr += 1\n",
    "\n",
    "print(f\"Total number of Alphabets, Numbers and Special Characters is {countAlphabet}, {countNumber}, {countSpecialChr}\")\n"
   ]
  },
  {
   "cell_type": "markdown",
   "id": "e519391c-fd0f-4f7a-b136-cc6f421adc0e",
   "metadata": {},
   "source": [
    "### 1. Write a Python program to count the occurrences of each word in a\r\n",
    "given sentence\r\n",
    "string = “To change the overall look of your document. To change the look\r\n",
    "available in the gallery”\r"
   ]
  },
  {
   "cell_type": "code",
   "execution_count": 1,
   "id": "0905850a-efed-459a-a79b-2a3830f46be9",
   "metadata": {},
   "outputs": [
    {
     "name": "stdin",
     "output_type": "stream",
     "text": [
      "Enter the word that you want to check the occurence:  to\n"
     ]
    },
    {
     "name": "stdout",
     "output_type": "stream",
     "text": [
      "['to', 'change', 'the', 'overall', 'look', 'of', 'your', 'document.', 'to', 'change', 'the', 'look', 'available', 'in', 'the', 'gallery']\n",
      "Number of occurence is: 2\n"
     ]
    }
   ],
   "source": [
    "string = \"To change the overall look of your document. To change the look available in the gallery\"\n",
    "string = string.lower()\n",
    "checkWord = input(\"Enter the word that you want to check the occurence: \") \n",
    "words = string.split()\n",
    "count = 0\n",
    "\n",
    "for word in words:\n",
    "    if checkWord == word:\n",
    "        count +=1\n",
    "\n",
    "print(f\"Number of occurence is: {count}\")"
   ]
  },
  {
   "cell_type": "markdown",
   "id": "d7ec6cdf-1b7f-4e7a-95e8-3103a6fefbeb",
   "metadata": {},
   "source": [
    "### Write a Python program to remove a newline in Python\r\n",
    "String = \"\\nBest \\nDeeptech \\nPython \\nTraining\\n\""
   ]
  },
  {
   "cell_type": "code",
   "execution_count": 18,
   "id": "c99d4082-4206-4e2e-b8b5-adb724f00677",
   "metadata": {},
   "outputs": [
    {
     "name": "stdout",
     "output_type": "stream",
     "text": [
      "\n",
      "Best \n",
      "Deeptech \n",
      "Python \n",
      "Training\n",
      "\n"
     ]
    },
    {
     "data": {
      "text/plain": [
       "'Best Deeptech Python Training'"
      ]
     },
     "execution_count": 18,
     "metadata": {},
     "output_type": "execute_result"
    }
   ],
   "source": [
    "string = \"\\nBest \\nDeeptech \\nPython \\nTraining\\n\"\n",
    "print(string)\n",
    "string.replace(\"\\n\",\"\")\n"
   ]
  },
  {
   "cell_type": "markdown",
   "id": "0cf05dd1-8b2e-4f11-842a-04ab159c73c7",
   "metadata": {},
   "source": [
    "### Write a Python program to reverse words in a string\n",
    "String = “Deeptech Python Training”"
   ]
  },
  {
   "cell_type": "code",
   "execution_count": 31,
   "id": "0b8f73be-9cf3-4154-a901-9cf852142c4e",
   "metadata": {},
   "outputs": [
    {
     "name": "stdout",
     "output_type": "stream",
     "text": [
      "hcetpeeD nohtyP gniniarT "
     ]
    }
   ],
   "source": [
    "string = \"Deeptech Python Training\"\n",
    "list = string.split()\n",
    "\n",
    "for word in list:\n",
    "    print(word[::-1], end=\" \")\n"
   ]
  },
  {
   "cell_type": "markdown",
   "id": "46515603-6508-402c-9cc1-e5fff6f8089e",
   "metadata": {},
   "source": [
    "### Write a Python program to count and display the vowels of a given text\r\n",
    "String=”Welcome to python Training”"
   ]
  },
  {
   "cell_type": "code",
   "execution_count": 26,
   "id": "abe2ddfb-b9d9-4f10-b035-96122ed77cea",
   "metadata": {},
   "outputs": [
    {
     "name": "stdout",
     "output_type": "stream",
     "text": [
      "Number of Vowel: 8\n",
      "['e', 'o', 'e', 'o', 'o', 'a', 'i', 'i']\n"
     ]
    }
   ],
   "source": [
    "string=\"Welcome to python Training\"\n",
    "string = string.lower()\n",
    "count = 0\n",
    "containVowel = []\n",
    "for vowel in string:\n",
    "    if vowel in \"aeiou\":\n",
    "        count +=1\n",
    "        containVowel.append(vowel)\n",
    "\n",
    "print(f\"Number of Vowel: {count}\")\n",
    "print(containVowel)"
   ]
  },
  {
   "cell_type": "markdown",
   "id": "6c693b80-5ff6-4f48-b5a7-5cc463f1baae",
   "metadata": {},
   "source": [
    "### 1. Write a Python program to Count all letters, digits, and special symbols from the given string \r\n",
    "\r\n",
    "Input = “P@#yn26at^&i5ve” "
   ]
  },
  {
   "cell_type": "code",
   "execution_count": 34,
   "id": "46792484-49e8-4b85-a724-974d08766657",
   "metadata": {},
   "outputs": [
    {
     "name": "stdout",
     "output_type": "stream",
     "text": [
      "Char=8 Digits=3 Special Character=4\n"
     ]
    }
   ],
   "source": [
    "string = \"P@#yn26at^&i5ve\"\n",
    "countAlphabet = 0\n",
    "countNumber = 0\n",
    "countSpecialChr = 0\n",
    "\n",
    "for i in string:\n",
    "    if i.isalpha(): \n",
    "        countAlphabet += 1\n",
    "    elif i.isdigit():  \n",
    "        countNumber += 1\n",
    "    else:\n",
    "        countSpecialChr += 1\n",
    "\n",
    "print(f\"Char={countAlphabet} Digits={countNumber} Special Character={countSpecialChr}\")\n"
   ]
  },
  {
   "cell_type": "markdown",
   "id": "83b93c58-69ae-455c-bd39-5eb008a641c2",
   "metadata": {},
   "source": [
    "### 2. Write a Python program to remove duplicate characters of a given string. Input = “String and String Function” Output: String and Function "
   ]
  },
  {
   "cell_type": "code",
   "execution_count": 37,
   "id": "df30260d-a09f-42ec-9a84-5989ffc686e8",
   "metadata": {},
   "outputs": [
    {
     "name": "stdout",
     "output_type": "stream",
     "text": [
      "{'String', 'and', 'Function'}\n"
     ]
    }
   ],
   "source": [
    "string = \"String and String Function\"\n",
    "string = string.split()\n",
    "containUnique = set()\n",
    "\n",
    "for word in string:\n",
    "    containUnique.add(word)\n",
    "\n",
    "string = str(containUnique)\n",
    "print(string)"
   ]
  },
  {
   "cell_type": "markdown",
   "id": "aa7d81f8-7199-4099-afdb-c1e1425e1813",
   "metadata": {},
   "source": [
    "### Write a Python program to count Uppercase, Lowercase, special character and numeric values in a given string \r\n",
    "\r\n",
    "Input = “Hell0 W0rld ! 123 * # welcome to pYtHoN” "
   ]
  },
  {
   "cell_type": "code",
   "execution_count": 43,
   "id": "21be114e-fc80-46d1-964d-2df0b8f2c3ae",
   "metadata": {},
   "outputs": [
    {
     "name": "stdout",
     "output_type": "stream",
     "text": [
      "Upper Case=5 Lower Case=18 Special Character=16\n"
     ]
    }
   ],
   "source": [
    "string = \"Hell0 W0rld ! 123 * # welcome to pYtHoN\"\n",
    "countUpper = 0\n",
    "countLower = 0\n",
    "countSpecialChr = 0\n",
    "\n",
    "for i in string:\n",
    "    if i.isupper(): \n",
    "        countUpper += 1\n",
    "    elif i.islower():  \n",
    "        countLower += 1\n",
    "    else:\n",
    "        countSpecialChr += 1\n",
    "\n",
    "print(f\"Upper Case={countUpper} Lower Case={countLower} Special Character={countSpecialChr}\")\n"
   ]
  },
  {
   "cell_type": "markdown",
   "id": "87c20b74-158b-46f3-ad40-a684e25a3738",
   "metadata": {},
   "source": [
    "### 4. Write a Python Count vowels in a string input= “Welcome to Python Assignment” Output: Total vowels are: 8"
   ]
  },
  {
   "cell_type": "code",
   "execution_count": 45,
   "id": "7b2462a7-5487-4059-97af-e1edce621a90",
   "metadata": {},
   "outputs": [
    {
     "name": "stdout",
     "output_type": "stream",
     "text": [
      "Total Vowels are: 8\n"
     ]
    }
   ],
   "source": [
    "string=\"Welcome to python Assignment\"\n",
    "string = string.lower()\n",
    "count = 0\n",
    "\n",
    "for vowel in string:\n",
    "    if vowel in \"aeiou\":\n",
    "        count +=1\n",
    "        containVowel.append(vowel)\n",
    "\n",
    "print(f\"Total Vowels are: {count}\")"
   ]
  },
  {
   "cell_type": "code",
   "execution_count": 25,
   "id": "b966d489-90f9-4051-b371-8e7f118e9dc9",
   "metadata": {},
   "outputs": [
    {
     "name": "stdin",
     "output_type": "stream",
     "text": [
      "Enter password Abhavya@123\n"
     ]
    },
    {
     "name": "stdout",
     "output_type": "stream",
     "text": [
      "Password saved\n",
      "Abhavya@123\n"
     ]
    }
   ],
   "source": [
    "pswd = input(\"Enter password\")\n",
    "isUpper = False\n",
    "isSmall = False\n",
    "isNumber = False\n",
    "isSpecialChr= False\n",
    "\n",
    "for i in pswd:\n",
    "    if i.isupper():\n",
    "        isUpper=True\n",
    "    elif i.islower():\n",
    "        isSmall = True\n",
    "    elif i.isdigit():\n",
    "        isNumber = True\n",
    "    elif 32<=ord(i)<=47 or 58<=ord(i)<=64 or 91<=ord(i)<=96:\n",
    "        isSpecialChr = True\n",
    "    else:\n",
    "        print(\"djd\")\n",
    "\n",
    "\n",
    "if  len(pswd)<6:\n",
    "    print(\"Length of password should be greater than or equal to 6\")\n",
    "elif isUpper == False:\n",
    "    print(\"Password is not strong. use atleast one uppercase\")\n",
    "elif isSmall == False:\n",
    "    print(\"Password doesn't contain small letter\")\n",
    "elif isNumber == False:\n",
    "    print(\"Password doesn't contain any digit, please enter digit 0-9\")\n",
    "elif isSpecialChr == False:\n",
    "    print(\"Use atleast one special character\")\n",
    "else:\n",
    "    print(\"Password saved\")\n",
    "\n",
    "if len(pswd)>=6 and isUpper == True and isSmall == True and isNumber == True and isSpecialChr== True:\n",
    "    print(pswd)\n",
    "else:\n",
    "    print(\"\")"
   ]
  },
  {
   "cell_type": "code",
   "execution_count": 17,
   "id": "274e0610-8740-4b74-a6cb-bfc517b453f7",
   "metadata": {},
   "outputs": [
    {
     "name": "stdout",
     "output_type": "stream",
     "text": [
      "102\n"
     ]
    }
   ],
   "source": [
    "i = \"f\"\n",
    "print(ord(i))"
   ]
  },
  {
   "cell_type": "code",
   "execution_count": 30,
   "id": "9ae4766c-cf14-4165-9470-c4113a9cc9a8",
   "metadata": {},
   "outputs": [
    {
     "name": "stdin",
     "output_type": "stream",
     "text": [
      " hfukshe\n"
     ]
    }
   ],
   "source": [
    "fileName = open(\"try.txt\",\"a+\")\n",
    "data = input()\n",
    "fileName.write(\"\\n\"+data)\n",
    "fileName.readlines()\n",
    "fileName.close()"
   ]
  },
  {
   "cell_type": "code",
   "execution_count": null,
   "id": "054b3f97-a7af-4d78-aec7-2d95ef85bc27",
   "metadata": {},
   "outputs": [],
   "source": []
  }
 ],
 "metadata": {
  "kernelspec": {
   "display_name": "Python 3 (ipykernel)",
   "language": "python",
   "name": "python3"
  },
  "language_info": {
   "codemirror_mode": {
    "name": "ipython",
    "version": 3
   },
   "file_extension": ".py",
   "mimetype": "text/x-python",
   "name": "python",
   "nbconvert_exporter": "python",
   "pygments_lexer": "ipython3",
   "version": "3.11.5"
  }
 },
 "nbformat": 4,
 "nbformat_minor": 5
}
