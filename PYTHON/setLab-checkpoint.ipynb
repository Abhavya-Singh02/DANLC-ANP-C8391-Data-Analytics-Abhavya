{
 "cells": [
  {
   "cell_type": "code",
   "execution_count": 2,
   "id": "b17b46ff-2a84-4fa3-8499-bad78bacb8bc",
   "metadata": {},
   "outputs": [
    {
     "data": {
      "text/plain": [
       "{' ', 'a', 'c', 'i', 'l', 'm', 'n', 'o', 's'}"
      ]
     },
     "execution_count": 2,
     "metadata": {},
     "output_type": "execute_result"
    }
   ],
   "source": [
    "x = \"aman is cool\"\n",
    "x2 = set(x)\n",
    "x2"
   ]
  },
  {
   "cell_type": "markdown",
   "id": "0bd2c891-2711-4311-a1fb-8ac803f9f754",
   "metadata": {},
   "source": [
    "### 1. Write a Python program to Get Only unique items from two sets.\r\n",
    "Input:\r\n",
    "set1 = {10, 20, 30, 40, 50}\r\n",
    "set2 = {30, 40, 50, 60, 70}"
   ]
  },
  {
   "cell_type": "code",
   "execution_count": 19,
   "id": "42119c88-6089-40bd-ab66-426afc1a408e",
   "metadata": {},
   "outputs": [
    {
     "data": {
      "text/plain": [
       "{10, 20, 30, 40, 50, 60, 70}"
      ]
     },
     "execution_count": 19,
     "metadata": {},
     "output_type": "execute_result"
    }
   ],
   "source": [
    "set1 = {10, 20, 30, 40, 50}\n",
    "set2 = {30, 40, 50, 60, 70}\n",
    "set3=set1.union(set2)\n",
    "set3"
   ]
  },
  {
   "cell_type": "code",
   "execution_count": 23,
   "id": "18b5411f-842f-44cc-a0c2-61834f4549fe",
   "metadata": {},
   "outputs": [
    {
     "name": "stdout",
     "output_type": "stream",
     "text": [
      "{70, 40, 10, 50, 20, 60, 30}\n"
     ]
    }
   ],
   "source": [
    "s3=set()\n",
    "for i in set1:\n",
    "    s3.add(i)\n",
    "for i in set2:\n",
    "    s3.add(i)\n",
    "print(s3)"
   ]
  },
  {
   "cell_type": "markdown",
   "id": "2f964a94-fdd8-4521-b3f8-c869b5704df3",
   "metadata": {},
   "source": [
    "### 2. Write a Python program to Return a set of elements present in Set A or B, but\r\n",
    "not both.\r\n",
    "Input:\r\n",
    "set1 = {10, 20, 30, 40, 50}\r\n",
    "set2 = {30, 40, 50, 60, 70}"
   ]
  },
  {
   "cell_type": "code",
   "execution_count": 11,
   "id": "bf25acb1-d295-4637-8525-45b282aacb9a",
   "metadata": {},
   "outputs": [
    {
     "name": "stdout",
     "output_type": "stream",
     "text": [
      "{10, 20, 70, 60}\n"
     ]
    }
   ],
   "source": [
    "set1 = {10, 20, 30, 40, 50}\n",
    "set2 = {30, 40, 50, 60, 70}\n",
    "set3 = set()\n",
    "\n",
    "for i in set1:\n",
    "    if i not in set2:\n",
    "        set3.add(i)\n",
    "for j in set2:\n",
    "    if j not in set1:\n",
    "        set3.add(j)\n",
    "\n",
    "print(set3)\n"
   ]
  },
  {
   "cell_type": "code",
   "execution_count": 31,
   "id": "0b1c4c50-dbc0-4dd5-9c1a-a5f1f8c8143b",
   "metadata": {},
   "outputs": [
    {
     "name": "stdout",
     "output_type": "stream",
     "text": [
      "{20, 70, 10, 60}\n"
     ]
    }
   ],
   "source": [
    "set1 = {10, 20, 30, 40, 50}\n",
    "set2 = {30, 40, 50, 60, 70}\n",
    "symmetric_difference_result = set1.symmetric_difference(set2) # or set1 ^ set2\n",
    "print(symmetric_difference_result)"
   ]
  },
  {
   "cell_type": "markdown",
   "id": "65725e1e-bc51-48c2-a118-47f1ab3a41a1",
   "metadata": {},
   "source": [
    "### 3. Write a Python program to Check if two sets have any elements in common. If\r\n",
    "yes, display the common elements.\r\n",
    "Input:\r\n",
    "set1 = {10, 20, 30, 40, 50}\r\n",
    "set2 = {60, 70, 80, 90, 10}"
   ]
  },
  {
   "cell_type": "code",
   "execution_count": 27,
   "id": "7163fa90-d80e-4ce1-873f-189cf712670f",
   "metadata": {},
   "outputs": [
    {
     "data": {
      "text/plain": [
       "{10}"
      ]
     },
     "execution_count": 27,
     "metadata": {},
     "output_type": "execute_result"
    }
   ],
   "source": [
    "set1 = {10, 20, 30, 40, 50}\n",
    "set2 = {60, 70, 80, 90, 10}\n",
    "set3=set()\n",
    "for i in set1:\n",
    "    if i in set2:\n",
    "        set3.add(i)\n",
    "set3"
   ]
  },
  {
   "cell_type": "code",
   "execution_count": 28,
   "id": "55baa784-bc74-4c98-8fbf-3d829d2d2735",
   "metadata": {},
   "outputs": [
    {
     "name": "stdout",
     "output_type": "stream",
     "text": [
      "{10}\n"
     ]
    }
   ],
   "source": [
    "print(set1.intersection(set2))"
   ]
  },
  {
   "cell_type": "markdown",
   "id": "49d06e88-cb00-4baf-935b-b030e0e13903",
   "metadata": {},
   "source": [
    "### 3. Write a Python program to Remove items from set1 that are not common to\r\n",
    "both set1 and set2.\r\n",
    "Input:\r\n",
    "set1 = {10, 20, 30, 40, 50}\r\n",
    "set2 = {30, 40, 50, 60, 70}"
   ]
  },
  {
   "cell_type": "code",
   "execution_count": 29,
   "id": "1cb75390-dfaa-49ec-b67a-460fc133a3f6",
   "metadata": {},
   "outputs": [
    {
     "data": {
      "text/plain": [
       "{30, 40, 50}"
      ]
     },
     "execution_count": 29,
     "metadata": {},
     "output_type": "execute_result"
    }
   ],
   "source": [
    "set1 = {10, 20, 30, 40, 50} \n",
    "set2 = {30, 40, 50, 60, 70}\n",
    "set3=set()\n",
    "for i in set1:\n",
    "    if i in set2:\n",
    "        set3.add(i)\n",
    "set3"
   ]
  },
  {
   "cell_type": "code",
   "execution_count": 30,
   "id": "85593767-6944-46c1-a7c7-c525dc6e95ae",
   "metadata": {},
   "outputs": [
    {
     "name": "stdout",
     "output_type": "stream",
     "text": [
      "{40, 50, 30}\n"
     ]
    }
   ],
   "source": [
    "print(set1.intersection(set2))"
   ]
  },
  {
   "cell_type": "code",
   "execution_count": 17,
   "id": "9283b94c-4a14-4183-8453-fbd225738506",
   "metadata": {},
   "outputs": [
    {
     "name": "stdout",
     "output_type": "stream",
     "text": [
      "{1, 2}\n"
     ]
    }
   ],
   "source": [
    "set1 = {1, 2, 3}\n",
    "set2 = {3, 4, 5}\n",
    "difference_result = set1.difference(set2) # or set1 - set2\n",
    "print(difference_result)"
   ]
  },
  {
   "cell_type": "code",
   "execution_count": 18,
   "id": "a27c2e71-addf-4f0b-a632-21cf5175c7e2",
   "metadata": {},
   "outputs": [
    {
     "name": "stdout",
     "output_type": "stream",
     "text": [
      "{1, 2, 4, 5}\n"
     ]
    }
   ],
   "source": [
    "set1 = {1, 2, 3}\n",
    "set2 = {3, 4, 5}\n",
    "symmetric_difference_result = set1.symmetric_difference(set2) # or set1 ^ set2\n",
    "print(symmetric_difference_result)"
   ]
  },
  {
   "cell_type": "code",
   "execution_count": 32,
   "id": "f6639e23-ff1e-4adf-bea9-02bb74002b99",
   "metadata": {},
   "outputs": [],
   "source": [
    "import  numpy  as np"
   ]
  },
  {
   "cell_type": "code",
   "execution_count": 35,
   "id": "6484dd73-42a9-402a-8774-38a51d5d56dc",
   "metadata": {},
   "outputs": [
    {
     "name": "stdout",
     "output_type": "stream",
     "text": [
      "[[1 2 3]\n",
      " [2 3 4]\n",
      " [4 5 6]]\n"
     ]
    }
   ],
   "source": [
    "import numpy as np\n",
    "\n",
    "# Correct way to create a NumPy array\n",
    "c = np.array([(1, 2, 3), (2, 3, 4), (4, 5, 6)])\n",
    "print(c)\n"
   ]
  },
  {
   "cell_type": "code",
   "execution_count": null,
   "id": "4e4e085e-9b38-4541-b46c-5b4eadb46370",
   "metadata": {},
   "outputs": [],
   "source": []
  }
 ],
 "metadata": {
  "kernelspec": {
   "display_name": "Python 3 (ipykernel)",
   "language": "python",
   "name": "python3"
  },
  "language_info": {
   "codemirror_mode": {
    "name": "ipython",
    "version": 3
   },
   "file_extension": ".py",
   "mimetype": "text/x-python",
   "name": "python",
   "nbconvert_exporter": "python",
   "pygments_lexer": "ipython3",
   "version": "3.11.5"
  }
 },
 "nbformat": 4,
 "nbformat_minor": 5
}
