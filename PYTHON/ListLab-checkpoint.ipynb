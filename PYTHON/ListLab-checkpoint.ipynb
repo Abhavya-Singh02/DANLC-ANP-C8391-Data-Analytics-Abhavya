{
 "cells": [
  {
   "cell_type": "markdown",
   "id": "f289b792-97f4-4125-af61-08b421d22051",
   "metadata": {},
   "source": [
    "### 1. Write a Python program to sum all the items in a list. "
   ]
  },
  {
   "cell_type": "code",
   "execution_count": 1,
   "id": "a9676320-c8c0-4cd9-8e1a-32d4174331f5",
   "metadata": {},
   "outputs": [
    {
     "name": "stdout",
     "output_type": "stream",
     "text": [
      "58\n"
     ]
    }
   ],
   "source": [
    "list1 = [2,4,9,11,14,18]\n",
    "sum = 0\n",
    "for num in list1:\n",
    "    sum+=num\n",
    "print(sum)"
   ]
  },
  {
   "cell_type": "markdown",
   "id": "5d0ca339-7fe6-4d6c-948b-6337674a0593",
   "metadata": {},
   "source": [
    "### 2. Write a Python program to get the largest and smallest number from a list without builtin functions. "
   ]
  },
  {
   "cell_type": "code",
   "execution_count": 4,
   "id": "fe89dd24-c741-46fd-8df4-50ba6691fc4b",
   "metadata": {},
   "outputs": [
    {
     "name": "stdout",
     "output_type": "stream",
     "text": [
      "Maximum and Minimum number in list1 is: 18 and 2\n"
     ]
    }
   ],
   "source": [
    "import sys\n",
    "list1 = [2,4,9,11,14,18]\n",
    "maxNum = -sys.maxsize-1\n",
    "minNum = sys.maxsize\n",
    "for i in list1:\n",
    "    if i>maxNum:\n",
    "        maxNum = i\n",
    "    if i<minNum:\n",
    "        minNum = i \n",
    "print(f\"Maximum and Minimum number in list1 is: {maxNum} and {minNum}\")"
   ]
  },
  {
   "cell_type": "markdown",
   "id": "02539e41-09b6-4506-b254-6452db471af9",
   "metadata": {},
   "source": [
    "### 3. Write a Python program to find duplicate values from a list and display those. "
   ]
  },
  {
   "cell_type": "code",
   "execution_count": 14,
   "id": "d268188b-e37b-4dff-bf84-3bf83d3867ad",
   "metadata": {},
   "outputs": [
    {
     "name": "stdout",
     "output_type": "stream",
     "text": [
      "Duplicates Values: [1, 2, 5]\n"
     ]
    }
   ],
   "source": [
    "#Brute force\n",
    "myList = [1, 2, 3, 2, 4, 5, 1, 6, 7, 5]\n",
    "auxList = []\n",
    "\n",
    "for i in range(len(myList)):\n",
    "    for j in range(i + 1, len(myList)):\n",
    "        if myList[i] == myList[j] and myList[i] not in auxList:\n",
    "            auxList.append(myList[i])\n",
    "\n",
    "print(f\"Duplicates Values: {auxList}\")"
   ]
  },
  {
   "cell_type": "code",
   "execution_count": 15,
   "id": "e63ae1f4-4224-45c3-958c-10456e9c0adf",
   "metadata": {},
   "outputs": [
    {
     "name": "stdout",
     "output_type": "stream",
     "text": [
      "{1, 2, 5}\n"
     ]
    }
   ],
   "source": [
    "#Optimized \n",
    "myList = [1, 2, 3, 2, 4, 5, 1, 6, 7, 5]\n",
    "check = set()\n",
    "duplicate = set()\n",
    "for i in myList:\n",
    "    if i in check:\n",
    "        duplicate.add(i)\n",
    "    else:\n",
    "        check.add(i)\n",
    "print(duplicate)"
   ]
  },
  {
   "cell_type": "markdown",
   "id": "fe485bef-b375-4dfe-a9e8-b58d34e65bf8",
   "metadata": {},
   "source": [
    "### 4. Write a Python program to split a given list into two parts where the length of the first part of the list is given. \r\n",
    "\r\n",
    "Original list: [1, 1, 2, 3, 4, 4, 5, 1]\r\n",
    "\r\n",
    "Length of the first part of the list: 3 \r\n",
    "\r\n",
    "Splitted the said list into two parts: ([1, 1, 2], [3, 4, 4, 5, 1]) "
   ]
  },
  {
   "cell_type": "code",
   "execution_count": 17,
   "id": "5d58e6f4-144a-4e1d-87be-7c3ba42a4f1b",
   "metadata": {},
   "outputs": [
    {
     "name": "stdout",
     "output_type": "stream",
     "text": [
      "First splitted list: [1, 1, 2]\n",
      "Second splitted list: [3, 4, 4, 5, 1]\n"
     ]
    }
   ],
   "source": [
    "# Brute force\n",
    "OriginalList= [1, 1, 2, 3, 4, 4, 5, 1]\n",
    "splitList1 = []\n",
    "splitList2 = []\n",
    "for i in range(len(OriginalList)):\n",
    "    if i<3:\n",
    "        splitList1.append(OriginalList[i])\n",
    "    else:\n",
    "        splitList2.append(OriginalList[i])\n",
    "\n",
    "print(f\"First splitted list: {splitList1}\\nSecond splitted list: {splitList2}\")"
   ]
  },
  {
   "cell_type": "code",
   "execution_count": 21,
   "id": "208cee5c-74da-444c-876e-5a6cff285ac0",
   "metadata": {},
   "outputs": [
    {
     "name": "stdout",
     "output_type": "stream",
     "text": [
      "First splitted list: [1, 1, 2]\n",
      "Second splitted list: [3, 4, 4, 5, 1]\n"
     ]
    }
   ],
   "source": [
    "# optimized \n",
    "OriginalList= [1, 1, 2, 3, 4, 4, 5, 1]\n",
    "splitList1 = OriginalList[0:3]\n",
    "splitList2 = OriginalList[3:]\n",
    "print(f\"First splitted list: {splitList1}\\nSecond splitted list: {splitList2}\")"
   ]
  },
  {
   "cell_type": "markdown",
   "id": "6e77913e-9e0a-457a-9bca-cb1a8989dba9",
   "metadata": {},
   "source": [
    "### 5. Write a Python program to traverse a given list in reverse order, and print the elements with the original index. \r\n",
    "\r\n",
    "Original list: ['red', 'green', 'white', 'black'] \r\n",
    "\r\n",
    "Traverse the said list in reverse order: black white green red"
   ]
  },
  {
   "cell_type": "code",
   "execution_count": 12,
   "id": "204bb478-5fa0-46cc-925b-9c63667adba2",
   "metadata": {},
   "outputs": [
    {
     "name": "stdout",
     "output_type": "stream",
     "text": [
      "Index 3: black\n",
      "Index 2: white\n",
      "Index 1: green\n",
      "Index 0: red\n"
     ]
    }
   ],
   "source": [
    "OriginalList= ['red', 'green', 'white', 'black']\n",
    "for index in range(len(OriginalList)-1,-1,-1):\n",
    "    print(f\"Index {index}: {OriginalList[index]}\")"
   ]
  },
  {
   "cell_type": "code",
   "execution_count": 10,
   "id": "d3e75540-c2a0-4e93-b0d7-818422fdb652",
   "metadata": {},
   "outputs": [
    {
     "data": {
      "text/plain": [
       "[1, 2, -1]"
      ]
     },
     "execution_count": 10,
     "metadata": {},
     "output_type": "execute_result"
    }
   ],
   "source": [
    "li = [1,2]\n",
    "li.insert(6,-1)\n",
    "li"
   ]
  },
  {
   "cell_type": "code",
   "execution_count": 11,
   "id": "1758fa23-c839-4cb4-8fda-e3186d3291b2",
   "metadata": {},
   "outputs": [
    {
     "data": {
      "text/plain": [
       "[1, 2, -1, 5]"
      ]
     },
     "execution_count": 11,
     "metadata": {},
     "output_type": "execute_result"
    }
   ],
   "source": [
    "li.insert(4,5)\n",
    "li"
   ]
  },
  {
   "cell_type": "code",
   "execution_count": 12,
   "id": "dc64f4a4-4905-428f-89f7-7624e02c8683",
   "metadata": {},
   "outputs": [
    {
     "name": "stdout",
     "output_type": "stream",
     "text": [
      "To-Do List Manager\n",
      "===================\n",
      "1. Add a task\n",
      "2. Mark a task as done\n",
      "3. Remove a task\n",
      "4. View tasks\n",
      "5. Exit\n",
      "\n"
     ]
    },
    {
     "name": "stdin",
     "output_type": "stream",
     "text": [
      "Enter your choice:  1\n"
     ]
    },
    {
     "name": "stdout",
     "output_type": "stream",
     "text": [
      "\n"
     ]
    },
    {
     "name": "stdin",
     "output_type": "stream",
     "text": [
      "Enter the task name:  Study\n"
     ]
    },
    {
     "name": "stdout",
     "output_type": "stream",
     "text": [
      "Task \"Study\" added.\n",
      "\n",
      "To-Do List Manager\n",
      "===================\n",
      "1. Add a task\n",
      "2. Mark a task as done\n",
      "3. Remove a task\n",
      "4. View tasks\n",
      "5. Exit\n",
      "\n"
     ]
    },
    {
     "name": "stdin",
     "output_type": "stream",
     "text": [
      "Enter your choice:  5\n"
     ]
    },
    {
     "name": "stdout",
     "output_type": "stream",
     "text": [
      "\n",
      "Exiting the To-Do List Manager.\n"
     ]
    }
   ],
   "source": [
    "\n",
    "def display_menu():\n",
    "    print(\"To-Do List Manager\")\n",
    "    print(\"===================\")\n",
    "    print(\"1. Add a task\")\n",
    "    print(\"2. Mark a task as done\")\n",
    "    print(\"3. Remove a task\")\n",
    "    print(\"4. View tasks\")\n",
    "    print(\"5. Exit\")\n",
    "    print()\n",
    "\n",
    "def add_task(tasks):\n",
    "    task_name = input(\"Enter the task name: \")\n",
    "    tasks.append([task_name, False])\n",
    "    print(f'Task \"{task_name}\" added.\\n')\n",
    "\n",
    "def mark_task_done(tasks):\n",
    "    task_index = int(input(\"Enter the task number to mark as done: \")) - 1\n",
    "    if 0 <= task_index < len(tasks):\n",
    "        tasks[task_index][1] = True\n",
    "        print(f'Task \"{tasks[task_index][0]}\" marked as done.\\n')\n",
    "    else:\n",
    "        print(\"Invalid task number.\\n\")\n",
    "\n",
    "def remove_task(tasks):\n",
    "    task_index = int(input(\"Enter the task number to remove: \")) - 1\n",
    "    if 0 <= task_index < len(tasks):\n",
    "        removed_task = tasks.pop(task_index)\n",
    "        print(f'Task \"{removed_task[0]}\" removed.\\n')\n",
    "    else:\n",
    "        print(\"Invalid task number.\\n\")\n",
    "\n",
    "def view_tasks(tasks):\n",
    "    if tasks:\n",
    "        print(\"Current Tasks:\")\n",
    "        for i, task in enumerate(tasks, start=1):\n",
    "            status = \"Done\" if task[1] else \"Not Done\"\n",
    "            print(f'{i}. {task[0]} [{status}]')\n",
    "        print()\n",
    "    else:\n",
    "        print(\"No tasks available.\\n\")\n",
    "\n",
    "def main():\n",
    "    tasks = []\n",
    "    while True:\n",
    "        display_menu()\n",
    "        choice = input(\"Enter your choice: \")\n",
    "        print()\n",
    "        \n",
    "        if choice == '1':\n",
    "            add_task(tasks)\n",
    "        elif choice == '2':\n",
    "            mark_task_done(tasks)\n",
    "        elif choice == '3':\n",
    "            remove_task(tasks)\n",
    "        elif choice == '4':\n",
    "            view_tasks(tasks)\n",
    "        elif choice == '5':\n",
    "            print(\"Exiting the To-Do List Manager.\")\n",
    "            break\n",
    "        else:\n",
    "            print(\"Invalid choice. Please try again.\\n\")\n",
    "\n",
    "if __name__ == \"__main__\":\n",
    "    main()\n"
   ]
  },
  {
   "cell_type": "code",
   "execution_count": 13,
   "id": "c77d9b5b-7c95-4875-9fc4-33156135eedc",
   "metadata": {},
   "outputs": [
    {
     "name": "stdout",
     "output_type": "stream",
     "text": [
      "\n",
      "To-Do List Manager\n",
      "===================\n",
      "1. Add a task\n",
      "2. Mark a task as done\n",
      "3. Remove a task\n",
      "4. View tasks\n",
      "5. Exit\n",
      "\n"
     ]
    },
    {
     "name": "stdin",
     "output_type": "stream",
     "text": [
      "Choose an option:  1\n",
      "Enter the task name:  stuy\n"
     ]
    },
    {
     "name": "stdout",
     "output_type": "stream",
     "text": [
      "Task \"stuy\" added on 2024-07-24 13:44:43.\n",
      "\n",
      "\n",
      "To-Do List Manager\n",
      "===================\n",
      "1. Add a task\n",
      "2. Mark a task as done\n",
      "3. Remove a task\n",
      "4. View tasks\n",
      "5. Exit\n",
      "\n"
     ]
    },
    {
     "name": "stdin",
     "output_type": "stream",
     "text": [
      "Choose an option:  5\n"
     ]
    },
    {
     "name": "stdout",
     "output_type": "stream",
     "text": [
      "Exiting the to-do list manager. Goodbye!\n"
     ]
    }
   ],
   "source": [
    "import datetime\n",
    "\n",
    "def display_menu():\n",
    "    print(\"\\nTo-Do List Manager\")\n",
    "    print(\"===================\")\n",
    "    print(\"1. Add a task\")\n",
    "    print(\"2. Mark a task as done\")\n",
    "    print(\"3. Remove a task\")\n",
    "    print(\"4. View tasks\")\n",
    "    print(\"5. Exit\")\n",
    "    print()\n",
    "\n",
    "def add_task(tasks):\n",
    "    task_name = input(\"Enter the task name: \")\n",
    "    task_date = datetime.datetime.now().strftime(\"%Y-%m-%d %H:%M:%S\")\n",
    "    tasks.append([task_name, False, task_date])\n",
    "    print(f'Task \"{task_name}\" added on {task_date}.\\n')\n",
    "\n",
    "def mark_task_done(tasks):\n",
    "    view_tasks(tasks)\n",
    "    try:\n",
    "        task_index = int(input(\"Enter the task number to mark as done: \")) - 1\n",
    "        if 0 <= task_index < len(tasks):\n",
    "            tasks[task_index][1] = True\n",
    "            print(f'Task \"{tasks[task_index][0]}\" marked as done.\\n')\n",
    "        else:\n",
    "            print(\"Invalid task number.\\n\")\n",
    "    except ValueError:\n",
    "        print(\"Please enter a valid number.\\n\")\n",
    "\n",
    "def remove_task(tasks):\n",
    "    view_tasks(tasks)\n",
    "    try:\n",
    "        task_index = int(input(\"Enter the task number to remove: \")) - 1\n",
    "        if 0 <= task_index < len(tasks):\n",
    "            removed_task = tasks.pop(task_index)\n",
    "            print(f'Task \"{removed_task[0]}\" removed.\\n')\n",
    "        else:\n",
    "            print(\"Invalid task number.\\n\")\n",
    "    except ValueError:\n",
    "        print(\"Please enter a valid number.\\n\")\n",
    "\n",
    "def view_tasks(tasks):\n",
    "    if not tasks:\n",
    "        print(\"No tasks in the to-do list.\\n\")\n",
    "    else:\n",
    "        print(\"\\nCurrent tasks:\")\n",
    "        for i, (task, done, task_date) in enumerate(tasks, start=1):\n",
    "            status = \"Done\" if done else \"Not Done\"\n",
    "            print(f\"{i}. {task} - {status} (Added on {task_date})\")\n",
    "        print()\n",
    "\n",
    "def main():\n",
    "    tasks = []\n",
    "    while True:\n",
    "        display_menu()\n",
    "        choice = input(\"Choose an option: \")\n",
    "        if choice == '1':\n",
    "            add_task(tasks)\n",
    "        elif choice == '2':\n",
    "            mark_task_done(tasks)\n",
    "        elif choice == '3':\n",
    "            remove_task(tasks)\n",
    "        elif choice == '4':\n",
    "            view_tasks(tasks)\n",
    "        elif choice == '5':\n",
    "            print(\"Exiting the to-do list manager. Goodbye!\")\n",
    "            break\n",
    "        else:\n",
    "            print(\"Invalid choice. Please try again.\\n\")\n",
    "\n",
    "if __name__ == \"__main__\":\n",
    "    main()"
   ]
  },
  {
   "cell_type": "markdown",
   "id": "4303aeb2-ee86-4420-8a3d-9dc2dbad0bde",
   "metadata": {},
   "source": [
    "### 6. Given the nested list `matrix = [[1, 2, 3], [4, 5, 6], [7, 8, 9]]`, write code to print the second element of the first list and the third element of the third list.\r\n",
    "\r\n"
   ]
  },
  {
   "cell_type": "code",
   "execution_count": 30,
   "id": "7883026b-b966-48eb-9ea8-3e5a4c0cc1bf",
   "metadata": {},
   "outputs": [
    {
     "name": "stdout",
     "output_type": "stream",
     "text": [
      "2\n",
      "9\n",
      "3\n"
     ]
    }
   ],
   "source": [
    "matrix = [[1, 2, 3], [4, 5, 6], [7, 8, 9]]\n",
    "print(matrix[0][1])\n",
    "print(matrix[2][2])\n",
    "print(len(matrix))"
   ]
  },
  {
   "cell_type": "markdown",
   "id": "76a85772-adb9-4be5-b690-67c418bdc9d5",
   "metadata": {},
   "source": [
    "### 7. Write a function `transpose(matrix)` that takes a matrix (list of lists) and returns its transpose."
   ]
  },
  {
   "cell_type": "code",
   "execution_count": 33,
   "id": "8e266fce-8fa6-4a56-a7e7-8fb6584b7bcd",
   "metadata": {},
   "outputs": [
    {
     "name": "stdout",
     "output_type": "stream",
     "text": [
      "[[1, 4, 7], [2, 5, 8], [3, 6, 9]]\n"
     ]
    }
   ],
   "source": [
    "def transpose(matrix):\n",
    "    auxMatrix = [[1, 2, 3], [4, 5, 6], [7, 8, 9]\n",
    "    size = len(matrix)\n",
    "    for i in range(size):\n",
    "        for j in range(size):\n",
    "            auxMatrix[i][j]=matrix[j][i]\n",
    "    return auxMatrix\n",
    "matrix = [[1, 2, 3], [4, 5, 6], [7, 8, 9]]\n",
    "print(transpose(matrix))"
   ]
  },
  {
   "cell_type": "markdown",
   "id": "48467219-3d0c-4b8a-89c1-992bf99e6b8c",
   "metadata": {},
   "source": [
    "### 8. Given the list `numbers = [15, 3, 7, 20, 13, 9, 25, 1, 10]`, write a list comprehension to create a new list containing only the even numbers.\r\n",
    "\r\n"
   ]
  },
  {
   "cell_type": "code",
   "execution_count": 35,
   "id": "b2305acb-6079-4a39-a730-c1b209c611bb",
   "metadata": {},
   "outputs": [
    {
     "name": "stdout",
     "output_type": "stream",
     "text": [
      "[20, 10]\n"
     ]
    }
   ],
   "source": [
    "numbers = [15, 3, 7, 20, 13, 9, 25, 1, 10]\n",
    "evenNum = [i for i in numbers if i%2==0]\n",
    "print(evenNum)"
   ]
  },
  {
   "cell_type": "markdown",
   "id": "ed7de398-29d7-4f4b-ae49-4f02cad1b36e",
   "metadata": {},
   "source": [
    "### 9. Given two lists `a = [1, 2, 3]` and `b = [4, 5, 6]`, write code to merge them into a single list and then flatten a list of lists `c = [[1, 2], [3, 4], [5, 6]]` into a single list.\r\n",
    "\r\n"
   ]
  },
  {
   "cell_type": "code",
   "execution_count": 49,
   "id": "55877c53-bafd-433b-a994-aeb5b98b6551",
   "metadata": {},
   "outputs": [
    {
     "name": "stdout",
     "output_type": "stream",
     "text": [
      "Merged List: [1, 2, 3, 4, 5, 6]\n",
      "[1, 2, 3, 4, 5, 6]\n"
     ]
    }
   ],
   "source": [
    "a = [1, 2, 3]\n",
    "b = [4, 5, 6]\n",
    "merged = [i for i in a] +[i for i in b]\n",
    "print(f\"Merged List: {merged}\")\n",
    "\n",
    "c = [[1, 2], [3, 4], [5, 6]]\n",
    "flatten = [i for sublist in c for i  in sublist]\n",
    "print(flatten)"
   ]
  },
  {
   "cell_type": "markdown",
   "id": "7e081ea0-2297-4965-93b1-722a5f11f4be",
   "metadata": {},
   "source": [
    "### 10. Write a function `rotate_list(lst, k)` that rotates a list to the right by `k` positions. For example, `rotate_list([1, 2, 3, 4, 5], 2)` should return `[4, 5, 1, 2, 3]`."
   ]
  },
  {
   "cell_type": "code",
   "execution_count": 61,
   "id": "9960c747-1af5-41d2-add2-bb2dc73cac84",
   "metadata": {},
   "outputs": [
    {
     "name": "stdin",
     "output_type": "stream",
     "text": [
      "Enter size of list:  5\n",
      "Enter item:  1\n",
      "Enter item:  2\n",
      "Enter item:  3\n",
      "Enter item:  4\n",
      "Enter item:  5\n",
      "Enter number of positions to rotate:  2\n"
     ]
    },
    {
     "name": "stdout",
     "output_type": "stream",
     "text": [
      "[4, 5, 1, 2, 3]\n"
     ]
    }
   ],
   "source": [
    "def rotate_list(lst, k):\n",
    "    n = len(lst)\n",
    "\n",
    "    temp = lst[-k:]  \n",
    "    for i in range(n - 1, k - 1, -1):\n",
    "        lst[i] = lst[i - k] \n",
    "\n",
    "    lst[:k] = temp \n",
    "    return lst\n",
    "    \n",
    "list1 = []\n",
    "size = int(input(\"Enter size of list: \"))\n",
    "for _ in range(size):\n",
    "    list1.append(int(input(\"Enter item: \")))\n",
    "\n",
    "k = int(input(\"Enter number of positions to rotate: \"))\n",
    "\n",
    "print(rotate_list(list1, k))\n"
   ]
  },
  {
   "cell_type": "code",
   "execution_count": 3,
   "id": "25050979-422f-48fe-afbf-c4bd2f6dd583",
   "metadata": {},
   "outputs": [
    {
     "name": "stdout",
     "output_type": "stream",
     "text": [
      "['i love you', 'island', 'i love leetcode']\n"
     ]
    }
   ],
   "source": [
    "class AutoCompleteSystem:\n",
    "    def __init__(self, sentences, times):\n",
    "        # Initialize the data structures\n",
    "        self.history = {}\n",
    "        for sentence, time in zip(sentences, times):\n",
    "            self.history[sentence] = self.history.get(sentence, 0) + time\n",
    "        self.current_query = \"\"\n",
    "    \n",
    "    def input(self, c):\n",
    "        if c == '#':\n",
    "            # End of query, save it in the history and reset current query\n",
    "            if self.current_query:\n",
    "                self.history[self.current_query] = self.history.get(self.current_query, 0) + 1\n",
    "            self.current_query = \"\"\n",
    "            return []\n",
    "        else:\n",
    "            # Add the character to the current query\n",
    "            self.current_query += c\n",
    "            # Find the top 3 suggestions\n",
    "            suggestions = []\n",
    "            for sentence in self.history:\n",
    "                if sentence.startswith(self.current_query):\n",
    "                    suggestions.append((self.history[sentence], sentence))\n",
    "            # Sort by frequency, then by ASCII order\n",
    "            suggestions.sort(key=lambda x: (-x[0], x[1]))\n",
    "            # Return top 3 suggestions\n",
    "            return [sentence for _, sentence in suggestions[:3]]\n",
    "\n",
    "sentences = [\"i love you\", \"island\", \"ironman\", \"i love leetcode\"]\n",
    "times = [5, 3, 2, 2]\n",
    "\n",
    "system = AutoCompleteSystem(sentences, times)\n",
    "print(system.input('i')) "
   ]
  },
  {
   "cell_type": "code",
   "execution_count": null,
   "id": "454075e4-8ae9-4ce3-be0e-d6153f643e28",
   "metadata": {},
   "outputs": [],
   "source": []
  }
 ],
 "metadata": {
  "kernelspec": {
   "display_name": "Python 3 (ipykernel)",
   "language": "python",
   "name": "python3"
  },
  "language_info": {
   "codemirror_mode": {
    "name": "ipython",
    "version": 3
   },
   "file_extension": ".py",
   "mimetype": "text/x-python",
   "name": "python",
   "nbconvert_exporter": "python",
   "pygments_lexer": "ipython3",
   "version": "3.11.5"
  }
 },
 "nbformat": 4,
 "nbformat_minor": 5
}
