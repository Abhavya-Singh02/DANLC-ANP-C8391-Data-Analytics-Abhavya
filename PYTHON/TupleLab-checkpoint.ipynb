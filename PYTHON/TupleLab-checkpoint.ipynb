{
 "cells": [
  {
   "cell_type": "markdown",
   "id": "d6301ccd-0fc3-48cb-a991-79a216308af1",
   "metadata": {},
   "source": [
    "1. Write a Python program to find the number of times 4 appears in the tuple.\n",
    "   \n",
    "Input:\n",
    "tuplex = (2, 4, 5, 6, 2, 3, 4, 4, 7)\n",
    "\n",
    "Output: 3"
   ]
  },
  {
   "cell_type": "code",
   "execution_count": 1,
   "id": "ac9df47a-47ae-4646-8abc-ae18fb60ae31",
   "metadata": {},
   "outputs": [
    {
     "name": "stdout",
     "output_type": "stream",
     "text": [
      "The nummber of time 4 appears in the tuple is 3\n"
     ]
    }
   ],
   "source": [
    "tuplex=(2, 4, 5, 6, 2, 3, 4, 4, 7)\n",
    "count=0\n",
    "for i in tuplex:\n",
    "    if i==4:\n",
    "       count+=1\n",
    "print(f\"The nummber of time 4 appears in the tuple is {count}\")"
   ]
  },
  {
   "cell_type": "markdown",
   "id": "76225248-dcfc-4e70-9dbc-f6272713df39",
   "metadata": {},
   "source": [
    "2.Write a Python program to convert a list to a tuple.\n",
    "\r\n",
    "Input: listx = [5, 10, 7, 4, 15, 3\n",
    "]\r\n",
    "Output: (5, 10, 7, 4, 15, 3)"
   ]
  },
  {
   "cell_type": "code",
   "execution_count": 2,
   "id": "130f8e9b-076e-4d37-9c8d-3b6cdee38bf9",
   "metadata": {},
   "outputs": [
    {
     "data": {
      "text/plain": [
       "(5, 10, 7, 4, 15, 3)"
      ]
     },
     "execution_count": 2,
     "metadata": {},
     "output_type": "execute_result"
    }
   ],
   "source": [
    "listx = [5, 10, 7, 4, 15, 3]\n",
    "tuplee=tuple(listx)\n",
    "tuplee"
   ]
  },
  {
   "cell_type": "markdown",
   "id": "f8dec055-4cee-446c-ad03-5b27044ae1cd",
   "metadata": {},
   "source": [
    "3. Write a Python program to calculate the sum of the numbers in a given tuple.\n",
    "    \n",
    "Input: tuples_list = [(1, 2), (3, 4), (5, 6)]\n",
    "\n"
   ]
  },
  {
   "cell_type": "code",
   "execution_count": 4,
   "id": "d81a8113-db16-4c93-a478-d6cfe9dbc967",
   "metadata": {},
   "outputs": [
    {
     "name": "stdout",
     "output_type": "stream",
     "text": [
      "Sum: 21\n"
     ]
    }
   ],
   "source": [
    "tuples_list = [(1, 2), (3, 4), (5, 6)]\n",
    "sum = 0\n",
    "for lists in tuples_list:\n",
    "    for i in lists:\n",
    "        sum+=i\n",
    "\n",
    "print(f\"Sum: {sum}\") "
   ]
  },
  {
   "cell_type": "markdown",
   "id": "2eac58f7-9c32-4352-a0a5-64cbf8c423d0",
   "metadata": {},
   "source": [
    "4.Write a python program and iterate the given tuples\n",
    "\n",
    "Input:\n",
    "\n",
    "employee1 = (\"John Doe\", 101, \"Human Resources\", 60000)\n",
    "\n",
    "employee2 = (\"Alice Smith\", 102, \"Marketing\", 55000)\n",
    "\n",
    "employee3 = (\"Bob Johnson\", 103, \"Engineering\", 75000)"
   ]
  },
  {
   "cell_type": "code",
   "execution_count": 10,
   "id": "7404031a-eb1b-4eef-933b-9c5a4b428c6a",
   "metadata": {},
   "outputs": [
    {
     "name": "stdout",
     "output_type": "stream",
     "text": [
      "Employee Records\n",
      "------------------------------------------------------\n",
      "Name: John Doe\n",
      "Employee ID: 101\n",
      "Department: Human Resources\n",
      "Salary: 60000\n",
      "\n",
      "Name: Alice Smith\n",
      "Employee ID: 102\n",
      "Department: Marketing\n",
      "Salary: 55000\n",
      "\n",
      "Name: Bob Johnson\n",
      "Employee ID: 103\n",
      "Department: Engineering\n",
      "Salary: 75000\n",
      "\n"
     ]
    }
   ],
   "source": [
    "employee1 = (\"John Doe\", 101, \"Human Resources\", 60000)\n",
    "employee2 = (\"Alice Smith\", 102, \"Marketing\", 55000)\n",
    "employee3 = (\"Bob Johnson\", 103, \"Engineering\", 75000)\n",
    "listx = [employee1, employee2, employee3]\n",
    "\n",
    "print(\"Employee Records\")\n",
    "print(\"------------------------------------------------------\")\n",
    "\n",
    "for i in listx:\n",
    "    name = i[0]\n",
    "    employeeId = i[1]\n",
    "    department = i[2]\n",
    "    salary = i[3]\n",
    "    \n",
    "    print(f\"Name: {name}\")\n",
    "    print(f\"Employee ID: {employeeId}\")\n",
    "    print(f\"Department: {department}\")\n",
    "    print(f\"Salary: {salary}\")\n",
    "    print()"
   ]
  },
  {
   "cell_type": "code",
   "execution_count": null,
   "id": "d172ee4a-9d2b-49e0-b915-085b83d6fa85",
   "metadata": {},
   "outputs": [],
   "source": []
  }
 ],
 "metadata": {
  "kernelspec": {
   "display_name": "Python 3 (ipykernel)",
   "language": "python",
   "name": "python3"
  },
  "language_info": {
   "codemirror_mode": {
    "name": "ipython",
    "version": 3
   },
   "file_extension": ".py",
   "mimetype": "text/x-python",
   "name": "python",
   "nbconvert_exporter": "python",
   "pygments_lexer": "ipython3",
   "version": "3.11.5"
  }
 },
 "nbformat": 4,
 "nbformat_minor": 5
}
