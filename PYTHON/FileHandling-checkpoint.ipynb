{
 "cells": [
  {
   "cell_type": "markdown",
   "id": "84d2eeae-e0b8-439f-9607-370df2d7dc3d",
   "metadata": {},
   "source": [
    "### 1. Write a function in python to read the content from a text file \"ABC.txt\" line by line and display the same on screen. "
   ]
  },
  {
   "cell_type": "code",
   "execution_count": 3,
   "id": "c31b1a2e-63e7-40a8-95a2-3588215a851b",
   "metadata": {},
   "outputs": [
    {
     "name": "stdin",
     "output_type": "stream",
     "text": [
      "Enter the file name:  ABC.txt\n"
     ]
    },
    {
     "name": "stdout",
     "output_type": "stream",
     "text": [
      "Data Anaysis is a popular programming language.\n",
      "Data Anaysis can be used on a server to create web applications.\n",
      "Example\n",
      "print(\"Hello, World!\")\n"
     ]
    }
   ],
   "source": [
    "def read_file_content(fileName):\n",
    "    try:\n",
    "        with open(fileName, 'r') as file:\n",
    "            for line in file:\n",
    "                print(line.strip())\n",
    "        file.close()              \n",
    "    except FileNotFoundError:\n",
    "        print(f\"The file {fileName} does not exist.\")\n",
    "    except Exception as e:\n",
    "        print(f\"An error occurred: {e}\")\n",
    "\n",
    "fileName = input(\"Enter the file name: \")\n",
    "read_file_content(fileName)"
   ]
  },
  {
   "cell_type": "markdown",
   "id": "c72b43bd-6849-45ce-8c34-c2baf4980849",
   "metadata": {},
   "source": [
    "### 2. Write a function in Python to count and display the total number of words in a text file “ABC.txt” "
   ]
  },
  {
   "cell_type": "code",
   "execution_count": 15,
   "id": "22525580-9ff0-4f5a-8a7e-d4253dfcf7fc",
   "metadata": {},
   "outputs": [
    {
     "name": "stdin",
     "output_type": "stream",
     "text": [
      "Enter the file name:  ABC.txt\n"
     ]
    },
    {
     "name": "stdout",
     "output_type": "stream",
     "text": [
      "Python3 is a popular programming language.\n",
      "Python3 can be used on a server to create web applications.\n",
      "Example\n",
      "print(\"Hello, World!\")\n",
      "Total Count Words is: 20\n"
     ]
    }
   ],
   "source": [
    "def count_words(fileName):\n",
    "    length = 0\n",
    "    try:\n",
    "        with open(fileName, 'r') as file:\n",
    "            for line in file:\n",
    "                print(line.strip())\n",
    "                line = line.split()\n",
    "                length += len(line)\n",
    "        file.close()                \n",
    "    except FileNotFoundError:\n",
    "        print(f\"The file {fileName} does not exist.\")\n",
    "    except Exception as e:\n",
    "        print(f\"An error occurred: {e}\")\n",
    "    return length\n",
    "\n",
    "fileName = input(\"Enter the file name: \")\n",
    "c = count_words(fileName)\n",
    "print(f\"Total Count Words is: {c}\")"
   ]
  },
  {
   "cell_type": "markdown",
   "id": "b0d3e3c9-3f86-4c9f-a708-20d412d11974",
   "metadata": {},
   "source": [
    "### 3. Write a function in Python to count uppercase character in a text file “ABC.txt” "
   ]
  },
  {
   "cell_type": "code",
   "execution_count": 5,
   "id": "5deb2225-8823-465f-82d4-07a1456327eb",
   "metadata": {},
   "outputs": [
    {
     "name": "stdin",
     "output_type": "stream",
     "text": [
      "Enter the file name:  ABC.txt\n"
     ]
    },
    {
     "data": {
      "text/plain": [
       "7"
      ]
     },
     "execution_count": 5,
     "metadata": {},
     "output_type": "execute_result"
    }
   ],
   "source": [
    "def count_uppercase(fileName):\n",
    "    countUpper = 0\n",
    "    try:\n",
    "        with open(fileName, 'r') as file:\n",
    "            for line in file:\n",
    "                for char in line:\n",
    "                    if char.isupper():\n",
    "                        countUpper +=1\n",
    "        file.close()                        \n",
    "    except FileNotFoundError:\n",
    "        print(f\"The file {fileName} does not exist.\")\n",
    "    except Exception as e:\n",
    "        print(f\"An error occurred: {e}\")\n",
    "    return countUpper\n",
    "\n",
    "fileName = input(\"Enter the file name: \")\n",
    "count_uppercase(fileName)"
   ]
  },
  {
   "cell_type": "markdown",
   "id": "1c334793-10d0-441d-88d2-b6611b65ea40",
   "metadata": {},
   "source": [
    "### 4.  Write a function display_words() in python to read lines from a text file \"story.txt\", and display those words, which are less than 4 characters."
   ]
  },
  {
   "cell_type": "code",
   "execution_count": 6,
   "id": "7a2f1cc9-5864-4c7f-8a85-751d337bc149",
   "metadata": {},
   "outputs": [
    {
     "name": "stdin",
     "output_type": "stream",
     "text": [
      "Enter the file name:  story.txt\n"
     ]
    },
    {
     "name": "stdout",
     "output_type": "stream",
     "text": [
      "A Fox one day a of a the of a The to and the as he at The a and the Fox had to for it. The he he it by a So he off a and a at it, to and he but in Now he sat and at the in a I he I am out to get a of are not And off he "
     ]
    }
   ],
   "source": [
    "def display_words(fileName):\n",
    "    countUpper = 0\n",
    "    try:\n",
    "        with open(fileName, 'r') as file:\n",
    "            for line in file:\n",
    "                line = line.split()\n",
    "                for word in line:\n",
    "                    if len(word)<4:\n",
    "                        print(word, end=\" \")\n",
    "        file.close()                        \n",
    "    except FileNotFoundError:\n",
    "        print(f\"The file {fileName} does not exist.\")\n",
    "    except Exception as e:\n",
    "        print(f\"An error occurred: {e}\")\n",
    "\n",
    "fileName = input(\"Enter the file name: \")\n",
    "display_words(fileName)"
   ]
  },
  {
   "cell_type": "markdown",
   "id": "01db4217-9b2b-41c8-a0be-0aad6f970427",
   "metadata": {},
   "source": [
    "###  5. wap to copy the contents of one file into another. input both file names with path from user"
   ]
  },
  {
   "cell_type": "code",
   "execution_count": 7,
   "id": "28c8e8e8-464f-42cc-bad3-39f56f4563a2",
   "metadata": {},
   "outputs": [
    {
     "name": "stdin",
     "output_type": "stream",
     "text": [
      "Enter the file name whose data is to be copied story.txt\n",
      "Enter the file name into which the data is to be copied. storycopy.txt\n"
     ]
    },
    {
     "name": "stdout",
     "output_type": "stream",
     "text": [
      "Content copied from story.txt to storycopy.txt\n"
     ]
    }
   ],
   "source": [
    "def copy_content(readFile, writeFile):\n",
    "    try:\n",
    "        with open(readFile, 'r') as rd, open(writeFile, 'w') as wt:\n",
    "            for line in rd:\n",
    "                wt.write(line)\n",
    "        print(f\"Content copied from {readFile} to {writeFile}\")\n",
    "        rd.close()\n",
    "        wt.close()\n",
    "    except FileNotFoundError:\n",
    "        print(f\"one of the file doesn't exist\")\n",
    "    except Exception as e:\n",
    "        print(f\"An error occurred: {e}\")\n",
    "\n",
    "\n",
    "readFile = input(\"Enter the file name whose data is to be copied\")\n",
    "writeFile = input(\"Enter the file name into which the data is to be copied.\")\n",
    "copy_content(readFile, writeFile)"
   ]
  },
  {
   "cell_type": "markdown",
   "id": "cc4bde35-9e9a-461c-9a6e-18846909a1d3",
   "metadata": {},
   "source": [
    "### 6. Wap to search a particular word in a file and also prints number of occurrences."
   ]
  },
  {
   "cell_type": "code",
   "execution_count": 11,
   "id": "74129329-2d12-4b67-9642-fee5bca8ae5a",
   "metadata": {},
   "outputs": [
    {
     "name": "stdin",
     "output_type": "stream",
     "text": [
      "Enter the file name:  ABC.txt\n",
      "Enter the word that you want to search and print number of occurrences is\n"
     ]
    },
    {
     "name": "stdout",
     "output_type": "stream",
     "text": [
      "Number of occurrences is: 1\n"
     ]
    }
   ],
   "source": [
    "def count_word(fileName, word):\n",
    "    count = 0\n",
    "    word = word.lower()\n",
    "    try:\n",
    "        with open(fileName, 'r') as file:\n",
    "            for line in file:\n",
    "                line = line.split()\n",
    "                for words in line:\n",
    "                    words = words.lower()\n",
    "                    if word == words:\n",
    "                        count +=1\n",
    "        file.close()                        \n",
    "    except FileNotFoundError:\n",
    "        print(f\"The file {fileName} does not exist\")\n",
    "    except Exception as e:\n",
    "        print(f\"An error occurred: {e}\")\n",
    "    return count\n",
    "\n",
    "fileName = input(\"Enter the file name: \")\n",
    "word = input(\"Enter the word that you want to search and print number of occurrences\")\n",
    "occurrence = count_word(fileName, word)\n",
    "print(f\"Number of occurrences is: {occurrence}\")"
   ]
  },
  {
   "cell_type": "markdown",
   "id": "c79b4151-14bb-4b18-a96c-e1fa94ea6f8c",
   "metadata": {},
   "source": [
    "### 7. Wap to search a string and replace it with another string (all occurrences)"
   ]
  },
  {
   "cell_type": "code",
   "execution_count": 13,
   "id": "58d0d9f4-aea7-425d-9888-084fe460c3b2",
   "metadata": {},
   "outputs": [
    {
     "name": "stdin",
     "output_type": "stream",
     "text": [
      "Enter file name:  ABC.txt\n",
      "Enter a word that you want to find:  Python\n",
      "Enter the word you want to replace with Python Python3\n"
     ]
    },
    {
     "name": "stdout",
     "output_type": "stream",
     "text": [
      "All occurrence of word have been replaced\n"
     ]
    }
   ],
   "source": [
    "def find_replace(fileName, findWord, replaceWord):\n",
    "    try:\n",
    "        with open(fileName, 'r') as file:\n",
    "            content = file.read()\n",
    "        replaceString = content.replace(findWord, replaceWord)\n",
    "        with open(fileName, 'w') as file:\n",
    "            file.write(replaceString)\n",
    "        print(\"All occurrence of word have been replaced\")\n",
    "        file.close()\n",
    "    except FileNotFoundError:\n",
    "        print(f\"The file {fileName} does not exist\")\n",
    "    except Exception as e:\n",
    "        print(f\"An error occurred: {e}\")\n",
    "\n",
    "fileName = input(\"Enter file name: \")\n",
    "find = input(\"Enter a word that you want to find: \")\n",
    "replace = input(f\"Enter the word you want to replace with {find}\")\n",
    "find_replace(fileName, find, replace)"
   ]
  },
  {
   "cell_type": "code",
   "execution_count": 74,
   "id": "21dcf0c7-b128-4374-8007-82119bea938a",
   "metadata": {},
   "outputs": [
    {
     "name": "stdout",
     "output_type": "stream",
     "text": [
      "12\n"
     ]
    }
   ],
   "source": [
    "x = 10\n",
    "y = 5\n",
    "z = 3\n",
    "ans = x+y%z\n",
    "print(ans)"
   ]
  },
  {
   "cell_type": "code",
   "execution_count": 75,
   "id": "f6af4cbc-d47d-42d0-be90-e6617daa6b29",
   "metadata": {},
   "outputs": [
    {
     "name": "stdout",
     "output_type": "stream",
     "text": [
      "1.8181818181818183 1.0 <class 'float'> <class 'float'>\n"
     ]
    }
   ],
   "source": [
    "j = 6\n",
    "g = 3.3\n",
    "n = j/g\n",
    "f=j//g\n",
    "\n",
    "print(n,f,type(n),type(f))"
   ]
  },
  {
   "cell_type": "code",
   "execution_count": 1,
   "id": "de9b37e2-329f-4b2f-9036-6908be59b697",
   "metadata": {},
   "outputs": [
    {
     "name": "stdin",
     "output_type": "stream",
     "text": [
      "enter the file name :  ABC.txt\n",
      "enter the word u want to find :  is\n"
     ]
    },
    {
     "name": "stdout",
     "output_type": "stream",
     "text": [
      "The word is occurred 1 times in the file 'ABC.txt'.\n"
     ]
    }
   ],
   "source": [
    "def find_word():\n",
    "    filename = input(\"enter the file name : \").strip('\"')\n",
    "    search = input(\"enter the word u want to find : \")\n",
    "\n",
    "    try:\n",
    "        with open(filename, 'r') as file:\n",
    "            content = file.read()\n",
    "            l = content.lower()\n",
    "            count = l.split().count(search.lower())\n",
    "            print(f\"The word {search} occurred {count} times in the file '{filename}'.\")\n",
    "\n",
    "    except FileNotFoundError:\n",
    "        print(f\"Error: The file '{filename}' was not found.\")\n",
    "\n",
    "\n",
    "find_word()\n",
    "\n",
    "\n",
    "\n"
   ]
  },
  {
   "cell_type": "code",
   "execution_count": 11,
   "id": "717b7311-474e-40c3-b58f-88aab8991954",
   "metadata": {},
   "outputs": [
    {
     "name": "stdout",
     "output_type": "stream",
     "text": [
      "0\n",
      "1\n",
      "2\n",
      "3\n"
     ]
    }
   ],
   "source": []
  },
  {
   "cell_type": "code",
   "execution_count": null,
   "id": "a3cc2134-eb6a-4092-bd3c-acd124ba36f9",
   "metadata": {},
   "outputs": [],
   "source": []
  }
 ],
 "metadata": {
  "kernelspec": {
   "display_name": "Python 3 (ipykernel)",
   "language": "python",
   "name": "python3"
  },
  "language_info": {
   "codemirror_mode": {
    "name": "ipython",
    "version": 3
   },
   "file_extension": ".py",
   "mimetype": "text/x-python",
   "name": "python",
   "nbconvert_exporter": "python",
   "pygments_lexer": "ipython3",
   "version": "3.11.5"
  }
 },
 "nbformat": 4,
 "nbformat_minor": 5
}
